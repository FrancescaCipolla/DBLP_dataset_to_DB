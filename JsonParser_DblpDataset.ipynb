{
 "cells": [
  {
   "cell_type": "markdown",
   "id": "5b757a2a-11d9-4981-bfdd-1bf12e0d82b8",
   "metadata": {
    "tags": []
   },
   "source": [
    "# Importazione dei moduli necessari+definizione variabili"
   ]
  },
  {
   "cell_type": "code",
   "execution_count": 2,
   "id": "f6d41eee-23bf-4e92-a242-e2b4233e0db0",
   "metadata": {},
   "outputs": [],
   "source": [
    "from import_dataset import *\n",
    "from analyze_df import *\n",
    "from manipulate_df import *\n",
    "from DB_connection import *"
   ]
  },
  {
   "cell_type": "code",
   "execution_count": 3,
   "id": "7f37e35a-e37b-4582-9011-45b469a814c8",
   "metadata": {},
   "outputs": [],
   "source": [
    "path='/Users/autoteamchannel/Downloads/DPLB+SIMPLETEXT/simpleText/task 1/corpus/dblp1.json'\n",
    "data='_source'"
   ]
  },
  {
   "cell_type": "markdown",
   "id": "e312b3da-bd7e-486e-be28-f18d5bf532f6",
   "metadata": {
    "tags": []
   },
   "source": [
    "# paper_df"
   ]
  },
  {
   "cell_type": "markdown",
   "id": "d366fda0-80be-4a50-84f4-5d74c64e0d26",
   "metadata": {
    "tags": []
   },
   "source": [
    "## Inizializzazione del DataFrame vuoto+inserimento degli elementi del Json nel DataFrame"
   ]
  },
  {
   "cell_type": "code",
   "execution_count": 4,
   "id": "6b4e8a10-3ff8-4e1d-ba43-aa88246a7834",
   "metadata": {},
   "outputs": [],
   "source": [
    "paper_df=initialize()\n",
    "\n",
    "#legge il json ed inserisce gli elementi del json nel df, rimuove le colonne authors e fos\n",
    "paper_df=read_json(paper_df,path,data,['authors','fos'])"
   ]
  },
  {
   "cell_type": "markdown",
   "id": "de8fe306-091a-4c74-a69b-f14c6fcb4fea",
   "metadata": {
    "tags": []
   },
   "source": [
    "## Analisi di paper_df\n"
   ]
  },
  {
   "cell_type": "code",
   "execution_count": 5,
   "id": "7a8ef96b-dd60-4214-9c6d-97c8fc902ac6",
   "metadata": {},
   "outputs": [
    {
     "data": {
      "text/html": [
       "<div>\n",
       "<style scoped>\n",
       "    .dataframe tbody tr th:only-of-type {\n",
       "        vertical-align: middle;\n",
       "    }\n",
       "\n",
       "    .dataframe tbody tr th {\n",
       "        vertical-align: top;\n",
       "    }\n",
       "\n",
       "    .dataframe thead th {\n",
       "        text-align: right;\n",
       "    }\n",
       "</style>\n",
       "<table border=\"1\" class=\"dataframe\">\n",
       "  <thead>\n",
       "    <tr style=\"text-align: right;\">\n",
       "      <th></th>\n",
       "      <th>id</th>\n",
       "      <th>title</th>\n",
       "      <th>year</th>\n",
       "      <th>n_citation</th>\n",
       "      <th>page_start</th>\n",
       "      <th>page_end</th>\n",
       "      <th>doc_type</th>\n",
       "      <th>publisher</th>\n",
       "      <th>volume</th>\n",
       "      <th>issue</th>\n",
       "      <th>...</th>\n",
       "      <th>nb_references</th>\n",
       "      <th>venue.raw</th>\n",
       "      <th>venue.id</th>\n",
       "      <th>venue.type</th>\n",
       "      <th>author.name</th>\n",
       "      <th>author.id</th>\n",
       "      <th>author.org</th>\n",
       "      <th>fos.name</th>\n",
       "      <th>fos.w</th>\n",
       "      <th>alias_ids</th>\n",
       "    </tr>\n",
       "  </thead>\n",
       "  <tbody>\n",
       "    <tr>\n",
       "      <th>0</th>\n",
       "      <td>339090091</td>\n",
       "      <td>Document Classification with Recommendation Ar...</td>\n",
       "      <td>2002</td>\n",
       "      <td>0</td>\n",
       "      <td></td>\n",
       "      <td></td>\n",
       "      <td>Conference</td>\n",
       "      <td></td>\n",
       "      <td></td>\n",
       "      <td></td>\n",
       "      <td>...</td>\n",
       "      <td>0</td>\n",
       "      <td>Australasian Document Computing Symposium</td>\n",
       "      <td>1147924868.0</td>\n",
       "      <td>C</td>\n",
       "      <td></td>\n",
       "      <td></td>\n",
       "      <td></td>\n",
       "      <td>NaN</td>\n",
       "      <td>NaN</td>\n",
       "      <td>NaN</td>\n",
       "    </tr>\n",
       "    <tr>\n",
       "      <th>1</th>\n",
       "      <td>339107753</td>\n",
       "      <td>Linking Operational Semantics and Algebraic Se...</td>\n",
       "      <td>2013</td>\n",
       "      <td>0</td>\n",
       "      <td>380</td>\n",
       "      <td>396</td>\n",
       "      <td>Conference</td>\n",
       "      <td>Springer, Berlin, Heidelberg</td>\n",
       "      <td></td>\n",
       "      <td></td>\n",
       "      <td>...</td>\n",
       "      <td>10</td>\n",
       "      <td>International Conference on Formal Engineering...</td>\n",
       "      <td>1133365479.0</td>\n",
       "      <td>C</td>\n",
       "      <td></td>\n",
       "      <td></td>\n",
       "      <td></td>\n",
       "      <td>NaN</td>\n",
       "      <td>NaN</td>\n",
       "      <td>NaN</td>\n",
       "    </tr>\n",
       "    <tr>\n",
       "      <th>2</th>\n",
       "      <td>339147017</td>\n",
       "      <td>On (p, q)-analogue of Bernstein operators</td>\n",
       "      <td>2015</td>\n",
       "      <td>114</td>\n",
       "      <td>874</td>\n",
       "      <td>882</td>\n",
       "      <td>Journal</td>\n",
       "      <td>Elsevier</td>\n",
       "      <td>266</td>\n",
       "      <td></td>\n",
       "      <td>...</td>\n",
       "      <td>8</td>\n",
       "      <td>Applied Mathematics and Computation</td>\n",
       "      <td>50372074.0</td>\n",
       "      <td>J</td>\n",
       "      <td></td>\n",
       "      <td></td>\n",
       "      <td></td>\n",
       "      <td>NaN</td>\n",
       "      <td>NaN</td>\n",
       "      <td>NaN</td>\n",
       "    </tr>\n",
       "    <tr>\n",
       "      <th>3</th>\n",
       "      <td>339159418</td>\n",
       "      <td>On the Number of Permutations Performable by E...</td>\n",
       "      <td>1987</td>\n",
       "      <td>0</td>\n",
       "      <td>461</td>\n",
       "      <td>470</td>\n",
       "      <td>Conference</td>\n",
       "      <td></td>\n",
       "      <td></td>\n",
       "      <td></td>\n",
       "      <td>...</td>\n",
       "      <td>0</td>\n",
       "      <td>International Conference on Parallel Processing</td>\n",
       "      <td>1155899826.0</td>\n",
       "      <td>C</td>\n",
       "      <td></td>\n",
       "      <td></td>\n",
       "      <td></td>\n",
       "      <td>NaN</td>\n",
       "      <td>NaN</td>\n",
       "      <td>NaN</td>\n",
       "    </tr>\n",
       "    <tr>\n",
       "      <th>4</th>\n",
       "      <td>337814053</td>\n",
       "      <td>Leveraging MARF for the Simulation of Securing...</td>\n",
       "      <td>2009</td>\n",
       "      <td>0</td>\n",
       "      <td>46</td>\n",
       "      <td></td>\n",
       "      <td></td>\n",
       "      <td></td>\n",
       "      <td></td>\n",
       "      <td></td>\n",
       "      <td>...</td>\n",
       "      <td>0</td>\n",
       "      <td>HSC</td>\n",
       "      <td>NaN</td>\n",
       "      <td>NaN</td>\n",
       "      <td></td>\n",
       "      <td></td>\n",
       "      <td></td>\n",
       "      <td>NaN</td>\n",
       "      <td>NaN</td>\n",
       "      <td>NaN</td>\n",
       "    </tr>\n",
       "    <tr>\n",
       "      <th>...</th>\n",
       "      <td>...</td>\n",
       "      <td>...</td>\n",
       "      <td>...</td>\n",
       "      <td>...</td>\n",
       "      <td>...</td>\n",
       "      <td>...</td>\n",
       "      <td>...</td>\n",
       "      <td>...</td>\n",
       "      <td>...</td>\n",
       "      <td>...</td>\n",
       "      <td>...</td>\n",
       "      <td>...</td>\n",
       "      <td>...</td>\n",
       "      <td>...</td>\n",
       "      <td>...</td>\n",
       "      <td>...</td>\n",
       "      <td>...</td>\n",
       "      <td>...</td>\n",
       "      <td>...</td>\n",
       "      <td>...</td>\n",
       "      <td>...</td>\n",
       "    </tr>\n",
       "    <tr>\n",
       "      <th>4894058</th>\n",
       "      <td>998678108</td>\n",
       "      <td>IEEE Seventh International Conference on Softw...</td>\n",
       "      <td>2014</td>\n",
       "      <td>0</td>\n",
       "      <td></td>\n",
       "      <td></td>\n",
       "      <td></td>\n",
       "      <td></td>\n",
       "      <td></td>\n",
       "      <td></td>\n",
       "      <td>...</td>\n",
       "      <td>0</td>\n",
       "      <td></td>\n",
       "      <td></td>\n",
       "      <td></td>\n",
       "      <td>NaN</td>\n",
       "      <td>NaN</td>\n",
       "      <td>NaN</td>\n",
       "      <td>NaN</td>\n",
       "      <td>NaN</td>\n",
       "      <td>NaN</td>\n",
       "    </tr>\n",
       "    <tr>\n",
       "      <th>4894059</th>\n",
       "      <td>99934447</td>\n",
       "      <td>Globalization of Consumer E-Commerce</td>\n",
       "      <td>2005</td>\n",
       "      <td>0</td>\n",
       "      <td>1293</td>\n",
       "      <td>1298</td>\n",
       "      <td>Conference</td>\n",
       "      <td>IGI Global</td>\n",
       "      <td></td>\n",
       "      <td></td>\n",
       "      <td>...</td>\n",
       "      <td>0</td>\n",
       "      <td>Encyclopedia of Information Science and Techno...</td>\n",
       "      <td>2755063974</td>\n",
       "      <td>C</td>\n",
       "      <td>NaN</td>\n",
       "      <td>NaN</td>\n",
       "      <td>NaN</td>\n",
       "      <td>NaN</td>\n",
       "      <td>NaN</td>\n",
       "      <td>NaN</td>\n",
       "    </tr>\n",
       "    <tr>\n",
       "      <th>4894060</th>\n",
       "      <td>99981893</td>\n",
       "      <td>Matrix-Padé fractions</td>\n",
       "      <td>1987</td>\n",
       "      <td>0</td>\n",
       "      <td>438</td>\n",
       "      <td>449</td>\n",
       "      <td>Conference</td>\n",
       "      <td>Springer, Berlin, Heidelberg</td>\n",
       "      <td></td>\n",
       "      <td></td>\n",
       "      <td>...</td>\n",
       "      <td>2</td>\n",
       "      <td>European Conference on Computer Algebra</td>\n",
       "      <td>2756322194</td>\n",
       "      <td>C</td>\n",
       "      <td>NaN</td>\n",
       "      <td>NaN</td>\n",
       "      <td>NaN</td>\n",
       "      <td>NaN</td>\n",
       "      <td>NaN</td>\n",
       "      <td>NaN</td>\n",
       "    </tr>\n",
       "    <tr>\n",
       "      <th>4894061</th>\n",
       "      <td>998260344</td>\n",
       "      <td>Deep Learning for Single-View Instance Recogni...</td>\n",
       "      <td>2015</td>\n",
       "      <td>11</td>\n",
       "      <td></td>\n",
       "      <td></td>\n",
       "      <td>Repository</td>\n",
       "      <td></td>\n",
       "      <td></td>\n",
       "      <td></td>\n",
       "      <td>...</td>\n",
       "      <td>48</td>\n",
       "      <td>arXiv: Computer Vision and Pattern Recognition</td>\n",
       "      <td>2597175965</td>\n",
       "      <td>J</td>\n",
       "      <td>NaN</td>\n",
       "      <td>NaN</td>\n",
       "      <td>NaN</td>\n",
       "      <td>NaN</td>\n",
       "      <td>NaN</td>\n",
       "      <td>NaN</td>\n",
       "    </tr>\n",
       "    <tr>\n",
       "      <th>4894062</th>\n",
       "      <td>99956490</td>\n",
       "      <td>Bemerkung zu Gurevich's Arbeit über das Entsch...</td>\n",
       "      <td>1978</td>\n",
       "      <td>0</td>\n",
       "      <td>111</td>\n",
       "      <td>114</td>\n",
       "      <td>Journal</td>\n",
       "      <td>Springer Science and Business Media LLC</td>\n",
       "      <td>19</td>\n",
       "      <td>1</td>\n",
       "      <td>...</td>\n",
       "      <td>3</td>\n",
       "      <td>Archive for Mathematical Logic</td>\n",
       "      <td>188076996</td>\n",
       "      <td>J</td>\n",
       "      <td>NaN</td>\n",
       "      <td>NaN</td>\n",
       "      <td>NaN</td>\n",
       "      <td>NaN</td>\n",
       "      <td>NaN</td>\n",
       "      <td>NaN</td>\n",
       "    </tr>\n",
       "  </tbody>\n",
       "</table>\n",
       "<p>4894063 rows × 23 columns</p>\n",
       "</div>"
      ],
      "text/plain": [
       "                id                                              title  year  \\\n",
       "0        339090091  Document Classification with Recommendation Ar...  2002   \n",
       "1        339107753  Linking Operational Semantics and Algebraic Se...  2013   \n",
       "2        339147017          On (p, q)-analogue of Bernstein operators  2015   \n",
       "3        339159418  On the Number of Permutations Performable by E...  1987   \n",
       "4        337814053  Leveraging MARF for the Simulation of Securing...  2009   \n",
       "...            ...                                                ...   ...   \n",
       "4894058  998678108  IEEE Seventh International Conference on Softw...  2014   \n",
       "4894059   99934447               Globalization of Consumer E-Commerce  2005   \n",
       "4894060   99981893                              Matrix-Padé fractions  1987   \n",
       "4894061  998260344  Deep Learning for Single-View Instance Recogni...  2015   \n",
       "4894062   99956490  Bemerkung zu Gurevich's Arbeit über das Entsch...  1978   \n",
       "\n",
       "         n_citation page_start page_end    doc_type  \\\n",
       "0                 0                      Conference   \n",
       "1                 0        380      396  Conference   \n",
       "2               114        874      882     Journal   \n",
       "3                 0        461      470  Conference   \n",
       "4                 0         46                        \n",
       "...             ...        ...      ...         ...   \n",
       "4894058           0                                   \n",
       "4894059           0       1293     1298  Conference   \n",
       "4894060           0        438      449  Conference   \n",
       "4894061          11                      Repository   \n",
       "4894062           0        111      114     Journal   \n",
       "\n",
       "                                       publisher volume issue  ...  \\\n",
       "0                                                              ...   \n",
       "1                   Springer, Berlin, Heidelberg               ...   \n",
       "2                                       Elsevier    266        ...   \n",
       "3                                                              ...   \n",
       "4                                                              ...   \n",
       "...                                          ...    ...   ...  ...   \n",
       "4894058                                                        ...   \n",
       "4894059                               IGI Global               ...   \n",
       "4894060             Springer, Berlin, Heidelberg               ...   \n",
       "4894061                                                        ...   \n",
       "4894062  Springer Science and Business Media LLC     19     1  ...   \n",
       "\n",
       "        nb_references                                          venue.raw  \\\n",
       "0                   0          Australasian Document Computing Symposium   \n",
       "1                  10  International Conference on Formal Engineering...   \n",
       "2                   8                Applied Mathematics and Computation   \n",
       "3                   0    International Conference on Parallel Processing   \n",
       "4                   0                                                HSC   \n",
       "...               ...                                                ...   \n",
       "4894058             0                                                      \n",
       "4894059             0  Encyclopedia of Information Science and Techno...   \n",
       "4894060             2            European Conference on Computer Algebra   \n",
       "4894061            48     arXiv: Computer Vision and Pattern Recognition   \n",
       "4894062             3                     Archive for Mathematical Logic   \n",
       "\n",
       "             venue.id  venue.type author.name author.id author.org fos.name  \\\n",
       "0        1147924868.0           C                                       NaN   \n",
       "1        1133365479.0           C                                       NaN   \n",
       "2          50372074.0           J                                       NaN   \n",
       "3        1155899826.0           C                                       NaN   \n",
       "4                 NaN         NaN                                       NaN   \n",
       "...               ...         ...         ...       ...        ...      ...   \n",
       "4894058                                   NaN       NaN        NaN      NaN   \n",
       "4894059    2755063974           C         NaN       NaN        NaN      NaN   \n",
       "4894060    2756322194           C         NaN       NaN        NaN      NaN   \n",
       "4894061    2597175965           J         NaN       NaN        NaN      NaN   \n",
       "4894062     188076996           J         NaN       NaN        NaN      NaN   \n",
       "\n",
       "        fos.w alias_ids  \n",
       "0         NaN       NaN  \n",
       "1         NaN       NaN  \n",
       "2         NaN       NaN  \n",
       "3         NaN       NaN  \n",
       "4         NaN       NaN  \n",
       "...       ...       ...  \n",
       "4894058   NaN       NaN  \n",
       "4894059   NaN       NaN  \n",
       "4894060   NaN       NaN  \n",
       "4894061   NaN       NaN  \n",
       "4894062   NaN       NaN  \n",
       "\n",
       "[4894063 rows x 23 columns]"
      ]
     },
     "execution_count": 5,
     "metadata": {},
     "output_type": "execute_result"
    }
   ],
   "source": [
    "paper_df"
   ]
  },
  {
   "cell_type": "code",
   "execution_count": 6,
   "id": "3f847777-b910-4611-8a6d-435cc67b6406",
   "metadata": {},
   "outputs": [
    {
     "name": "stdout",
     "output_type": "stream",
     "text": [
      "<class 'pandas.core.frame.DataFrame'>\n",
      "RangeIndex: 4894063 entries, 0 to 4894062\n",
      "Data columns (total 23 columns):\n",
      " #   Column         Non-Null Count    Dtype \n",
      "---  ------         --------------    ----- \n",
      " 0   id             4894063 non-null  int64 \n",
      " 1   title          4894063 non-null  object\n",
      " 2   year           4894063 non-null  int64 \n",
      " 3   n_citation     4894063 non-null  int64 \n",
      " 4   page_start     4894063 non-null  object\n",
      " 5   page_end       4894063 non-null  object\n",
      " 6   doc_type       4894063 non-null  object\n",
      " 7   publisher      4894063 non-null  object\n",
      " 8   volume         4894063 non-null  object\n",
      " 9   issue          4894063 non-null  object\n",
      " 10  doi            4894063 non-null  object\n",
      " 11  abstract       4894063 non-null  object\n",
      " 12  references     4894063 non-null  object\n",
      " 13  nb_references  4894063 non-null  int64 \n",
      " 14  venue.raw      4894063 non-null  object\n",
      " 15  venue.id       4419076 non-null  object\n",
      " 16  venue.type     4419078 non-null  object\n",
      " 17  author.name    3839999 non-null  object\n",
      " 18  author.id      3839999 non-null  object\n",
      " 19  author.org     3839999 non-null  object\n",
      " 20  fos.name       16680 non-null    object\n",
      " 21  fos.w          16680 non-null    object\n",
      " 22  alias_ids      21408 non-null    object\n",
      "dtypes: int64(4), object(19)\n",
      "memory usage: 858.8+ MB\n"
     ]
    }
   ],
   "source": [
    "info(paper_df)"
   ]
  },
  {
   "cell_type": "code",
   "execution_count": 7,
   "id": "016c2899-a988-4892-81b5-db9b8b0d73ba",
   "metadata": {},
   "outputs": [],
   "source": [
    "rename_columns(paper_df, {'id':'paper_id','venue.id': 'venue_id', 'venue.raw': 'venue_raw','venue.type':'venue_type'})"
   ]
  },
  {
   "cell_type": "code",
   "execution_count": 8,
   "id": "b0d720fc-36a3-4565-99de-19b8148e59b9",
   "metadata": {},
   "outputs": [
    {
     "name": "stdout",
     "output_type": "stream",
     "text": [
      "Percentuale di valori nulli per la colonna paper_id = 0.0%\n",
      "Percentuale di valori nulli per la colonna title = 0.0%\n",
      "Percentuale di valori nulli per la colonna year = 0.0%\n",
      "Percentuale di valori nulli per la colonna n_citation = 0.0%\n",
      "Percentuale di valori nulli per la colonna page_start = 10.989580640870376%\n",
      "Percentuale di valori nulli per la colonna page_end = 15.97310864204241%\n",
      "Percentuale di valori nulli per la colonna doc_type = 10.20503822692924%\n",
      "Percentuale di valori nulli per la colonna publisher = 15.526424567889707%\n",
      "Percentuale di valori nulli per la colonna volume = 55.391338444151614%\n",
      "Percentuale di valori nulli per la colonna issue = 66.93458993069767%\n",
      "Percentuale di valori nulli per la colonna doi = 19.88376528867732%\n",
      "Percentuale di valori nulli per la colonna abstract = 13.517582425890309%\n",
      "Percentuale di valori nulli per la colonna references = 22.822673104126366%\n",
      "Percentuale di valori nulli per la colonna nb_references = 0.0%\n",
      "Percentuale di valori nulli per la colonna venue_raw = 1.4934625892637672%\n",
      "Percentuale di valori nulli per la colonna venue_id = 10.667925607005877%\n",
      "Percentuale di valori nulli per la colonna venue_type = 10.667884741164958%\n",
      "Percentuale di valori nulli per la colonna author.name = 100.0%\n",
      "Percentuale di valori nulli per la colonna author.id = 100.0%\n",
      "Percentuale di valori nulli per la colonna author.org = 100.0%\n",
      "Percentuale di valori nulli per la colonna fos.name = 100.0%\n",
      "Percentuale di valori nulli per la colonna fos.w = 100.0%\n",
      "Percentuale di valori nulli per la colonna alias_ids = 99.56257203881519%\n"
     ]
    }
   ],
   "source": [
    "#calcola la percentuale di valori mancanti nel df\n",
    "miss_percentage(paper_df)"
   ]
  },
  {
   "cell_type": "code",
   "execution_count": 9,
   "id": "6c85ea67-2016-419a-9306-182dd006e08e",
   "metadata": {},
   "outputs": [],
   "source": [
    "del_columns(paper_df,['author.name','author.id','author.org','fos.name','fos.w'])"
   ]
  },
  {
   "cell_type": "code",
   "execution_count": 10,
   "id": "8ea5d5f5-3cbc-491c-a76d-8dba501bf9a7",
   "metadata": {},
   "outputs": [
    {
     "name": "stdout",
     "output_type": "stream",
     "text": [
      "<class 'pandas.core.frame.DataFrame'>\n",
      "RangeIndex: 4894063 entries, 0 to 4894062\n",
      "Data columns (total 18 columns):\n",
      " #   Column         Non-Null Count    Dtype  \n",
      "---  ------         --------------    -----  \n",
      " 0   paper_id       4894063 non-null  int64  \n",
      " 1   title          4894063 non-null  object \n",
      " 2   year           4894063 non-null  int64  \n",
      " 3   n_citation     4894063 non-null  int64  \n",
      " 4   page_start     4356226 non-null  object \n",
      " 5   page_end       4112329 non-null  object \n",
      " 6   doc_type       4394622 non-null  object \n",
      " 7   publisher      4134190 non-null  object \n",
      " 8   volume         2183176 non-null  object \n",
      " 9   issue          1618242 non-null  object \n",
      " 10  doi            3920939 non-null  object \n",
      " 11  abstract       4232504 non-null  object \n",
      " 12  references     3777107 non-null  object \n",
      " 13  nb_references  4894063 non-null  int64  \n",
      " 14  venue_raw      4820972 non-null  object \n",
      " 15  venue_id       4371968 non-null  float64\n",
      " 16  venue_type     4371970 non-null  object \n",
      " 17  alias_ids      21408 non-null    object \n",
      "dtypes: float64(1), int64(4), object(13)\n",
      "memory usage: 672.1+ MB\n"
     ]
    }
   ],
   "source": [
    "#sostituisce le stringhe ('') vuote con np.nan\n",
    "fill_with_nan(paper_df,'')"
   ]
  },
  {
   "cell_type": "code",
   "execution_count": 11,
   "id": "17cae9cd-dedd-4d30-950c-54bd9185e1f3",
   "metadata": {},
   "outputs": [
    {
     "name": "stdout",
     "output_type": "stream",
     "text": [
      "Percentuale di valori nulli per la colonna paper_id = 0.0%\n",
      "Percentuale di valori nulli per la colonna title = 0.0%\n",
      "Percentuale di valori nulli per la colonna year = 0.0%\n",
      "Percentuale di valori nulli per la colonna n_citation = 0.0%\n",
      "Percentuale di valori nulli per la colonna page_start = 10.989580640870376%\n",
      "Percentuale di valori nulli per la colonna page_end = 15.97310864204241%\n",
      "Percentuale di valori nulli per la colonna doc_type = 10.20503822692924%\n",
      "Percentuale di valori nulli per la colonna publisher = 15.526424567889707%\n",
      "Percentuale di valori nulli per la colonna volume = 55.391338444151614%\n",
      "Percentuale di valori nulli per la colonna issue = 66.93458993069767%\n",
      "Percentuale di valori nulli per la colonna doi = 19.88376528867732%\n",
      "Percentuale di valori nulli per la colonna abstract = 13.517582425890309%\n",
      "Percentuale di valori nulli per la colonna references = 22.822673104126366%\n",
      "Percentuale di valori nulli per la colonna nb_references = 0.0%\n",
      "Percentuale di valori nulli per la colonna venue_raw = 1.4934625892637672%\n",
      "Percentuale di valori nulli per la colonna venue_id = 10.667925607005877%\n",
      "Percentuale di valori nulli per la colonna venue_type = 10.667884741164958%\n",
      "Percentuale di valori nulli per la colonna alias_ids = 99.56257203881519%\n"
     ]
    }
   ],
   "source": [
    "#calcola la percentuale di valori nan nel df\n",
    "nan_percentage(paper_df)"
   ]
  },
  {
   "cell_type": "markdown",
   "id": "f439d748-7936-47e5-aef8-dc78be786712",
   "metadata": {
    "tags": []
   },
   "source": [
    "## DataFrame references"
   ]
  },
  {
   "cell_type": "code",
   "execution_count": 12,
   "id": "67a8390a-f07b-4515-9709-12eb9bc2a6d4",
   "metadata": {},
   "outputs": [],
   "source": [
    "reference_df=paper_df[['paper_id','nb_references','references']]"
   ]
  },
  {
   "cell_type": "code",
   "execution_count": 13,
   "id": "0fbf5ec9-8fd3-444a-9a1f-e2ebe806ccbe",
   "metadata": {},
   "outputs": [],
   "source": [
    "#seleziona solo le righe che hanno almeno una reference, ossia quelle per cui nb_reference!=0\n",
    "reference_df=reference_df[reference_df['nb_references']!=0]\n",
    "\n",
    "#crea il dataframe per reference espandendo la colonna references di reference_df\n",
    "#per trasformare ogni elemento della lista di reference in una riga del dataframe con il relativo id associato\n",
    "reference=expand_column(reference_df,'references')"
   ]
  },
  {
   "cell_type": "code",
   "execution_count": 14,
   "id": "cf49efa7-9321-4802-873f-945cb2457611",
   "metadata": {},
   "outputs": [
    {
     "name": "stdout",
     "output_type": "stream",
     "text": [
      "<class 'pandas.core.frame.DataFrame'>\n",
      "RangeIndex: 45564149 entries, 0 to 45564148\n",
      "Data columns (total 3 columns):\n",
      " #   Column         Non-Null Count     Dtype \n",
      "---  ------         --------------     ----- \n",
      " 0   paper_id       45564149 non-null  int64 \n",
      " 1   nb_references  45564149 non-null  int64 \n",
      " 2   references     45564149 non-null  object\n",
      "dtypes: int64(2), object(1)\n",
      "memory usage: 1.0+ GB\n"
     ]
    }
   ],
   "source": [
    "info(reference)"
   ]
  },
  {
   "cell_type": "code",
   "execution_count": 15,
   "id": "bc1e59e5-1cd2-4567-bccf-44c3d7e2d963",
   "metadata": {},
   "outputs": [
    {
     "data": {
      "text/html": [
       "<div>\n",
       "<style scoped>\n",
       "    .dataframe tbody tr th:only-of-type {\n",
       "        vertical-align: middle;\n",
       "    }\n",
       "\n",
       "    .dataframe tbody tr th {\n",
       "        vertical-align: top;\n",
       "    }\n",
       "\n",
       "    .dataframe thead th {\n",
       "        text-align: right;\n",
       "    }\n",
       "</style>\n",
       "<table border=\"1\" class=\"dataframe\">\n",
       "  <thead>\n",
       "    <tr style=\"text-align: right;\">\n",
       "      <th></th>\n",
       "      <th>paper_id</th>\n",
       "      <th>nb_references</th>\n",
       "      <th>references</th>\n",
       "    </tr>\n",
       "  </thead>\n",
       "  <tbody>\n",
       "  </tbody>\n",
       "</table>\n",
       "</div>"
      ],
      "text/plain": [
       "Empty DataFrame\n",
       "Columns: [paper_id, nb_references, references]\n",
       "Index: []"
      ]
     },
     "execution_count": 15,
     "metadata": {},
     "output_type": "execute_result"
    }
   ],
   "source": [
    "check_duplicates(reference,['paper_id','references'])"
   ]
  },
  {
   "cell_type": "code",
   "execution_count": 16,
   "id": "61e3d6be-7e7a-4df4-a359-5b6aa79eeaa0",
   "metadata": {},
   "outputs": [],
   "source": [
    "del_columns(reference,['nb_references'])"
   ]
  },
  {
   "cell_type": "code",
   "execution_count": 17,
   "id": "d2c8a51c-25de-408a-b717-9266baff594d",
   "metadata": {},
   "outputs": [],
   "source": [
    "cast_to(reference,'references','int64')"
   ]
  },
  {
   "cell_type": "code",
   "execution_count": 18,
   "id": "c194af69-a384-4df2-84bc-18eea1419f1a",
   "metadata": {},
   "outputs": [
    {
     "name": "stdout",
     "output_type": "stream",
     "text": [
      "<class 'pandas.core.frame.DataFrame'>\n",
      "RangeIndex: 45564149 entries, 0 to 45564148\n",
      "Data columns (total 2 columns):\n",
      " #   Column      Non-Null Count     Dtype\n",
      "---  ------      --------------     -----\n",
      " 0   paper_id    45564149 non-null  int64\n",
      " 1   references  45564149 non-null  int64\n",
      "dtypes: int64(2)\n",
      "memory usage: 695.3 MB\n"
     ]
    }
   ],
   "source": [
    "info(reference)"
   ]
  },
  {
   "cell_type": "code",
   "execution_count": 19,
   "id": "b6b0d1e5-2d9b-4cb5-b0a8-41e31fefdffb",
   "metadata": {},
   "outputs": [],
   "source": [
    "rename_columns(reference,{'references':'referenced'})"
   ]
  },
  {
   "cell_type": "markdown",
   "id": "22ddb6db-5806-4560-97fd-7620f117ff9b",
   "metadata": {
    "tags": []
   },
   "source": [
    "## DataFrame alias_id e with_alias"
   ]
  },
  {
   "cell_type": "code",
   "execution_count": 20,
   "id": "b9398af5-1d43-4005-a048-642bd4ac87cf",
   "metadata": {},
   "outputs": [],
   "source": [
    "alias_id_df=paper_df[['paper_id','alias_ids']]"
   ]
  },
  {
   "cell_type": "code",
   "execution_count": 21,
   "id": "ad55f876-dc3c-490a-9816-be70808bb7a0",
   "metadata": {},
   "outputs": [],
   "source": [
    "#seleziono solo le righe per cui alias_ids NON è nullo\n",
    "alias_id_df=alias_id_df[alias_id_df['alias_ids'].notna()]"
   ]
  },
  {
   "cell_type": "code",
   "execution_count": 22,
   "id": "385f342d-32e6-4a7a-9292-49c313f8b2ef",
   "metadata": {},
   "outputs": [],
   "source": [
    "#crea il dataframe with_alias espandendo la colonna alias_ids di alias_id_df\n",
    "with_alias=expand_column(alias_id_df,'alias_ids')"
   ]
  },
  {
   "cell_type": "code",
   "execution_count": 23,
   "id": "c608e1eb-5ff9-42c7-bc08-3c9fd7ed84bb",
   "metadata": {},
   "outputs": [
    {
     "data": {
      "text/html": [
       "<div>\n",
       "<style scoped>\n",
       "    .dataframe tbody tr th:only-of-type {\n",
       "        vertical-align: middle;\n",
       "    }\n",
       "\n",
       "    .dataframe tbody tr th {\n",
       "        vertical-align: top;\n",
       "    }\n",
       "\n",
       "    .dataframe thead th {\n",
       "        text-align: right;\n",
       "    }\n",
       "</style>\n",
       "<table border=\"1\" class=\"dataframe\">\n",
       "  <thead>\n",
       "    <tr style=\"text-align: right;\">\n",
       "      <th></th>\n",
       "      <th>paper_id</th>\n",
       "      <th>alias_ids</th>\n",
       "    </tr>\n",
       "  </thead>\n",
       "  <tbody>\n",
       "  </tbody>\n",
       "</table>\n",
       "</div>"
      ],
      "text/plain": [
       "Empty DataFrame\n",
       "Columns: [paper_id, alias_ids]\n",
       "Index: []"
      ]
     },
     "execution_count": 23,
     "metadata": {},
     "output_type": "execute_result"
    }
   ],
   "source": [
    "check_duplicates(with_alias,['paper_id','alias_ids'])"
   ]
  },
  {
   "cell_type": "code",
   "execution_count": 24,
   "id": "b4193c9a-ecf9-452d-8a15-2379b2fe3dd7",
   "metadata": {},
   "outputs": [
    {
     "data": {
      "text/html": [
       "<div>\n",
       "<style scoped>\n",
       "    .dataframe tbody tr th:only-of-type {\n",
       "        vertical-align: middle;\n",
       "    }\n",
       "\n",
       "    .dataframe tbody tr th {\n",
       "        vertical-align: top;\n",
       "    }\n",
       "\n",
       "    .dataframe thead th {\n",
       "        text-align: right;\n",
       "    }\n",
       "</style>\n",
       "<table border=\"1\" class=\"dataframe\">\n",
       "  <thead>\n",
       "    <tr style=\"text-align: right;\">\n",
       "      <th></th>\n",
       "      <th>paper_id</th>\n",
       "      <th>alias_ids</th>\n",
       "    </tr>\n",
       "  </thead>\n",
       "  <tbody>\n",
       "  </tbody>\n",
       "</table>\n",
       "</div>"
      ],
      "text/plain": [
       "Empty DataFrame\n",
       "Columns: [paper_id, alias_ids]\n",
       "Index: []"
      ]
     },
     "execution_count": 24,
     "metadata": {},
     "output_type": "execute_result"
    }
   ],
   "source": [
    "check_duplicates(with_alias,['alias_ids'])"
   ]
  },
  {
   "cell_type": "code",
   "execution_count": 25,
   "id": "56095657-3dee-4bbd-b6d0-dd000d2331a9",
   "metadata": {},
   "outputs": [
    {
     "data": {
      "text/plain": [
       "False"
      ]
     },
     "execution_count": 25,
     "metadata": {},
     "output_type": "execute_result"
    }
   ],
   "source": [
    "#controlla se i valori di alias_ids sono contenuti nella colonna id di paper\n",
    "(with_alias['alias_ids']).isin(paper_df['paper_id']).any()"
   ]
  },
  {
   "cell_type": "code",
   "execution_count": 26,
   "id": "8ecb6ba8-a969-412f-a52b-4318822bb47d",
   "metadata": {},
   "outputs": [
    {
     "name": "stdout",
     "output_type": "stream",
     "text": [
      "<class 'pandas.core.frame.DataFrame'>\n",
      "RangeIndex: 77909 entries, 0 to 77908\n",
      "Data columns (total 2 columns):\n",
      " #   Column     Non-Null Count  Dtype \n",
      "---  ------     --------------  ----- \n",
      " 0   paper_id   77909 non-null  int64 \n",
      " 1   alias_ids  77909 non-null  object\n",
      "dtypes: int64(1), object(1)\n",
      "memory usage: 1.2+ MB\n"
     ]
    }
   ],
   "source": [
    "info(with_alias)"
   ]
  },
  {
   "cell_type": "code",
   "execution_count": 27,
   "id": "989efa58-24f3-4ada-b068-2f34e97cd681",
   "metadata": {},
   "outputs": [],
   "source": [
    "cast_to(with_alias,'alias_ids','int64')"
   ]
  },
  {
   "cell_type": "code",
   "execution_count": 28,
   "id": "ef1ddca9-1fdf-46b3-a49f-232a7660e7c4",
   "metadata": {},
   "outputs": [],
   "source": [
    "#crea il dataframe (series) per alias_id\n",
    "alias_id=with_alias['alias_ids']"
   ]
  },
  {
   "cell_type": "markdown",
   "id": "27bbc5a5-2263-476b-9248-7264299a82dc",
   "metadata": {
    "tags": []
   },
   "source": [
    "## Elaborazione paper_df"
   ]
  },
  {
   "cell_type": "code",
   "execution_count": 29,
   "id": "cec65646-6bdc-4b04-adab-2718c6e3c34b",
   "metadata": {},
   "outputs": [],
   "source": [
    "#elimina la colonna alias_ids e references\n",
    "del_columns(paper_df,['alias_ids','references'])"
   ]
  },
  {
   "cell_type": "code",
   "execution_count": 30,
   "id": "c4b538a1-e4c9-4800-ac31-07e291cdfc70",
   "metadata": {},
   "outputs": [
    {
     "data": {
      "text/plain": [
       "array(['Conference', 'Journal', nan, 'Book', 'Repository', 'Patent',\n",
       "       'BookChapter'], dtype=object)"
      ]
     },
     "execution_count": 30,
     "metadata": {},
     "output_type": "execute_result"
    }
   ],
   "source": [
    "#verifica che ci siano un nr. limitato di valori per doc_type per eseguire il cast a category\n",
    "paper_df['doc_type'].unique()"
   ]
  },
  {
   "cell_type": "code",
   "execution_count": 31,
   "id": "de1eb760-5f70-4314-815f-88a0d610d313",
   "metadata": {},
   "outputs": [
    {
     "data": {
      "text/plain": [
       "array(['C', 'J', nan], dtype=object)"
      ]
     },
     "execution_count": 31,
     "metadata": {},
     "output_type": "execute_result"
    }
   ],
   "source": [
    "#verifica che ci siano un nr. limitato di valori per venue_type per eseguire il cast a category\n",
    "paper_df['venue_type'].unique()"
   ]
  },
  {
   "cell_type": "code",
   "execution_count": 32,
   "id": "954f0f07-7bb9-4d98-bcb9-918f7b79ec50",
   "metadata": {},
   "outputs": [],
   "source": [
    "#tenta il cast a bigint, non è possibile usare to_numeric perchè contiene valori Nan\n",
    "cast_to(paper_df,'volume','Int64')\n",
    "cast_to(paper_df,'issue','Int64')"
   ]
  },
  {
   "cell_type": "code",
   "execution_count": 33,
   "id": "94f690c7-c569-4052-a296-5fd16b5bfaab",
   "metadata": {},
   "outputs": [
    {
     "name": "stdout",
     "output_type": "stream",
     "text": [
      "Colonna paper_id : valore massimo 3009038462, valore minimo 1091\n",
      "Colonna year : valore massimo 2020, valore minimo 1800\n",
      "Colonna n_citation : valore massimo 48327, valore minimo 0\n",
      "Colonna volume : valore massimo 9783642544323, valore minimo -11\n",
      "Colonna issue : valore massimo 9789812879356, valore minimo -77\n",
      "Colonna nb_references : valore massimo 1812, valore minimo 0\n",
      "Colonna venue_id : valore massimo 2996807011.0, valore minimo 182001.0\n"
     ]
    }
   ],
   "source": [
    "#controlla i valori massimi e minimi per capire a quale tipo di intero eseguire il cast\n",
    "check_max_min(paper_df)"
   ]
  },
  {
   "cell_type": "code",
   "execution_count": 34,
   "id": "1f63f14f-ee8f-416b-a12d-5dcf99cc2642",
   "metadata": {},
   "outputs": [
    {
     "name": "stdout",
     "output_type": "stream",
     "text": [
      "<class 'pandas.core.frame.DataFrame'>\n",
      "RangeIndex: 4894063 entries, 0 to 4894062\n",
      "Data columns (total 16 columns):\n",
      " #   Column         Non-Null Count    Dtype   \n",
      "---  ------         --------------    -----   \n",
      " 0   paper_id       4894063 non-null  int64   \n",
      " 1   title          4894063 non-null  object  \n",
      " 2   year           4894063 non-null  int16   \n",
      " 3   n_citation     4894063 non-null  int16   \n",
      " 4   page_start     4356226 non-null  object  \n",
      " 5   page_end       4112329 non-null  object  \n",
      " 6   doc_type       4394622 non-null  category\n",
      " 7   publisher      4134190 non-null  object  \n",
      " 8   volume         2183176 non-null  Int64   \n",
      " 9   issue          1618242 non-null  Int64   \n",
      " 10  doi            3920939 non-null  object  \n",
      " 11  abstract       4232504 non-null  object  \n",
      " 12  nb_references  4894063 non-null  int16   \n",
      " 13  venue_raw      4820972 non-null  object  \n",
      " 14  venue_id       4371968 non-null  Int64   \n",
      " 15  venue_type     4371970 non-null  category\n",
      "dtypes: Int64(3), category(2), int16(3), int64(1), object(7)\n",
      "memory usage: 462.1+ MB\n"
     ]
    }
   ],
   "source": [
    "cast_to(paper_df,'doc_type','category')\n",
    "cast_to(paper_df,'venue_type','category')\n",
    "\n",
    "#esegue il cast della colonna venue_id di paper_df affinchè sia di tipo Int64 (pandas ExtensionDtype, per usare il tipo int con valori mancanti)\n",
    "cast_to(paper_df,'venue_id','Int64')\n",
    "\n",
    "cast_to(paper_df,'year','int16')\n",
    "cast_to(paper_df,'n_citation','int16')\n",
    "cast_to(paper_df,'nb_references','int16')\n",
    "\n",
    "info(paper_df)"
   ]
  },
  {
   "cell_type": "code",
   "execution_count": 35,
   "id": "dfeef82a-8506-43a7-9b44-81312ed8dd8d",
   "metadata": {},
   "outputs": [
    {
     "name": "stdout",
     "output_type": "stream",
     "text": [
      "40870     Making Micrologic: The Development of the Plan...\n",
      "76296     Enhanced CSMA&#x002F;CA Protocol Design for In...\n",
      "89913     NOMA&#x002F;OMA Mode Selection-Based Cell-Free...\n",
      "108143                                 Me &#x2014; Your ISP\n",
      "144497    Proportional Fairness in Wireless Powered CSMA...\n",
      "Name: title, dtype: object\n",
      "            \n",
      "Series([], Name: page_start, dtype: object)\n",
      "            \n",
      "Series([], Name: page_end, dtype: object)\n",
      "            \n",
      "Series([], Name: publisher, dtype: object)\n",
      "            \n",
      "Series([], Name: doi, dtype: object)\n",
      "            \n",
      "Series([], Name: abstract, dtype: object)\n",
      "            \n",
      "Series([], Name: venue_raw, dtype: object)\n",
      "            \n"
     ]
    }
   ],
   "source": [
    "#verifica quali colonne nel df contengono i caratteri speciali (riferimento a carattere numerico html), formato '&#x[HEX];'\n",
    "column_with_special_char(paper_df,'&#x')"
   ]
  },
  {
   "cell_type": "code",
   "execution_count": 36,
   "id": "b03a272f-3df0-4663-951f-9129652d8cd7",
   "metadata": {},
   "outputs": [],
   "source": [
    "#decodifica le entità carattere\n",
    "unescape_special_char(paper_df)"
   ]
  },
  {
   "cell_type": "markdown",
   "id": "590e5991-05ee-422f-9302-9467b0aa361d",
   "metadata": {
    "tags": []
   },
   "source": [
    "## DataFrame venue"
   ]
  },
  {
   "cell_type": "code",
   "execution_count": 37,
   "id": "ee4c5265-9247-4dea-91c4-0c3b4478b031",
   "metadata": {},
   "outputs": [],
   "source": [
    "venue=paper_df[['venue_id','venue_raw','venue_type']]"
   ]
  },
  {
   "cell_type": "code",
   "execution_count": 38,
   "id": "fabc65c0-479d-474a-8be7-81e3e2de76fe",
   "metadata": {},
   "outputs": [
    {
     "data": {
      "text/html": [
       "<div>\n",
       "<style scoped>\n",
       "    .dataframe tbody tr th:only-of-type {\n",
       "        vertical-align: middle;\n",
       "    }\n",
       "\n",
       "    .dataframe tbody tr th {\n",
       "        vertical-align: top;\n",
       "    }\n",
       "\n",
       "    .dataframe thead th {\n",
       "        text-align: right;\n",
       "    }\n",
       "</style>\n",
       "<table border=\"1\" class=\"dataframe\">\n",
       "  <thead>\n",
       "    <tr style=\"text-align: right;\">\n",
       "      <th></th>\n",
       "      <th>venue_id</th>\n",
       "      <th>venue_raw</th>\n",
       "      <th>venue_type</th>\n",
       "    </tr>\n",
       "  </thead>\n",
       "  <tbody>\n",
       "    <tr>\n",
       "      <th>30080</th>\n",
       "      <td>235346</td>\n",
       "      <td>Wireless Communications and Mobile Computing</td>\n",
       "      <td>J</td>\n",
       "    </tr>\n",
       "    <tr>\n",
       "      <th>34892</th>\n",
       "      <td>235346</td>\n",
       "      <td>Wireless Communications and Mobile Computing</td>\n",
       "      <td>J</td>\n",
       "    </tr>\n",
       "    <tr>\n",
       "      <th>36549</th>\n",
       "      <td>235346</td>\n",
       "      <td>Wireless Communications and Mobile Computing</td>\n",
       "      <td>J</td>\n",
       "    </tr>\n",
       "    <tr>\n",
       "      <th>44569</th>\n",
       "      <td>235346</td>\n",
       "      <td>Wireless Communications and Mobile Computing</td>\n",
       "      <td>J</td>\n",
       "    </tr>\n",
       "    <tr>\n",
       "      <th>45877</th>\n",
       "      <td>235346</td>\n",
       "      <td>Wireless Communications and Mobile Computing</td>\n",
       "      <td>J</td>\n",
       "    </tr>\n",
       "    <tr>\n",
       "      <th>...</th>\n",
       "      <td>...</td>\n",
       "      <td>...</td>\n",
       "      <td>...</td>\n",
       "    </tr>\n",
       "    <tr>\n",
       "      <th>4894048</th>\n",
       "      <td>&lt;NA&gt;</td>\n",
       "      <td>NaN</td>\n",
       "      <td>NaN</td>\n",
       "    </tr>\n",
       "    <tr>\n",
       "      <th>4894053</th>\n",
       "      <td>&lt;NA&gt;</td>\n",
       "      <td>NaN</td>\n",
       "      <td>NaN</td>\n",
       "    </tr>\n",
       "    <tr>\n",
       "      <th>4894054</th>\n",
       "      <td>&lt;NA&gt;</td>\n",
       "      <td>NaN</td>\n",
       "      <td>NaN</td>\n",
       "    </tr>\n",
       "    <tr>\n",
       "      <th>4894055</th>\n",
       "      <td>&lt;NA&gt;</td>\n",
       "      <td>NaN</td>\n",
       "      <td>NaN</td>\n",
       "    </tr>\n",
       "    <tr>\n",
       "      <th>4894058</th>\n",
       "      <td>&lt;NA&gt;</td>\n",
       "      <td>NaN</td>\n",
       "      <td>NaN</td>\n",
       "    </tr>\n",
       "  </tbody>\n",
       "</table>\n",
       "<p>4868222 rows × 3 columns</p>\n",
       "</div>"
      ],
      "text/plain": [
       "         venue_id                                     venue_raw venue_type\n",
       "30080      235346  Wireless Communications and Mobile Computing          J\n",
       "34892      235346  Wireless Communications and Mobile Computing          J\n",
       "36549      235346  Wireless Communications and Mobile Computing          J\n",
       "44569      235346  Wireless Communications and Mobile Computing          J\n",
       "45877      235346  Wireless Communications and Mobile Computing          J\n",
       "...           ...                                           ...        ...\n",
       "4894048      <NA>                                           NaN        NaN\n",
       "4894053      <NA>                                           NaN        NaN\n",
       "4894054      <NA>                                           NaN        NaN\n",
       "4894055      <NA>                                           NaN        NaN\n",
       "4894058      <NA>                                           NaN        NaN\n",
       "\n",
       "[4868222 rows x 3 columns]"
      ]
     },
     "execution_count": 38,
     "metadata": {},
     "output_type": "execute_result"
    }
   ],
   "source": [
    "check_duplicates(venue,['venue_id','venue_raw','venue_type'])"
   ]
  },
  {
   "cell_type": "code",
   "execution_count": 39,
   "id": "2652e0de-729d-4c61-b970-1d20ab32ec71",
   "metadata": {},
   "outputs": [
    {
     "name": "stderr",
     "output_type": "stream",
     "text": [
      "/Users/autoteamchannel/Desktop/tesi/scripts/manipulate_df.py:12: SettingWithCopyWarning: \n",
      "A value is trying to be set on a copy of a slice from a DataFrame\n",
      "\n",
      "See the caveats in the documentation: https://pandas.pydata.org/pandas-docs/stable/user_guide/indexing.html#returning-a-view-versus-a-copy\n",
      "  df.dropna(axis='index', #effettua l'eliminazione lungo l'asse degli indici\n"
     ]
    },
    {
     "name": "stdout",
     "output_type": "stream",
     "text": [
      "<class 'pandas.core.frame.DataFrame'>\n",
      "RangeIndex: 49202 entries, 0 to 49201\n",
      "Data columns (total 3 columns):\n",
      " #   Column      Non-Null Count  Dtype   \n",
      "---  ------      --------------  -----   \n",
      " 0   venue_id    10480 non-null  Int64   \n",
      " 1   venue_raw   49201 non-null  object  \n",
      " 2   venue_type  10482 non-null  category\n",
      "dtypes: Int64(1), category(1), object(1)\n",
      "memory usage: 865.1+ KB\n"
     ]
    },
    {
     "name": "stderr",
     "output_type": "stream",
     "text": [
      "/Users/autoteamchannel/Desktop/tesi/scripts/manipulate_df.py:15: SettingWithCopyWarning: \n",
      "A value is trying to be set on a copy of a slice from a DataFrame\n",
      "\n",
      "See the caveats in the documentation: https://pandas.pydata.org/pandas-docs/stable/user_guide/indexing.html#returning-a-view-versus-a-copy\n",
      "  df.drop_duplicates(inplace=True, #effettua l'operazione sul dataframe anzichè restituire una copia\n"
     ]
    }
   ],
   "source": [
    "#elimina valori nulli e duplicati da venue\n",
    "del_null_duplicates(venue)"
   ]
  },
  {
   "cell_type": "markdown",
   "id": "6f0c1959-743b-4e23-a905-aca603152aee",
   "metadata": {
    "tags": []
   },
   "source": [
    "### Verifica la presenza di duplicati a causa di dati mancanti nei record di venue"
   ]
  },
  {
   "cell_type": "code",
   "execution_count": 40,
   "id": "e69eeb81-c2e8-434a-8cca-14ab2488f7ca",
   "metadata": {},
   "outputs": [
    {
     "data": {
      "text/html": [
       "<div>\n",
       "<style scoped>\n",
       "    .dataframe tbody tr th:only-of-type {\n",
       "        vertical-align: middle;\n",
       "    }\n",
       "\n",
       "    .dataframe tbody tr th {\n",
       "        vertical-align: top;\n",
       "    }\n",
       "\n",
       "    .dataframe thead th {\n",
       "        text-align: right;\n",
       "    }\n",
       "</style>\n",
       "<table border=\"1\" class=\"dataframe\">\n",
       "  <thead>\n",
       "    <tr style=\"text-align: right;\">\n",
       "      <th></th>\n",
       "      <th>venue_id</th>\n",
       "      <th>venue_raw</th>\n",
       "      <th>venue_type</th>\n",
       "    </tr>\n",
       "  </thead>\n",
       "  <tbody>\n",
       "  </tbody>\n",
       "</table>\n",
       "</div>"
      ],
      "text/plain": [
       "Empty DataFrame\n",
       "Columns: [venue_id, venue_raw, venue_type]\n",
       "Index: []"
      ]
     },
     "execution_count": 40,
     "metadata": {},
     "output_type": "execute_result"
    }
   ],
   "source": [
    "#controlla duplicati sul sottoinsieme venue_id e venue_raw\n",
    "check_duplicates(venue,['venue_id','venue_raw']) "
   ]
  },
  {
   "cell_type": "code",
   "execution_count": 41,
   "id": "9b70cebe-e36d-487e-b0f4-0bb276d87b8b",
   "metadata": {},
   "outputs": [
    {
     "data": {
      "text/html": [
       "<div>\n",
       "<style scoped>\n",
       "    .dataframe tbody tr th:only-of-type {\n",
       "        vertical-align: middle;\n",
       "    }\n",
       "\n",
       "    .dataframe tbody tr th {\n",
       "        vertical-align: top;\n",
       "    }\n",
       "\n",
       "    .dataframe thead th {\n",
       "        text-align: right;\n",
       "    }\n",
       "</style>\n",
       "<table border=\"1\" class=\"dataframe\">\n",
       "  <thead>\n",
       "    <tr style=\"text-align: right;\">\n",
       "      <th></th>\n",
       "      <th>venue_id</th>\n",
       "      <th>venue_raw</th>\n",
       "      <th>venue_type</th>\n",
       "    </tr>\n",
       "  </thead>\n",
       "  <tbody>\n",
       "    <tr>\n",
       "      <th>224</th>\n",
       "      <td>2595313807</td>\n",
       "      <td>arXiv: Numerical Analysis</td>\n",
       "      <td>J</td>\n",
       "    </tr>\n",
       "    <tr>\n",
       "      <th>8552</th>\n",
       "      <td>2595836090</td>\n",
       "      <td>arXiv: Numerical Analysis</td>\n",
       "      <td>J</td>\n",
       "    </tr>\n",
       "  </tbody>\n",
       "</table>\n",
       "</div>"
      ],
      "text/plain": [
       "        venue_id                  venue_raw venue_type\n",
       "224   2595313807  arXiv: Numerical Analysis          J\n",
       "8552  2595836090  arXiv: Numerical Analysis          J"
      ]
     },
     "execution_count": 41,
     "metadata": {},
     "output_type": "execute_result"
    }
   ],
   "source": [
    "#controlla duplicati sul sottoinsieme venue_type e venue_raw, ci sono due valori omonimi su venue_raw con id differenti, vengono considerati come due record differenti\n",
    "check_duplicates(venue,['venue_raw','venue_type'])"
   ]
  },
  {
   "cell_type": "code",
   "execution_count": 42,
   "id": "4245e7bd-08d6-45f0-9cb4-8bf2dcb502f3",
   "metadata": {},
   "outputs": [
    {
     "name": "stdout",
     "output_type": "stream",
     "text": [
      "<class 'pandas.core.frame.DataFrame'>\n",
      "Int64Index: 38722 entries, 6961 to 49201\n",
      "Data columns (total 3 columns):\n",
      " #   Column      Non-Null Count  Dtype   \n",
      "---  ------      --------------  -----   \n",
      " 0   venue_id    0 non-null      Int64   \n",
      " 1   venue_raw   38721 non-null  object  \n",
      " 2   venue_type  2 non-null      category\n",
      "dtypes: Int64(1), category(1), object(1)\n",
      "memory usage: 983.3+ KB\n"
     ]
    }
   ],
   "source": [
    "#controlla duplicati sul sottoinsieme venue_id e venue_type, li salva in un dataframe temporaneo\n",
    "venue_null=check_duplicates(venue,['venue_id','venue_type'])\n",
    "info(venue_null)"
   ]
  },
  {
   "cell_type": "code",
   "execution_count": 43,
   "id": "88d73cf5-1d31-4ee7-9cc3-95789c8b21b7",
   "metadata": {},
   "outputs": [
    {
     "data": {
      "text/html": [
       "<div>\n",
       "<style scoped>\n",
       "    .dataframe tbody tr th:only-of-type {\n",
       "        vertical-align: middle;\n",
       "    }\n",
       "\n",
       "    .dataframe tbody tr th {\n",
       "        vertical-align: top;\n",
       "    }\n",
       "\n",
       "    .dataframe thead th {\n",
       "        text-align: right;\n",
       "    }\n",
       "</style>\n",
       "<table border=\"1\" class=\"dataframe\">\n",
       "  <thead>\n",
       "    <tr style=\"text-align: right;\">\n",
       "      <th></th>\n",
       "      <th>venue_id</th>\n",
       "      <th>venue_raw</th>\n",
       "      <th>venue_type</th>\n",
       "    </tr>\n",
       "  </thead>\n",
       "  <tbody>\n",
       "    <tr>\n",
       "      <th>6961</th>\n",
       "      <td>&lt;NA&gt;</td>\n",
       "      <td>hot topics in software upgrades</td>\n",
       "      <td>C</td>\n",
       "    </tr>\n",
       "    <tr>\n",
       "      <th>29004</th>\n",
       "      <td>&lt;NA&gt;</td>\n",
       "      <td>NaN</td>\n",
       "      <td>C</td>\n",
       "    </tr>\n",
       "  </tbody>\n",
       "</table>\n",
       "</div>"
      ],
      "text/plain": [
       "       venue_id                        venue_raw venue_type\n",
       "6961       <NA>  hot topics in software upgrades          C\n",
       "29004      <NA>                              NaN          C"
      ]
     },
     "execution_count": 43,
     "metadata": {},
     "output_type": "execute_result"
    }
   ],
   "source": [
    "#ci sono due venue_type duplicati non nulli, verifica quali sono questi valori, fanno riferimento a due record diversi\n",
    "venue_null[venue_null['venue_type'].notna()]"
   ]
  },
  {
   "cell_type": "code",
   "execution_count": 44,
   "id": "e63d77e0-0191-4fc8-bc54-84c8b315faec",
   "metadata": {},
   "outputs": [
    {
     "name": "stdout",
     "output_type": "stream",
     "text": [
      "<class 'pandas.core.frame.DataFrame'>\n",
      "Int64Index: 38722 entries, 4 to 49201\n",
      "Data columns (total 3 columns):\n",
      " #   Column      Non-Null Count  Dtype   \n",
      "---  ------      --------------  -----   \n",
      " 0   venue_id    0 non-null      Int64   \n",
      " 1   venue_raw   38721 non-null  object  \n",
      " 2   venue_type  2 non-null      category\n",
      "dtypes: Int64(1), category(1), object(1)\n",
      "memory usage: 983.3+ KB\n"
     ]
    }
   ],
   "source": [
    "#controlla duplicati sul sottoinsieme venue_id, verifica quanti sono i duplicati a causa di valori nulli, stesso numero di casi sopra\n",
    "info(check_duplicates(venue,['venue_id']))"
   ]
  },
  {
   "cell_type": "code",
   "execution_count": 45,
   "id": "7257fc12-62bb-4dae-803a-fb38ecd407a8",
   "metadata": {},
   "outputs": [
    {
     "data": {
      "text/html": [
       "<div>\n",
       "<style scoped>\n",
       "    .dataframe tbody tr th:only-of-type {\n",
       "        vertical-align: middle;\n",
       "    }\n",
       "\n",
       "    .dataframe tbody tr th {\n",
       "        vertical-align: top;\n",
       "    }\n",
       "\n",
       "    .dataframe thead th {\n",
       "        text-align: right;\n",
       "    }\n",
       "</style>\n",
       "<table border=\"1\" class=\"dataframe\">\n",
       "  <thead>\n",
       "    <tr style=\"text-align: right;\">\n",
       "      <th></th>\n",
       "      <th>venue_id</th>\n",
       "      <th>venue_raw</th>\n",
       "      <th>venue_type</th>\n",
       "    </tr>\n",
       "  </thead>\n",
       "  <tbody>\n",
       "    <tr>\n",
       "      <th>29</th>\n",
       "      <td>2757487807</td>\n",
       "      <td>American Medical Informatics Association Annua...</td>\n",
       "      <td>C</td>\n",
       "    </tr>\n",
       "    <tr>\n",
       "      <th>36428</th>\n",
       "      <td>&lt;NA&gt;</td>\n",
       "      <td>American Medical Informatics Association Annua...</td>\n",
       "      <td>NaN</td>\n",
       "    </tr>\n",
       "    <tr>\n",
       "      <th>19413</th>\n",
       "      <td>97068678</td>\n",
       "      <td>Aslib Proceedings</td>\n",
       "      <td>J</td>\n",
       "    </tr>\n",
       "    <tr>\n",
       "      <th>5526</th>\n",
       "      <td>&lt;NA&gt;</td>\n",
       "      <td>Aslib Proceedings</td>\n",
       "      <td>NaN</td>\n",
       "    </tr>\n",
       "    <tr>\n",
       "      <th>34067</th>\n",
       "      <td>49206733</td>\n",
       "      <td>BMC Proceedings</td>\n",
       "      <td>J</td>\n",
       "    </tr>\n",
       "    <tr>\n",
       "      <th>16717</th>\n",
       "      <td>&lt;NA&gt;</td>\n",
       "      <td>BMC Proceedings</td>\n",
       "      <td>NaN</td>\n",
       "    </tr>\n",
       "    <tr>\n",
       "      <th>45217</th>\n",
       "      <td>56561474</td>\n",
       "      <td>Computational Intelligence</td>\n",
       "      <td>J</td>\n",
       "    </tr>\n",
       "    <tr>\n",
       "      <th>198</th>\n",
       "      <td>1120693805</td>\n",
       "      <td>Computational Intelligence</td>\n",
       "      <td>C</td>\n",
       "    </tr>\n",
       "    <tr>\n",
       "      <th>2386</th>\n",
       "      <td>1168542559</td>\n",
       "      <td>Data and Knowledge Engineering</td>\n",
       "      <td>C</td>\n",
       "    </tr>\n",
       "    <tr>\n",
       "      <th>38136</th>\n",
       "      <td>136993123</td>\n",
       "      <td>Data and Knowledge Engineering</td>\n",
       "      <td>J</td>\n",
       "    </tr>\n",
       "    <tr>\n",
       "      <th>2398</th>\n",
       "      <td>11479521</td>\n",
       "      <td>Decision Support Systems</td>\n",
       "      <td>J</td>\n",
       "    </tr>\n",
       "    <tr>\n",
       "      <th>696</th>\n",
       "      <td>1182309694</td>\n",
       "      <td>Decision Support Systems</td>\n",
       "      <td>C</td>\n",
       "    </tr>\n",
       "    <tr>\n",
       "      <th>19570</th>\n",
       "      <td>&lt;NA&gt;</td>\n",
       "      <td>Frontiers in Robotics and AI</td>\n",
       "      <td>NaN</td>\n",
       "    </tr>\n",
       "    <tr>\n",
       "      <th>6189</th>\n",
       "      <td>2595095599</td>\n",
       "      <td>Frontiers in Robotics and AI</td>\n",
       "      <td>J</td>\n",
       "    </tr>\n",
       "    <tr>\n",
       "      <th>1133</th>\n",
       "      <td>1201250571</td>\n",
       "      <td>Intelligent Data Analysis</td>\n",
       "      <td>C</td>\n",
       "    </tr>\n",
       "    <tr>\n",
       "      <th>13365</th>\n",
       "      <td>2498839158</td>\n",
       "      <td>Intelligent Data Analysis</td>\n",
       "      <td>J</td>\n",
       "    </tr>\n",
       "    <tr>\n",
       "      <th>1631</th>\n",
       "      <td>&lt;NA&gt;</td>\n",
       "      <td>Künstliche Intelligenz</td>\n",
       "      <td>NaN</td>\n",
       "    </tr>\n",
       "    <tr>\n",
       "      <th>1109</th>\n",
       "      <td>1001063841</td>\n",
       "      <td>Künstliche Intelligenz</td>\n",
       "      <td>J</td>\n",
       "    </tr>\n",
       "    <tr>\n",
       "      <th>5878</th>\n",
       "      <td>&lt;NA&gt;</td>\n",
       "      <td>Proceedings of SPIE</td>\n",
       "      <td>NaN</td>\n",
       "    </tr>\n",
       "    <tr>\n",
       "      <th>874</th>\n",
       "      <td>183492911</td>\n",
       "      <td>Proceedings of SPIE</td>\n",
       "      <td>J</td>\n",
       "    </tr>\n",
       "    <tr>\n",
       "      <th>11470</th>\n",
       "      <td>2996807011</td>\n",
       "      <td>SIAM Journal on Applied Algebra and Geometry</td>\n",
       "      <td>J</td>\n",
       "    </tr>\n",
       "    <tr>\n",
       "      <th>7734</th>\n",
       "      <td>&lt;NA&gt;</td>\n",
       "      <td>SIAM Journal on Applied Algebra and Geometry</td>\n",
       "      <td>NaN</td>\n",
       "    </tr>\n",
       "    <tr>\n",
       "      <th>9348</th>\n",
       "      <td>&lt;NA&gt;</td>\n",
       "      <td>Social Science Research Network</td>\n",
       "      <td>NaN</td>\n",
       "    </tr>\n",
       "    <tr>\n",
       "      <th>8554</th>\n",
       "      <td>2751751161</td>\n",
       "      <td>Social Science Research Network</td>\n",
       "      <td>J</td>\n",
       "    </tr>\n",
       "    <tr>\n",
       "      <th>320</th>\n",
       "      <td>1123077274</td>\n",
       "      <td>Soft Computing</td>\n",
       "      <td>C</td>\n",
       "    </tr>\n",
       "    <tr>\n",
       "      <th>1215</th>\n",
       "      <td>65753830</td>\n",
       "      <td>Soft Computing</td>\n",
       "      <td>J</td>\n",
       "    </tr>\n",
       "    <tr>\n",
       "      <th>2637</th>\n",
       "      <td>2605467207</td>\n",
       "      <td>Workshop on Hot Topics in Operating Systems</td>\n",
       "      <td>C</td>\n",
       "    </tr>\n",
       "    <tr>\n",
       "      <th>26377</th>\n",
       "      <td>&lt;NA&gt;</td>\n",
       "      <td>Workshop on Hot Topics in Operating Systems</td>\n",
       "      <td>NaN</td>\n",
       "    </tr>\n",
       "    <tr>\n",
       "      <th>224</th>\n",
       "      <td>2595313807</td>\n",
       "      <td>arXiv: Numerical Analysis</td>\n",
       "      <td>J</td>\n",
       "    </tr>\n",
       "    <tr>\n",
       "      <th>8552</th>\n",
       "      <td>2595836090</td>\n",
       "      <td>arXiv: Numerical Analysis</td>\n",
       "      <td>J</td>\n",
       "    </tr>\n",
       "  </tbody>\n",
       "</table>\n",
       "</div>"
      ],
      "text/plain": [
       "         venue_id                                          venue_raw  \\\n",
       "29     2757487807  American Medical Informatics Association Annua...   \n",
       "36428        <NA>  American Medical Informatics Association Annua...   \n",
       "19413    97068678                                  Aslib Proceedings   \n",
       "5526         <NA>                                  Aslib Proceedings   \n",
       "34067    49206733                                    BMC Proceedings   \n",
       "16717        <NA>                                    BMC Proceedings   \n",
       "45217    56561474                         Computational Intelligence   \n",
       "198    1120693805                         Computational Intelligence   \n",
       "2386   1168542559                     Data and Knowledge Engineering   \n",
       "38136   136993123                     Data and Knowledge Engineering   \n",
       "2398     11479521                           Decision Support Systems   \n",
       "696    1182309694                           Decision Support Systems   \n",
       "19570        <NA>                       Frontiers in Robotics and AI   \n",
       "6189   2595095599                       Frontiers in Robotics and AI   \n",
       "1133   1201250571                          Intelligent Data Analysis   \n",
       "13365  2498839158                          Intelligent Data Analysis   \n",
       "1631         <NA>                             Künstliche Intelligenz   \n",
       "1109   1001063841                             Künstliche Intelligenz   \n",
       "5878         <NA>                                Proceedings of SPIE   \n",
       "874     183492911                                Proceedings of SPIE   \n",
       "11470  2996807011       SIAM Journal on Applied Algebra and Geometry   \n",
       "7734         <NA>       SIAM Journal on Applied Algebra and Geometry   \n",
       "9348         <NA>                    Social Science Research Network   \n",
       "8554   2751751161                    Social Science Research Network   \n",
       "320    1123077274                                     Soft Computing   \n",
       "1215     65753830                                     Soft Computing   \n",
       "2637   2605467207        Workshop on Hot Topics in Operating Systems   \n",
       "26377        <NA>        Workshop on Hot Topics in Operating Systems   \n",
       "224    2595313807                          arXiv: Numerical Analysis   \n",
       "8552   2595836090                          arXiv: Numerical Analysis   \n",
       "\n",
       "      venue_type  \n",
       "29             C  \n",
       "36428        NaN  \n",
       "19413          J  \n",
       "5526         NaN  \n",
       "34067          J  \n",
       "16717        NaN  \n",
       "45217          J  \n",
       "198            C  \n",
       "2386           C  \n",
       "38136          J  \n",
       "2398           J  \n",
       "696            C  \n",
       "19570        NaN  \n",
       "6189           J  \n",
       "1133           C  \n",
       "13365          J  \n",
       "1631         NaN  \n",
       "1109           J  \n",
       "5878         NaN  \n",
       "874            J  \n",
       "11470          J  \n",
       "7734         NaN  \n",
       "9348         NaN  \n",
       "8554           J  \n",
       "320            C  \n",
       "1215           J  \n",
       "2637           C  \n",
       "26377        NaN  \n",
       "224            J  \n",
       "8552           J  "
      ]
     },
     "execution_count": 45,
     "metadata": {},
     "output_type": "execute_result"
    }
   ],
   "source": [
    "#controlla duplicati sul sottoinsieme venue_raw, fanno riferimento a record diversi, quindi non ci sono duplicati\n",
    "#non ha senso fare la stessa elaborazione su venue_type\n",
    "check_duplicates(venue,['venue_raw'])"
   ]
  },
  {
   "cell_type": "markdown",
   "id": "774e7fc7-153c-4080-bcd0-f2664ba11591",
   "metadata": {
    "tags": []
   },
   "source": [
    "### Elaborazione di venue, per ottenere venue_id_new che diventerà la chiave primaria per la tabella venue"
   ]
  },
  {
   "cell_type": "code",
   "execution_count": 46,
   "id": "7ac94f32-e5a9-4379-8383-e26cc6025340",
   "metadata": {},
   "outputs": [
    {
     "name": "stderr",
     "output_type": "stream",
     "text": [
      "/var/folders/br/6gdrmps94h75yv4f9c5z85cc0000gp/T/ipykernel_9636/545191298.py:2: SettingWithCopyWarning: \n",
      "A value is trying to be set on a copy of a slice from a DataFrame.\n",
      "Try using .loc[row_indexer,col_indexer] = value instead\n",
      "\n",
      "See the caveats in the documentation: https://pandas.pydata.org/pandas-docs/stable/user_guide/indexing.html#returning-a-view-versus-a-copy\n",
      "  venue['venue_id_new']=hash_df(venue,'int64')\n"
     ]
    }
   ],
   "source": [
    "#crea la colonna venue_id_new chiamando la funzione di hash sul dataframe venue\n",
    "venue['venue_id_new']=hash_df(venue,'int64')"
   ]
  },
  {
   "cell_type": "code",
   "execution_count": 47,
   "id": "42927b66-9653-4137-9f43-a77723a2c693",
   "metadata": {},
   "outputs": [
    {
     "data": {
      "text/html": [
       "<div>\n",
       "<style scoped>\n",
       "    .dataframe tbody tr th:only-of-type {\n",
       "        vertical-align: middle;\n",
       "    }\n",
       "\n",
       "    .dataframe tbody tr th {\n",
       "        vertical-align: top;\n",
       "    }\n",
       "\n",
       "    .dataframe thead th {\n",
       "        text-align: right;\n",
       "    }\n",
       "</style>\n",
       "<table border=\"1\" class=\"dataframe\">\n",
       "  <thead>\n",
       "    <tr style=\"text-align: right;\">\n",
       "      <th></th>\n",
       "      <th>venue_id</th>\n",
       "      <th>venue_raw</th>\n",
       "      <th>venue_type</th>\n",
       "      <th>venue_id_new</th>\n",
       "    </tr>\n",
       "  </thead>\n",
       "  <tbody>\n",
       "  </tbody>\n",
       "</table>\n",
       "</div>"
      ],
      "text/plain": [
       "Empty DataFrame\n",
       "Columns: [venue_id, venue_raw, venue_type, venue_id_new]\n",
       "Index: []"
      ]
     },
     "execution_count": 47,
     "metadata": {},
     "output_type": "execute_result"
    }
   ],
   "source": [
    "#controlla che non ci siano duplicati tra gli id, non dovrebbero esserci dato che non ci sono tra i record di venue\n",
    "check_duplicates(venue,'venue_id_new')"
   ]
  },
  {
   "cell_type": "code",
   "execution_count": 48,
   "id": "2b3e260f-b300-4c27-b931-21d50e756405",
   "metadata": {},
   "outputs": [
    {
     "name": "stderr",
     "output_type": "stream",
     "text": [
      "/Users/autoteamchannel/Desktop/tesi/scripts/manipulate_df.py:47: SettingWithCopyWarning: \n",
      "A value is trying to be set on a copy of a slice from a DataFrame.\n",
      "Try using .loc[row_indexer,col_indexer] = value instead\n",
      "\n",
      "See the caveats in the documentation: https://pandas.pydata.org/pandas-docs/stable/user_guide/indexing.html#returning-a-view-versus-a-copy\n",
      "  df[column]=(df[column]).astype(dtype,copy=False)\n"
     ]
    }
   ],
   "source": [
    "#questo cast è necessario perchè quando aggiunge questa colonna nel paper_df la presenza di valori Nan non permette \n",
    "#di mantenere tale colonna come series di interi\n",
    "cast_to(venue,'venue_id_new','Int64')"
   ]
  },
  {
   "cell_type": "markdown",
   "id": "6b4c097c-3b21-4046-a13c-f3b068c35ac7",
   "metadata": {
    "tags": []
   },
   "source": [
    "## DataFrame paper\n"
   ]
  },
  {
   "cell_type": "code",
   "execution_count": 49,
   "id": "7e2ae63d-f4a6-4082-826f-4ba2ada04fd7",
   "metadata": {},
   "outputs": [],
   "source": [
    "#Esegue un merge sinistro con il DataFrame paper_df sulle colonne venue_id,venue_raw, venue_type,\n",
    "#il risultato lo mette in un nuovo DataFrame paper\n",
    "paper=pd.merge(paper_df,venue, how='left', on=['venue_id','venue_raw','venue_type'])"
   ]
  },
  {
   "cell_type": "code",
   "execution_count": 50,
   "id": "47e7a5e5-e3d4-4b20-bcb9-36f04e65ad79",
   "metadata": {},
   "outputs": [
    {
     "name": "stdout",
     "output_type": "stream",
     "text": [
      "2             On (p, q)-analogue of Bernstein operators\n",
      "3     On the Number of Permutations Performable by E...\n",
      "9                            Type-2 Fuzzy Logic Systems\n",
      "10    Fredholm-Volterra integral equation with singu...\n",
      "13    How to Extend Partial Deduction to Derive the ...\n",
      "Name: title, dtype: object\n",
      "            \n",
      "15089     139-148\n",
      "18906        38-1\n",
      "20810       25-31\n",
      "85261        43-1\n",
      "148689      386-1\n",
      "Name: page_start, dtype: object\n",
      "            \n",
      "15089     139-148\n",
      "18906       38-12\n",
      "20810       25-31\n",
      "85261        43-8\n",
      "148689      386-6\n",
      "Name: page_end, dtype: object\n",
      "            \n",
      "918588     CRC Press - Taylor & Francis Group\n",
      "1090623             SPIE-Intl Soc Optical Eng\n",
      "Name: publisher, dtype: object\n",
      "            \n",
      "Series([], Name: doi, dtype: object)\n",
      "            \n",
      "Series([], Name: abstract, dtype: object)\n",
      "            \n",
      "Series([], Name: venue_raw, dtype: object)\n",
      "            \n"
     ]
    }
   ],
   "source": [
    "#controlla l'integrità di page_start e page_end, per questo userò il formato text nella tabella del db per questi due attributi\n",
    "column_with_special_char(paper,'-')"
   ]
  },
  {
   "cell_type": "code",
   "execution_count": 51,
   "id": "cc65d721-0fd6-499d-ad1f-0820b0af9164",
   "metadata": {},
   "outputs": [],
   "source": [
    "del_columns(paper,['venue_id','venue_raw','venue_type'])"
   ]
  },
  {
   "cell_type": "code",
   "execution_count": 52,
   "id": "e599f6d8-b0a7-422e-b2b8-05949408223b",
   "metadata": {},
   "outputs": [
    {
     "data": {
      "text/html": [
       "<div>\n",
       "<style scoped>\n",
       "    .dataframe tbody tr th:only-of-type {\n",
       "        vertical-align: middle;\n",
       "    }\n",
       "\n",
       "    .dataframe tbody tr th {\n",
       "        vertical-align: top;\n",
       "    }\n",
       "\n",
       "    .dataframe thead th {\n",
       "        text-align: right;\n",
       "    }\n",
       "</style>\n",
       "<table border=\"1\" class=\"dataframe\">\n",
       "  <thead>\n",
       "    <tr style=\"text-align: right;\">\n",
       "      <th></th>\n",
       "      <th>paper_id</th>\n",
       "      <th>title</th>\n",
       "      <th>year</th>\n",
       "      <th>n_citation</th>\n",
       "      <th>page_start</th>\n",
       "      <th>page_end</th>\n",
       "      <th>doc_type</th>\n",
       "      <th>publisher</th>\n",
       "      <th>volume</th>\n",
       "      <th>issue</th>\n",
       "      <th>doi</th>\n",
       "      <th>abstract</th>\n",
       "      <th>nb_references</th>\n",
       "      <th>venue_raw</th>\n",
       "      <th>venue_id</th>\n",
       "      <th>venue_type</th>\n",
       "    </tr>\n",
       "  </thead>\n",
       "  <tbody>\n",
       "  </tbody>\n",
       "</table>\n",
       "</div>"
      ],
      "text/plain": [
       "Empty DataFrame\n",
       "Columns: [paper_id, title, year, n_citation, page_start, page_end, doc_type, publisher, volume, issue, doi, abstract, nb_references, venue_raw, venue_id, venue_type]\n",
       "Index: []"
      ]
     },
     "execution_count": 52,
     "metadata": {},
     "output_type": "execute_result"
    }
   ],
   "source": [
    "check_duplicates(paper_df,['paper_id'])"
   ]
  },
  {
   "cell_type": "code",
   "execution_count": 53,
   "id": "e93d8c50-93bf-4c0e-8ade-6475c9db1c9c",
   "metadata": {},
   "outputs": [
    {
     "name": "stdout",
     "output_type": "stream",
     "text": [
      "<class 'pandas.core.frame.DataFrame'>\n",
      "Int64Index: 4894063 entries, 0 to 4894062\n",
      "Data columns (total 14 columns):\n",
      " #   Column         Non-Null Count    Dtype   \n",
      "---  ------         --------------    -----   \n",
      " 0   paper_id       4894063 non-null  int64   \n",
      " 1   title          4894063 non-null  object  \n",
      " 2   year           4894063 non-null  int16   \n",
      " 3   n_citation     4894063 non-null  int16   \n",
      " 4   page_start     4356226 non-null  object  \n",
      " 5   page_end       4112329 non-null  object  \n",
      " 6   doc_type       4394622 non-null  category\n",
      " 7   publisher      4134190 non-null  object  \n",
      " 8   volume         2183176 non-null  Int64   \n",
      " 9   issue          1618242 non-null  Int64   \n",
      " 10  doi            3920939 non-null  object  \n",
      " 11  abstract       4232504 non-null  object  \n",
      " 12  nb_references  4894063 non-null  int16   \n",
      " 13  venue_id_new   4820973 non-null  Int64   \n",
      "dtypes: Int64(3), category(1), int16(3), int64(1), object(6)\n",
      "memory usage: 457.4+ MB\n"
     ]
    }
   ],
   "source": [
    "info(paper)"
   ]
  },
  {
   "cell_type": "code",
   "execution_count": 54,
   "id": "2e7ad1f4-15c0-493a-8ac3-e1cd5ad6fef6",
   "metadata": {},
   "outputs": [
    {
     "data": {
      "text/html": [
       "<div>\n",
       "<style scoped>\n",
       "    .dataframe tbody tr th:only-of-type {\n",
       "        vertical-align: middle;\n",
       "    }\n",
       "\n",
       "    .dataframe tbody tr th {\n",
       "        vertical-align: top;\n",
       "    }\n",
       "\n",
       "    .dataframe thead th {\n",
       "        text-align: right;\n",
       "    }\n",
       "</style>\n",
       "<table border=\"1\" class=\"dataframe\">\n",
       "  <thead>\n",
       "    <tr style=\"text-align: right;\">\n",
       "      <th></th>\n",
       "      <th>paper_id</th>\n",
       "      <th>title</th>\n",
       "      <th>year</th>\n",
       "      <th>n_citation</th>\n",
       "      <th>page_start</th>\n",
       "      <th>page_end</th>\n",
       "      <th>doc_type</th>\n",
       "      <th>publisher</th>\n",
       "      <th>volume</th>\n",
       "      <th>issue</th>\n",
       "      <th>doi</th>\n",
       "      <th>abstract</th>\n",
       "      <th>nb_references</th>\n",
       "      <th>venue_id_new</th>\n",
       "    </tr>\n",
       "  </thead>\n",
       "  <tbody>\n",
       "    <tr>\n",
       "      <th>0</th>\n",
       "      <td>339090091</td>\n",
       "      <td>Document Classification with Recommendation Ar...</td>\n",
       "      <td>2002</td>\n",
       "      <td>0</td>\n",
       "      <td>NaN</td>\n",
       "      <td>NaN</td>\n",
       "      <td>Conference</td>\n",
       "      <td>NaN</td>\n",
       "      <td>&lt;NA&gt;</td>\n",
       "      <td>&lt;NA&gt;</td>\n",
       "      <td>NaN</td>\n",
       "      <td>NaN</td>\n",
       "      <td>0</td>\n",
       "      <td>4485894401032707713</td>\n",
       "    </tr>\n",
       "    <tr>\n",
       "      <th>1</th>\n",
       "      <td>339107753</td>\n",
       "      <td>Linking Operational Semantics and Algebraic Se...</td>\n",
       "      <td>2013</td>\n",
       "      <td>0</td>\n",
       "      <td>380</td>\n",
       "      <td>396</td>\n",
       "      <td>Conference</td>\n",
       "      <td>Springer, Berlin, Heidelberg</td>\n",
       "      <td>&lt;NA&gt;</td>\n",
       "      <td>&lt;NA&gt;</td>\n",
       "      <td>10.1007/978-3-642-41202-8_25</td>\n",
       "      <td>Wireless technology has achieved lots of appli...</td>\n",
       "      <td>10</td>\n",
       "      <td>8569721686983051283</td>\n",
       "    </tr>\n",
       "    <tr>\n",
       "      <th>2</th>\n",
       "      <td>339147017</td>\n",
       "      <td>On (p, q)-analogue of Bernstein operators</td>\n",
       "      <td>2015</td>\n",
       "      <td>114</td>\n",
       "      <td>874</td>\n",
       "      <td>882</td>\n",
       "      <td>Journal</td>\n",
       "      <td>Elsevier</td>\n",
       "      <td>266</td>\n",
       "      <td>&lt;NA&gt;</td>\n",
       "      <td>10.1016/j.amc.2015.04.090</td>\n",
       "      <td>In this paper, we introduce a new analogue of ...</td>\n",
       "      <td>8</td>\n",
       "      <td>3494791485537028207</td>\n",
       "    </tr>\n",
       "    <tr>\n",
       "      <th>3</th>\n",
       "      <td>339159418</td>\n",
       "      <td>On the Number of Permutations Performable by E...</td>\n",
       "      <td>1987</td>\n",
       "      <td>0</td>\n",
       "      <td>461</td>\n",
       "      <td>470</td>\n",
       "      <td>Conference</td>\n",
       "      <td>NaN</td>\n",
       "      <td>&lt;NA&gt;</td>\n",
       "      <td>&lt;NA&gt;</td>\n",
       "      <td>NaN</td>\n",
       "      <td>NaN</td>\n",
       "      <td>0</td>\n",
       "      <td>7651271195938326231</td>\n",
       "    </tr>\n",
       "    <tr>\n",
       "      <th>4</th>\n",
       "      <td>337814053</td>\n",
       "      <td>Leveraging MARF for the Simulation of Securing...</td>\n",
       "      <td>2009</td>\n",
       "      <td>0</td>\n",
       "      <td>46</td>\n",
       "      <td>NaN</td>\n",
       "      <td>NaN</td>\n",
       "      <td>NaN</td>\n",
       "      <td>&lt;NA&gt;</td>\n",
       "      <td>&lt;NA&gt;</td>\n",
       "      <td>NaN</td>\n",
       "      <td>NaN</td>\n",
       "      <td>0</td>\n",
       "      <td>6944349850374290863</td>\n",
       "    </tr>\n",
       "    <tr>\n",
       "      <th>...</th>\n",
       "      <td>...</td>\n",
       "      <td>...</td>\n",
       "      <td>...</td>\n",
       "      <td>...</td>\n",
       "      <td>...</td>\n",
       "      <td>...</td>\n",
       "      <td>...</td>\n",
       "      <td>...</td>\n",
       "      <td>...</td>\n",
       "      <td>...</td>\n",
       "      <td>...</td>\n",
       "      <td>...</td>\n",
       "      <td>...</td>\n",
       "      <td>...</td>\n",
       "    </tr>\n",
       "    <tr>\n",
       "      <th>4894058</th>\n",
       "      <td>998678108</td>\n",
       "      <td>IEEE Seventh International Conference on Softw...</td>\n",
       "      <td>2014</td>\n",
       "      <td>0</td>\n",
       "      <td>NaN</td>\n",
       "      <td>NaN</td>\n",
       "      <td>NaN</td>\n",
       "      <td>NaN</td>\n",
       "      <td>&lt;NA&gt;</td>\n",
       "      <td>&lt;NA&gt;</td>\n",
       "      <td>NaN</td>\n",
       "      <td>NaN</td>\n",
       "      <td>0</td>\n",
       "      <td>&lt;NA&gt;</td>\n",
       "    </tr>\n",
       "    <tr>\n",
       "      <th>4894059</th>\n",
       "      <td>99934447</td>\n",
       "      <td>Globalization of Consumer E-Commerce</td>\n",
       "      <td>2005</td>\n",
       "      <td>0</td>\n",
       "      <td>1293</td>\n",
       "      <td>1298</td>\n",
       "      <td>Conference</td>\n",
       "      <td>IGI Global</td>\n",
       "      <td>&lt;NA&gt;</td>\n",
       "      <td>&lt;NA&gt;</td>\n",
       "      <td>10.4018/978-1-59140-553-5.ch228</td>\n",
       "      <td>NaN</td>\n",
       "      <td>0</td>\n",
       "      <td>8098950582618867683</td>\n",
       "    </tr>\n",
       "    <tr>\n",
       "      <th>4894060</th>\n",
       "      <td>99981893</td>\n",
       "      <td>Matrix-Padé fractions</td>\n",
       "      <td>1987</td>\n",
       "      <td>0</td>\n",
       "      <td>438</td>\n",
       "      <td>449</td>\n",
       "      <td>Conference</td>\n",
       "      <td>Springer, Berlin, Heidelberg</td>\n",
       "      <td>&lt;NA&gt;</td>\n",
       "      <td>&lt;NA&gt;</td>\n",
       "      <td>10.1007/3-540-51517-8_149</td>\n",
       "      <td>For matrix power series with coefficients over...</td>\n",
       "      <td>2</td>\n",
       "      <td>6843350035554290669</td>\n",
       "    </tr>\n",
       "    <tr>\n",
       "      <th>4894061</th>\n",
       "      <td>998260344</td>\n",
       "      <td>Deep Learning for Single-View Instance Recogni...</td>\n",
       "      <td>2015</td>\n",
       "      <td>11</td>\n",
       "      <td>NaN</td>\n",
       "      <td>NaN</td>\n",
       "      <td>Repository</td>\n",
       "      <td>NaN</td>\n",
       "      <td>&lt;NA&gt;</td>\n",
       "      <td>&lt;NA&gt;</td>\n",
       "      <td>NaN</td>\n",
       "      <td>Deep learning methods have typically been trai...</td>\n",
       "      <td>48</td>\n",
       "      <td>7003290661413467402</td>\n",
       "    </tr>\n",
       "    <tr>\n",
       "      <th>4894062</th>\n",
       "      <td>99956490</td>\n",
       "      <td>Bemerkung zu Gurevich's Arbeit über das Entsch...</td>\n",
       "      <td>1978</td>\n",
       "      <td>0</td>\n",
       "      <td>111</td>\n",
       "      <td>114</td>\n",
       "      <td>Journal</td>\n",
       "      <td>Springer Science and Business Media LLC</td>\n",
       "      <td>19</td>\n",
       "      <td>1</td>\n",
       "      <td>10.1007/BF02011872</td>\n",
       "      <td>NaN</td>\n",
       "      <td>3</td>\n",
       "      <td>5847151608321678472</td>\n",
       "    </tr>\n",
       "  </tbody>\n",
       "</table>\n",
       "<p>4894063 rows × 14 columns</p>\n",
       "</div>"
      ],
      "text/plain": [
       "          paper_id                                              title  year  \\\n",
       "0        339090091  Document Classification with Recommendation Ar...  2002   \n",
       "1        339107753  Linking Operational Semantics and Algebraic Se...  2013   \n",
       "2        339147017          On (p, q)-analogue of Bernstein operators  2015   \n",
       "3        339159418  On the Number of Permutations Performable by E...  1987   \n",
       "4        337814053  Leveraging MARF for the Simulation of Securing...  2009   \n",
       "...            ...                                                ...   ...   \n",
       "4894058  998678108  IEEE Seventh International Conference on Softw...  2014   \n",
       "4894059   99934447               Globalization of Consumer E-Commerce  2005   \n",
       "4894060   99981893                              Matrix-Padé fractions  1987   \n",
       "4894061  998260344  Deep Learning for Single-View Instance Recogni...  2015   \n",
       "4894062   99956490  Bemerkung zu Gurevich's Arbeit über das Entsch...  1978   \n",
       "\n",
       "         n_citation page_start page_end    doc_type  \\\n",
       "0                 0        NaN      NaN  Conference   \n",
       "1                 0        380      396  Conference   \n",
       "2               114        874      882     Journal   \n",
       "3                 0        461      470  Conference   \n",
       "4                 0         46      NaN         NaN   \n",
       "...             ...        ...      ...         ...   \n",
       "4894058           0        NaN      NaN         NaN   \n",
       "4894059           0       1293     1298  Conference   \n",
       "4894060           0        438      449  Conference   \n",
       "4894061          11        NaN      NaN  Repository   \n",
       "4894062           0        111      114     Journal   \n",
       "\n",
       "                                       publisher  volume  issue  \\\n",
       "0                                            NaN    <NA>   <NA>   \n",
       "1                   Springer, Berlin, Heidelberg    <NA>   <NA>   \n",
       "2                                       Elsevier     266   <NA>   \n",
       "3                                            NaN    <NA>   <NA>   \n",
       "4                                            NaN    <NA>   <NA>   \n",
       "...                                          ...     ...    ...   \n",
       "4894058                                      NaN    <NA>   <NA>   \n",
       "4894059                               IGI Global    <NA>   <NA>   \n",
       "4894060             Springer, Berlin, Heidelberg    <NA>   <NA>   \n",
       "4894061                                      NaN    <NA>   <NA>   \n",
       "4894062  Springer Science and Business Media LLC      19      1   \n",
       "\n",
       "                                     doi  \\\n",
       "0                                    NaN   \n",
       "1           10.1007/978-3-642-41202-8_25   \n",
       "2              10.1016/j.amc.2015.04.090   \n",
       "3                                    NaN   \n",
       "4                                    NaN   \n",
       "...                                  ...   \n",
       "4894058                              NaN   \n",
       "4894059  10.4018/978-1-59140-553-5.ch228   \n",
       "4894060        10.1007/3-540-51517-8_149   \n",
       "4894061                              NaN   \n",
       "4894062               10.1007/BF02011872   \n",
       "\n",
       "                                                  abstract  nb_references  \\\n",
       "0                                                      NaN              0   \n",
       "1        Wireless technology has achieved lots of appli...             10   \n",
       "2        In this paper, we introduce a new analogue of ...              8   \n",
       "3                                                      NaN              0   \n",
       "4                                                      NaN              0   \n",
       "...                                                    ...            ...   \n",
       "4894058                                                NaN              0   \n",
       "4894059                                                NaN              0   \n",
       "4894060  For matrix power series with coefficients over...              2   \n",
       "4894061  Deep learning methods have typically been trai...             48   \n",
       "4894062                                                NaN              3   \n",
       "\n",
       "                venue_id_new  \n",
       "0        4485894401032707713  \n",
       "1        8569721686983051283  \n",
       "2        3494791485537028207  \n",
       "3        7651271195938326231  \n",
       "4        6944349850374290863  \n",
       "...                      ...  \n",
       "4894058                 <NA>  \n",
       "4894059  8098950582618867683  \n",
       "4894060  6843350035554290669  \n",
       "4894061  7003290661413467402  \n",
       "4894062  5847151608321678472  \n",
       "\n",
       "[4894063 rows x 14 columns]"
      ]
     },
     "execution_count": 54,
     "metadata": {},
     "output_type": "execute_result"
    }
   ],
   "source": [
    "paper"
   ]
  },
  {
   "cell_type": "markdown",
   "id": "4a25ce57-457d-49ee-a9c5-a07d3a3c1c8b",
   "metadata": {
    "tags": []
   },
   "source": [
    "## Connessione al DB"
   ]
  },
  {
   "cell_type": "code",
   "execution_count": 54,
   "id": "2af939e5-34bc-469b-bef8-c7eef2d95e06",
   "metadata": {},
   "outputs": [
    {
     "data": {
      "text/plain": [
       "49202"
      ]
     },
     "execution_count": 54,
     "metadata": {},
     "output_type": "execute_result"
    }
   ],
   "source": [
    "#esporta i vari DataFrame nelle rispettive tabelle create in pgAdmin\n",
    "connect_db(venue,'venue')"
   ]
  },
  {
   "cell_type": "code",
   "execution_count": 55,
   "id": "00445916-e6b0-4107-b474-4dffd4116ceb",
   "metadata": {},
   "outputs": [
    {
     "data": {
      "text/plain": [
       "4894063"
      ]
     },
     "execution_count": 55,
     "metadata": {},
     "output_type": "execute_result"
    }
   ],
   "source": [
    "connect_db(paper,'paper')"
   ]
  },
  {
   "cell_type": "code",
   "execution_count": null,
   "id": "4b5f45f0-ca52-4f01-8910-94cc9399bc7a",
   "metadata": {},
   "outputs": [],
   "source": [
    "connect_db(reference,'reference')"
   ]
  },
  {
   "cell_type": "code",
   "execution_count": null,
   "id": "bf448a2a-1b8e-4652-8434-32d127c91687",
   "metadata": {},
   "outputs": [],
   "source": [
    "connect_db(alias_id,'alias_id')"
   ]
  },
  {
   "cell_type": "code",
   "execution_count": null,
   "id": "8c8724fb-a56f-4fce-b428-7984809b8d54",
   "metadata": {},
   "outputs": [],
   "source": [
    "connect_db(with_alias,'with_alias')"
   ]
  },
  {
   "cell_type": "markdown",
   "id": "342a4342-8bcf-48ae-934f-a4de0309bc28",
   "metadata": {
    "jp-MarkdownHeadingCollapsed": true,
    "tags": []
   },
   "source": [
    "# author_df"
   ]
  },
  {
   "cell_type": "markdown",
   "id": "b26503a9-b45f-4c6f-9737-8947f52a64fb",
   "metadata": {
    "tags": []
   },
   "source": [
    "## Inizializzazione del DataFrame vuoto+inserimento degli elementi del Json nel DataFrame"
   ]
  },
  {
   "cell_type": "code",
   "execution_count": 58,
   "id": "8b680129-cd43-49b1-96fd-465d216f21fd",
   "metadata": {},
   "outputs": [],
   "source": [
    "author_df=initialize()\n",
    "#legge il json ed inserisce gli elementi del json nel df, mantiene solo le colonne di interesse\n",
    "author_df=read_json_flatten(author_df,path,data,'authors','id','paper_','author_')"
   ]
  },
  {
   "cell_type": "markdown",
   "id": "c46d5eef-1886-4db7-bf4c-96aeb0e30415",
   "metadata": {
    "jp-MarkdownHeadingCollapsed": true,
    "tags": []
   },
   "source": [
    "## Analisi+elaborazione di author_df"
   ]
  },
  {
   "cell_type": "code",
   "execution_count": 59,
   "id": "b80bfd9b-f034-4aac-922a-c972f257fe8a",
   "metadata": {},
   "outputs": [
    {
     "data": {
      "text/html": [
       "<div>\n",
       "<style scoped>\n",
       "    .dataframe tbody tr th:only-of-type {\n",
       "        vertical-align: middle;\n",
       "    }\n",
       "\n",
       "    .dataframe tbody tr th {\n",
       "        vertical-align: top;\n",
       "    }\n",
       "\n",
       "    .dataframe thead th {\n",
       "        text-align: right;\n",
       "    }\n",
       "</style>\n",
       "<table border=\"1\" class=\"dataframe\">\n",
       "  <thead>\n",
       "    <tr style=\"text-align: right;\">\n",
       "      <th></th>\n",
       "      <th>author_name</th>\n",
       "      <th>author_id</th>\n",
       "      <th>author_org</th>\n",
       "      <th>paper_id</th>\n",
       "    </tr>\n",
       "  </thead>\n",
       "  <tbody>\n",
       "    <tr>\n",
       "      <th>0</th>\n",
       "      <td>Uditha Ratnayake</td>\n",
       "      <td>2439017310</td>\n",
       "      <td>NaN</td>\n",
       "      <td>339090091</td>\n",
       "    </tr>\n",
       "    <tr>\n",
       "      <th>1</th>\n",
       "      <td>Tamás D. Gedeon</td>\n",
       "      <td>2052936527</td>\n",
       "      <td>NaN</td>\n",
       "      <td>339090091</td>\n",
       "    </tr>\n",
       "    <tr>\n",
       "      <th>2</th>\n",
       "      <td>Nalin Wickramarachchi</td>\n",
       "      <td>2693152212</td>\n",
       "      <td>NaN</td>\n",
       "      <td>339090091</td>\n",
       "    </tr>\n",
       "    <tr>\n",
       "      <th>3</th>\n",
       "      <td>Xiaofeng Wu</td>\n",
       "      <td>2644192757</td>\n",
       "      <td>East China Normal University</td>\n",
       "      <td>339107753</td>\n",
       "    </tr>\n",
       "    <tr>\n",
       "      <th>4</th>\n",
       "      <td>Huibiao Zhu</td>\n",
       "      <td>2147595872</td>\n",
       "      <td>East China Normal University</td>\n",
       "      <td>339107753</td>\n",
       "    </tr>\n",
       "    <tr>\n",
       "      <th>...</th>\n",
       "      <td>...</td>\n",
       "      <td>...</td>\n",
       "      <td>...</td>\n",
       "      <td>...</td>\n",
       "    </tr>\n",
       "    <tr>\n",
       "      <th>26705</th>\n",
       "      <td>Karla Donato Fook</td>\n",
       "      <td>16747719</td>\n",
       "      <td>NaN</td>\n",
       "      <td>141116944</td>\n",
       "    </tr>\n",
       "    <tr>\n",
       "      <th>26706</th>\n",
       "      <td>András Ádám</td>\n",
       "      <td>2432547972</td>\n",
       "      <td>NaN</td>\n",
       "      <td>141127911</td>\n",
       "    </tr>\n",
       "    <tr>\n",
       "      <th>26707</th>\n",
       "      <td>Mohammed F. Al-Hunaity</td>\n",
       "      <td>2663083177</td>\n",
       "      <td>NaN</td>\n",
       "      <td>141128058</td>\n",
       "    </tr>\n",
       "    <tr>\n",
       "      <th>26708</th>\n",
       "      <td>S. V. Raghavan</td>\n",
       "      <td>2642128721</td>\n",
       "      <td>NaN</td>\n",
       "      <td>141140491</td>\n",
       "    </tr>\n",
       "    <tr>\n",
       "      <th>26709</th>\n",
       "      <td>R. Kalyanakrishnan</td>\n",
       "      <td>2629339964</td>\n",
       "      <td>NaN</td>\n",
       "      <td>141140491</td>\n",
       "    </tr>\n",
       "  </tbody>\n",
       "</table>\n",
       "<p>26710 rows × 4 columns</p>\n",
       "</div>"
      ],
      "text/plain": [
       "                  author_name   author_id                    author_org  \\\n",
       "0            Uditha Ratnayake  2439017310                           NaN   \n",
       "1             Tamás D. Gedeon  2052936527                           NaN   \n",
       "2       Nalin Wickramarachchi  2693152212                           NaN   \n",
       "3                 Xiaofeng Wu  2644192757  East China Normal University   \n",
       "4                 Huibiao Zhu  2147595872  East China Normal University   \n",
       "...                       ...         ...                           ...   \n",
       "26705       Karla Donato Fook    16747719                           NaN   \n",
       "26706             András Ádám  2432547972                           NaN   \n",
       "26707  Mohammed F. Al-Hunaity  2663083177                           NaN   \n",
       "26708          S. V. Raghavan  2642128721                           NaN   \n",
       "26709      R. Kalyanakrishnan  2629339964                           NaN   \n",
       "\n",
       "        paper_id  \n",
       "0      339090091  \n",
       "1      339090091  \n",
       "2      339090091  \n",
       "3      339107753  \n",
       "4      339107753  \n",
       "...          ...  \n",
       "26705  141116944  \n",
       "26706  141127911  \n",
       "26707  141128058  \n",
       "26708  141140491  \n",
       "26709  141140491  \n",
       "\n",
       "[26710 rows x 4 columns]"
      ]
     },
     "execution_count": 59,
     "metadata": {},
     "output_type": "execute_result"
    }
   ],
   "source": [
    "author_df"
   ]
  },
  {
   "cell_type": "code",
   "execution_count": 60,
   "id": "855f9996-c67e-4211-b8df-b6b729978202",
   "metadata": {},
   "outputs": [
    {
     "name": "stdout",
     "output_type": "stream",
     "text": [
      "<class 'pandas.core.frame.DataFrame'>\n",
      "RangeIndex: 26710 entries, 0 to 26709\n",
      "Data columns (total 4 columns):\n",
      " #   Column       Non-Null Count  Dtype \n",
      "---  ------       --------------  ----- \n",
      " 0   author_name  26710 non-null  object\n",
      " 1   author_id    26710 non-null  int64 \n",
      " 2   author_org   15226 non-null  object\n",
      " 3   paper_id     26710 non-null  object\n",
      "dtypes: int64(1), object(3)\n",
      "memory usage: 834.8+ KB\n"
     ]
    }
   ],
   "source": [
    "info(author_df)"
   ]
  },
  {
   "cell_type": "code",
   "execution_count": 61,
   "id": "71716ea0-e84d-4dae-bcb4-c4243492c844",
   "metadata": {},
   "outputs": [
    {
     "name": "stdout",
     "output_type": "stream",
     "text": [
      "<class 'pandas.core.frame.DataFrame'>\n",
      "RangeIndex: 26710 entries, 0 to 26709\n",
      "Data columns (total 4 columns):\n",
      " #   Column       Non-Null Count  Dtype \n",
      "---  ------       --------------  ----- \n",
      " 0   author_name  26710 non-null  object\n",
      " 1   author_id    26710 non-null  int64 \n",
      " 2   author_org   15226 non-null  object\n",
      " 3   paper_id     26710 non-null  int64 \n",
      "dtypes: int64(2), object(2)\n",
      "memory usage: 834.8+ KB\n"
     ]
    }
   ],
   "source": [
    "cast_to(author_df,'paper_id','int64')\n",
    "#sostituisce le stringhe ('') vuote con np.nan, se ce ne sono\n",
    "fill_with_nan(author_df,'')"
   ]
  },
  {
   "cell_type": "code",
   "execution_count": 62,
   "id": "47254413-99f4-4237-802d-2dd68ece1abb",
   "metadata": {},
   "outputs": [
    {
     "name": "stdout",
     "output_type": "stream",
     "text": [
      "Series([], Name: author_name, dtype: object)\n",
      "            \n",
      "Series([], Name: author_org, dtype: object)\n",
      "            \n"
     ]
    }
   ],
   "source": [
    "#verifica quali colonne nel df contengono i caratteri speciali (riferimento a carattere numerico html), formato '&#x[HEX];'\n",
    "column_with_special_char(author_df,'&#x')"
   ]
  },
  {
   "cell_type": "code",
   "execution_count": 63,
   "id": "00d08cb0-ec65-4a00-979b-5d502d606a58",
   "metadata": {},
   "outputs": [
    {
     "name": "stdout",
     "output_type": "stream",
     "text": [
      "Series([], Name: author_name, dtype: object)\n",
      "            \n",
      "Series([], Name: author_org, dtype: object)\n",
      "            \n"
     ]
    }
   ],
   "source": [
    "#verifica quali colonne nel df contengono il carattere NULL\n",
    "column_with_special_char(author_df,'\\x00')"
   ]
  },
  {
   "cell_type": "code",
   "execution_count": 64,
   "id": "e67c328c-dcad-49dd-9919-b13f01d971f2",
   "metadata": {},
   "outputs": [],
   "source": [
    "#decodifica le entità carattere\n",
    "unescape_special_char(author_df)"
   ]
  },
  {
   "cell_type": "code",
   "execution_count": 65,
   "id": "93ecc454-4f4d-4345-b134-2a2834bd178a",
   "metadata": {},
   "outputs": [],
   "source": [
    "#rimpiazza i valori NUL con uno spazio\n",
    "author_df['author_org'].replace('\\x00',' ',inplace=True, regex=True)"
   ]
  },
  {
   "cell_type": "markdown",
   "id": "739b194e-f563-4a47-844b-c999f225f912",
   "metadata": {
    "jp-MarkdownHeadingCollapsed": true,
    "tags": []
   },
   "source": [
    "## DataFrame per who+analisi"
   ]
  },
  {
   "cell_type": "code",
   "execution_count": 66,
   "id": "9bf219ce-2da1-4703-9b6f-0f67ba8b8235",
   "metadata": {},
   "outputs": [],
   "source": [
    "who=author_df[['paper_id','author_id','author_org']]"
   ]
  },
  {
   "cell_type": "code",
   "execution_count": 67,
   "id": "a1a2fe67-eccb-4a38-be85-3522f51c5936",
   "metadata": {},
   "outputs": [
    {
     "data": {
      "text/html": [
       "<div>\n",
       "<style scoped>\n",
       "    .dataframe tbody tr th:only-of-type {\n",
       "        vertical-align: middle;\n",
       "    }\n",
       "\n",
       "    .dataframe tbody tr th {\n",
       "        vertical-align: top;\n",
       "    }\n",
       "\n",
       "    .dataframe thead th {\n",
       "        text-align: right;\n",
       "    }\n",
       "</style>\n",
       "<table border=\"1\" class=\"dataframe\">\n",
       "  <thead>\n",
       "    <tr style=\"text-align: right;\">\n",
       "      <th></th>\n",
       "      <th>paper_id</th>\n",
       "      <th>author_id</th>\n",
       "      <th>author_org</th>\n",
       "    </tr>\n",
       "  </thead>\n",
       "  <tbody>\n",
       "  </tbody>\n",
       "</table>\n",
       "</div>"
      ],
      "text/plain": [
       "Empty DataFrame\n",
       "Columns: [paper_id, author_id, author_org]\n",
       "Index: []"
      ]
     },
     "execution_count": 67,
     "metadata": {},
     "output_type": "execute_result"
    }
   ],
   "source": [
    "check_duplicates(who,['paper_id','author_id','author_org'])"
   ]
  },
  {
   "cell_type": "code",
   "execution_count": 68,
   "id": "02ef4e1f-25f9-43a9-9274-ad7acc0925ab",
   "metadata": {},
   "outputs": [
    {
     "name": "stdout",
     "output_type": "stream",
     "text": [
      "<class 'pandas.core.frame.DataFrame'>\n",
      "RangeIndex: 26710 entries, 0 to 26709\n",
      "Data columns (total 3 columns):\n",
      " #   Column      Non-Null Count  Dtype \n",
      "---  ------      --------------  ----- \n",
      " 0   paper_id    26710 non-null  int64 \n",
      " 1   author_id   26710 non-null  int64 \n",
      " 2   author_org  15226 non-null  object\n",
      "dtypes: int64(2), object(1)\n",
      "memory usage: 626.1+ KB\n"
     ]
    },
    {
     "name": "stderr",
     "output_type": "stream",
     "text": [
      "/Users/autoteamchannel/Downloads/scripts/manipulate_df.py:12: SettingWithCopyWarning: \n",
      "A value is trying to be set on a copy of a slice from a DataFrame\n",
      "\n",
      "See the caveats in the documentation: https://pandas.pydata.org/pandas-docs/stable/user_guide/indexing.html#returning-a-view-versus-a-copy\n",
      "  df.dropna(axis='index', #effettua l'eliminazione lungo l'asse degli indici\n",
      "/Users/autoteamchannel/Downloads/scripts/manipulate_df.py:15: SettingWithCopyWarning: \n",
      "A value is trying to be set on a copy of a slice from a DataFrame\n",
      "\n",
      "See the caveats in the documentation: https://pandas.pydata.org/pandas-docs/stable/user_guide/indexing.html#returning-a-view-versus-a-copy\n",
      "  df.drop_duplicates(inplace=True, #effettua l'operazione sul dataframe anzichè restituire una copia\n"
     ]
    }
   ],
   "source": [
    "del_null_duplicates(who)"
   ]
  },
  {
   "cell_type": "markdown",
   "id": "501a662c-5637-4457-9171-6b49ea88ac96",
   "metadata": {
    "jp-MarkdownHeadingCollapsed": true,
    "tags": []
   },
   "source": [
    "## DataFrame per author+analisi"
   ]
  },
  {
   "cell_type": "code",
   "execution_count": 69,
   "id": "00daffee-54e0-497e-ac14-69f978b3b466",
   "metadata": {},
   "outputs": [],
   "source": [
    "author= author_df[['author_id', 'author_name']]"
   ]
  },
  {
   "cell_type": "code",
   "execution_count": 70,
   "id": "d1604abe-a1b0-4d0b-8daa-5e6bc42098e7",
   "metadata": {},
   "outputs": [
    {
     "data": {
      "text/html": [
       "<div>\n",
       "<style scoped>\n",
       "    .dataframe tbody tr th:only-of-type {\n",
       "        vertical-align: middle;\n",
       "    }\n",
       "\n",
       "    .dataframe tbody tr th {\n",
       "        vertical-align: top;\n",
       "    }\n",
       "\n",
       "    .dataframe thead th {\n",
       "        text-align: right;\n",
       "    }\n",
       "</style>\n",
       "<table border=\"1\" class=\"dataframe\">\n",
       "  <thead>\n",
       "    <tr style=\"text-align: right;\">\n",
       "      <th></th>\n",
       "      <th>author_id</th>\n",
       "      <th>author_name</th>\n",
       "    </tr>\n",
       "  </thead>\n",
       "  <tbody>\n",
       "    <tr>\n",
       "      <th>1000</th>\n",
       "      <td>222893</td>\n",
       "      <td>Nazli Goharian</td>\n",
       "    </tr>\n",
       "    <tr>\n",
       "      <th>26343</th>\n",
       "      <td>222893</td>\n",
       "      <td>Nazli Goharian</td>\n",
       "    </tr>\n",
       "    <tr>\n",
       "      <th>9278</th>\n",
       "      <td>342741</td>\n",
       "      <td>Salvatore Ammirato</td>\n",
       "    </tr>\n",
       "    <tr>\n",
       "      <th>9481</th>\n",
       "      <td>342741</td>\n",
       "      <td>Salvatore Ammirato</td>\n",
       "    </tr>\n",
       "    <tr>\n",
       "      <th>13462</th>\n",
       "      <td>1306445</td>\n",
       "      <td>Susan Stepney</td>\n",
       "    </tr>\n",
       "    <tr>\n",
       "      <th>...</th>\n",
       "      <td>...</td>\n",
       "      <td>...</td>\n",
       "    </tr>\n",
       "    <tr>\n",
       "      <th>21750</th>\n",
       "      <td>2984062584</td>\n",
       "      <td>Zhong Chen</td>\n",
       "    </tr>\n",
       "    <tr>\n",
       "      <th>407</th>\n",
       "      <td>2984957170</td>\n",
       "      <td>E. Michael Maximilien</td>\n",
       "    </tr>\n",
       "    <tr>\n",
       "      <th>23070</th>\n",
       "      <td>2984957170</td>\n",
       "      <td>E. Michael Maximilien</td>\n",
       "    </tr>\n",
       "    <tr>\n",
       "      <th>8392</th>\n",
       "      <td>2986889263</td>\n",
       "      <td>Ulrich Reimer</td>\n",
       "    </tr>\n",
       "    <tr>\n",
       "      <th>12337</th>\n",
       "      <td>2986889263</td>\n",
       "      <td>Ulrich Reimer</td>\n",
       "    </tr>\n",
       "  </tbody>\n",
       "</table>\n",
       "<p>2568 rows × 2 columns</p>\n",
       "</div>"
      ],
      "text/plain": [
       "        author_id            author_name\n",
       "1000       222893         Nazli Goharian\n",
       "26343      222893         Nazli Goharian\n",
       "9278       342741     Salvatore Ammirato\n",
       "9481       342741     Salvatore Ammirato\n",
       "13462     1306445          Susan Stepney\n",
       "...           ...                    ...\n",
       "21750  2984062584             Zhong Chen\n",
       "407    2984957170  E. Michael Maximilien\n",
       "23070  2984957170  E. Michael Maximilien\n",
       "8392   2986889263          Ulrich Reimer\n",
       "12337  2986889263          Ulrich Reimer\n",
       "\n",
       "[2568 rows x 2 columns]"
      ]
     },
     "execution_count": 70,
     "metadata": {},
     "output_type": "execute_result"
    }
   ],
   "source": [
    "check_duplicates(author,['author_id', 'author_name'])"
   ]
  },
  {
   "cell_type": "code",
   "execution_count": 71,
   "id": "306011be-407e-42b7-bd62-b6d083ad7171",
   "metadata": {},
   "outputs": [
    {
     "name": "stdout",
     "output_type": "stream",
     "text": [
      "<class 'pandas.core.frame.DataFrame'>\n",
      "RangeIndex: 25316 entries, 0 to 25315\n",
      "Data columns (total 2 columns):\n",
      " #   Column       Non-Null Count  Dtype \n",
      "---  ------       --------------  ----- \n",
      " 0   author_id    25316 non-null  int64 \n",
      " 1   author_name  25316 non-null  object\n",
      "dtypes: int64(1), object(1)\n",
      "memory usage: 395.7+ KB\n"
     ]
    },
    {
     "name": "stderr",
     "output_type": "stream",
     "text": [
      "/Users/autoteamchannel/Downloads/scripts/manipulate_df.py:12: SettingWithCopyWarning: \n",
      "A value is trying to be set on a copy of a slice from a DataFrame\n",
      "\n",
      "See the caveats in the documentation: https://pandas.pydata.org/pandas-docs/stable/user_guide/indexing.html#returning-a-view-versus-a-copy\n",
      "  df.dropna(axis='index', #effettua l'eliminazione lungo l'asse degli indici\n",
      "/Users/autoteamchannel/Downloads/scripts/manipulate_df.py:15: SettingWithCopyWarning: \n",
      "A value is trying to be set on a copy of a slice from a DataFrame\n",
      "\n",
      "See the caveats in the documentation: https://pandas.pydata.org/pandas-docs/stable/user_guide/indexing.html#returning-a-view-versus-a-copy\n",
      "  df.drop_duplicates(inplace=True, #effettua l'operazione sul dataframe anzichè restituire una copia\n"
     ]
    }
   ],
   "source": [
    "#elimina righe completamente nulle e i duplicati\n",
    "del_null_duplicates(author)"
   ]
  },
  {
   "cell_type": "code",
   "execution_count": 72,
   "id": "e02951b7-6822-4579-a8fc-480169a4ceb7",
   "metadata": {},
   "outputs": [
    {
     "data": {
      "text/html": [
       "<div>\n",
       "<style scoped>\n",
       "    .dataframe tbody tr th:only-of-type {\n",
       "        vertical-align: middle;\n",
       "    }\n",
       "\n",
       "    .dataframe tbody tr th {\n",
       "        vertical-align: top;\n",
       "    }\n",
       "\n",
       "    .dataframe thead th {\n",
       "        text-align: right;\n",
       "    }\n",
       "</style>\n",
       "<table border=\"1\" class=\"dataframe\">\n",
       "  <thead>\n",
       "    <tr style=\"text-align: right;\">\n",
       "      <th></th>\n",
       "      <th>author_id</th>\n",
       "      <th>author_name</th>\n",
       "    </tr>\n",
       "  </thead>\n",
       "  <tbody>\n",
       "    <tr>\n",
       "      <th>13409</th>\n",
       "      <td>10071845</td>\n",
       "      <td>Frantisek Sudzina</td>\n",
       "    </tr>\n",
       "    <tr>\n",
       "      <th>6371</th>\n",
       "      <td>10071845</td>\n",
       "      <td>František Sudzina</td>\n",
       "    </tr>\n",
       "    <tr>\n",
       "      <th>10666</th>\n",
       "      <td>76172389</td>\n",
       "      <td>Michal Wrzeszcz</td>\n",
       "    </tr>\n",
       "    <tr>\n",
       "      <th>2531</th>\n",
       "      <td>76172389</td>\n",
       "      <td>Michał Wrzeszcz</td>\n",
       "    </tr>\n",
       "    <tr>\n",
       "      <th>14342</th>\n",
       "      <td>77678245</td>\n",
       "      <td>I. Serina</td>\n",
       "    </tr>\n",
       "    <tr>\n",
       "      <th>...</th>\n",
       "      <td>...</td>\n",
       "      <td>...</td>\n",
       "    </tr>\n",
       "    <tr>\n",
       "      <th>24514</th>\n",
       "      <td>2790392185</td>\n",
       "      <td>Laurent Lefèvre</td>\n",
       "    </tr>\n",
       "    <tr>\n",
       "      <th>13167</th>\n",
       "      <td>2937543209</td>\n",
       "      <td>H.R. Rao</td>\n",
       "    </tr>\n",
       "    <tr>\n",
       "      <th>3774</th>\n",
       "      <td>2937543209</td>\n",
       "      <td>H. R. Rao</td>\n",
       "    </tr>\n",
       "    <tr>\n",
       "      <th>14226</th>\n",
       "      <td>2970711141</td>\n",
       "      <td>Artur J. Ferreira</td>\n",
       "    </tr>\n",
       "    <tr>\n",
       "      <th>14317</th>\n",
       "      <td>2970711141</td>\n",
       "      <td>Artur Jorge Ferreira</td>\n",
       "    </tr>\n",
       "  </tbody>\n",
       "</table>\n",
       "<p>253 rows × 2 columns</p>\n",
       "</div>"
      ],
      "text/plain": [
       "        author_id           author_name\n",
       "13409    10071845     Frantisek Sudzina\n",
       "6371     10071845     František Sudzina\n",
       "10666    76172389       Michal Wrzeszcz\n",
       "2531     76172389       Michał Wrzeszcz\n",
       "14342    77678245             I. Serina\n",
       "...           ...                   ...\n",
       "24514  2790392185       Laurent Lefèvre\n",
       "13167  2937543209              H.R. Rao\n",
       "3774   2937543209             H. R. Rao\n",
       "14226  2970711141     Artur J. Ferreira\n",
       "14317  2970711141  Artur Jorge Ferreira\n",
       "\n",
       "[253 rows x 2 columns]"
      ]
     },
     "execution_count": 72,
     "metadata": {},
     "output_type": "execute_result"
    }
   ],
   "source": [
    "#controlla i duplicati sul sottoinsieme author_id: sono gli stessi author_name scritti in modi differenti\n",
    "check_duplicates(author,['author_id'])"
   ]
  },
  {
   "cell_type": "markdown",
   "id": "54225b17-52d8-4824-bd5c-36aa79af6768",
   "metadata": {
    "jp-MarkdownHeadingCollapsed": true,
    "tags": []
   },
   "source": [
    "## DataFrame author_extended "
   ]
  },
  {
   "cell_type": "code",
   "execution_count": 73,
   "id": "16ce70aa-bc2e-47f6-9afa-9b24b36b9783",
   "metadata": {},
   "outputs": [],
   "source": [
    "#crea il dataframe con gli author referenziati in modi diversi\n",
    "author_extended=author[['author_id','author_name']]"
   ]
  },
  {
   "cell_type": "markdown",
   "id": "5e97ba6f-c312-4dd4-a724-7f879c3e8566",
   "metadata": {
    "jp-MarkdownHeadingCollapsed": true,
    "tags": []
   },
   "source": [
    "## Elaborazione di author"
   ]
  },
  {
   "cell_type": "code",
   "execution_count": 74,
   "id": "92d4a7ce-1cad-48f2-b683-142bce871b42",
   "metadata": {},
   "outputs": [
    {
     "name": "stderr",
     "output_type": "stream",
     "text": [
      "/var/folders/br/6gdrmps94h75yv4f9c5z85cc0000gp/T/ipykernel_2653/2911874236.py:2: SettingWithCopyWarning: \n",
      "A value is trying to be set on a copy of a slice from a DataFrame\n",
      "\n",
      "See the caveats in the documentation: https://pandas.pydata.org/pandas-docs/stable/user_guide/indexing.html#returning-a-view-versus-a-copy\n",
      "  author.drop_duplicates(subset=['author_id'],inplace=True, ignore_index=True)\n"
     ]
    }
   ],
   "source": [
    "#elimina i duplicati sul sottoinsieme author_id\n",
    "author.drop_duplicates(subset=['author_id'],inplace=True, ignore_index=True)"
   ]
  },
  {
   "cell_type": "markdown",
   "id": "9f4035ad-d166-4336-87ca-b93548215877",
   "metadata": {
    "jp-MarkdownHeadingCollapsed": true,
    "tags": []
   },
   "source": [
    "## Connessione al DB"
   ]
  },
  {
   "cell_type": "code",
   "execution_count": 75,
   "id": "ced0fcb3-dbf6-4a3b-b58b-79f709a24f32",
   "metadata": {},
   "outputs": [
    {
     "data": {
      "text/plain": [
       "25189"
      ]
     },
     "execution_count": 75,
     "metadata": {},
     "output_type": "execute_result"
    }
   ],
   "source": [
    "#esporta i vari DataFrame nelle rispettive tabelle create in pgAdmin\n",
    "connect_db(author,'author')"
   ]
  },
  {
   "cell_type": "code",
   "execution_count": 76,
   "id": "21a92745-ec2b-4a9b-b2e5-2471bf049ad5",
   "metadata": {},
   "outputs": [
    {
     "data": {
      "text/plain": [
       "25316"
      ]
     },
     "execution_count": 76,
     "metadata": {},
     "output_type": "execute_result"
    }
   ],
   "source": [
    "connect_db(author_extended,'author_extended')"
   ]
  },
  {
   "cell_type": "code",
   "execution_count": 77,
   "id": "e7071e51-fa88-48ec-920c-148134f98bc0",
   "metadata": {},
   "outputs": [
    {
     "data": {
      "text/plain": [
       "26710"
      ]
     },
     "execution_count": 77,
     "metadata": {},
     "output_type": "execute_result"
    }
   ],
   "source": [
    "connect_db(who,'who')"
   ]
  },
  {
   "cell_type": "markdown",
   "id": "e5e3ad8b-b2c8-4234-8b31-41908f82d187",
   "metadata": {
    "jp-MarkdownHeadingCollapsed": true,
    "tags": []
   },
   "source": [
    "# fos_df"
   ]
  },
  {
   "cell_type": "markdown",
   "id": "8b76ff18-c938-49a2-8beb-cb8b622467ea",
   "metadata": {
    "jp-MarkdownHeadingCollapsed": true,
    "tags": []
   },
   "source": [
    "## Inizializzazione del DataFrame vuoto+inserimento degli elementi del Json nel DataFrame"
   ]
  },
  {
   "cell_type": "code",
   "execution_count": 78,
   "id": "e8a06689-22d0-4237-a9f1-320ed2944035",
   "metadata": {},
   "outputs": [],
   "source": [
    "fos_df=initialize()\n",
    "\n",
    "#legge il json ed inserisce gli elementi del json nel df, mantiene solo le colonne di interesse\n",
    "fos_df=read_json_flatten_from_dict(fos_df,path,data,'fos','id','paper_','fos_')"
   ]
  },
  {
   "cell_type": "markdown",
   "id": "0124e3e7-1966-4c0a-80f1-c9ae50cacbe6",
   "metadata": {
    "jp-MarkdownHeadingCollapsed": true,
    "tags": []
   },
   "source": [
    "## Analisi+elaborazione di fos_df"
   ]
  },
  {
   "cell_type": "code",
   "execution_count": 79,
   "id": "6abf59e8-02b1-431d-869d-9c3a048e773d",
   "metadata": {},
   "outputs": [
    {
     "data": {
      "text/html": [
       "<div>\n",
       "<style scoped>\n",
       "    .dataframe tbody tr th:only-of-type {\n",
       "        vertical-align: middle;\n",
       "    }\n",
       "\n",
       "    .dataframe tbody tr th {\n",
       "        vertical-align: top;\n",
       "    }\n",
       "\n",
       "    .dataframe thead th {\n",
       "        text-align: right;\n",
       "    }\n",
       "</style>\n",
       "<table border=\"1\" class=\"dataframe\">\n",
       "  <thead>\n",
       "    <tr style=\"text-align: right;\">\n",
       "      <th></th>\n",
       "      <th>fos_name</th>\n",
       "      <th>fos_w</th>\n",
       "      <th>paper_id</th>\n",
       "    </tr>\n",
       "  </thead>\n",
       "  <tbody>\n",
       "    <tr>\n",
       "      <th>0</th>\n",
       "      <td>Document classification</td>\n",
       "      <td>0.69468</td>\n",
       "      <td>339090091</td>\n",
       "    </tr>\n",
       "    <tr>\n",
       "      <th>1</th>\n",
       "      <td>Data mining</td>\n",
       "      <td>0.45555</td>\n",
       "      <td>339090091</td>\n",
       "    </tr>\n",
       "    <tr>\n",
       "      <th>2</th>\n",
       "      <td>Architecture</td>\n",
       "      <td>0.44832</td>\n",
       "      <td>339090091</td>\n",
       "    </tr>\n",
       "    <tr>\n",
       "      <th>3</th>\n",
       "      <td>Information retrieval</td>\n",
       "      <td>0.46439</td>\n",
       "      <td>339090091</td>\n",
       "    </tr>\n",
       "    <tr>\n",
       "      <th>4</th>\n",
       "      <td>Computer science</td>\n",
       "      <td>0.43309</td>\n",
       "      <td>339090091</td>\n",
       "    </tr>\n",
       "    <tr>\n",
       "      <th>...</th>\n",
       "      <td>...</td>\n",
       "      <td>...</td>\n",
       "      <td>...</td>\n",
       "    </tr>\n",
       "    <tr>\n",
       "      <th>78524</th>\n",
       "      <td>Mobile station</td>\n",
       "      <td>0.63185</td>\n",
       "      <td>141128058</td>\n",
       "    </tr>\n",
       "    <tr>\n",
       "      <th>78525</th>\n",
       "      <td>Engineering</td>\n",
       "      <td>0.39459</td>\n",
       "      <td>141128058</td>\n",
       "    </tr>\n",
       "    <tr>\n",
       "      <th>78526</th>\n",
       "      <td>Computer science</td>\n",
       "      <td>0.46044</td>\n",
       "      <td>141140491</td>\n",
       "    </tr>\n",
       "    <tr>\n",
       "      <th>78527</th>\n",
       "      <td>Multimedia</td>\n",
       "      <td>0.46348</td>\n",
       "      <td>141140491</td>\n",
       "    </tr>\n",
       "    <tr>\n",
       "      <th>78528</th>\n",
       "      <td>Distributed computing</td>\n",
       "      <td>0.44435</td>\n",
       "      <td>141140491</td>\n",
       "    </tr>\n",
       "  </tbody>\n",
       "</table>\n",
       "<p>78529 rows × 3 columns</p>\n",
       "</div>"
      ],
      "text/plain": [
       "                      fos_name    fos_w   paper_id\n",
       "0      Document classification  0.69468  339090091\n",
       "1                  Data mining  0.45555  339090091\n",
       "2                 Architecture  0.44832  339090091\n",
       "3        Information retrieval  0.46439  339090091\n",
       "4             Computer science  0.43309  339090091\n",
       "...                        ...      ...        ...\n",
       "78524           Mobile station  0.63185  141128058\n",
       "78525              Engineering  0.39459  141128058\n",
       "78526         Computer science  0.46044  141140491\n",
       "78527               Multimedia  0.46348  141140491\n",
       "78528    Distributed computing  0.44435  141140491\n",
       "\n",
       "[78529 rows x 3 columns]"
      ]
     },
     "execution_count": 79,
     "metadata": {},
     "output_type": "execute_result"
    }
   ],
   "source": [
    "fos_df"
   ]
  },
  {
   "cell_type": "code",
   "execution_count": 80,
   "id": "880a00ca-c129-4964-92fb-bb66ba53e23c",
   "metadata": {},
   "outputs": [
    {
     "name": "stdout",
     "output_type": "stream",
     "text": [
      "<class 'pandas.core.frame.DataFrame'>\n",
      "RangeIndex: 78529 entries, 0 to 78528\n",
      "Data columns (total 3 columns):\n",
      " #   Column    Non-Null Count  Dtype  \n",
      "---  ------    --------------  -----  \n",
      " 0   fos_name  78529 non-null  object \n",
      " 1   fos_w     78529 non-null  float64\n",
      " 2   paper_id  78529 non-null  object \n",
      "dtypes: float64(1), object(2)\n",
      "memory usage: 1.8+ MB\n"
     ]
    }
   ],
   "source": [
    "info(fos_df)"
   ]
  },
  {
   "cell_type": "code",
   "execution_count": 81,
   "id": "e88759da-e994-4bb3-b9e1-3f554dbf4db4",
   "metadata": {},
   "outputs": [
    {
     "name": "stdout",
     "output_type": "stream",
     "text": [
      "<class 'pandas.core.frame.DataFrame'>\n",
      "RangeIndex: 78529 entries, 0 to 78528\n",
      "Data columns (total 3 columns):\n",
      " #   Column    Non-Null Count  Dtype  \n",
      "---  ------    --------------  -----  \n",
      " 0   fos_name  78529 non-null  object \n",
      " 1   fos_w     78529 non-null  float64\n",
      " 2   paper_id  78529 non-null  int64  \n",
      "dtypes: float64(1), int64(1), object(1)\n",
      "memory usage: 1.8+ MB\n"
     ]
    }
   ],
   "source": [
    "cast_to(fos_df,'paper_id','int64')\n",
    "\n",
    "#sostituisce le stringhe ('') vuote con np.nan, se ce ne sono\n",
    "fill_with_nan(fos_df,'')"
   ]
  },
  {
   "cell_type": "code",
   "execution_count": 82,
   "id": "243af8d3-4953-4d14-a374-35c00b820837",
   "metadata": {},
   "outputs": [
    {
     "name": "stdout",
     "output_type": "stream",
     "text": [
      "Series([], Name: fos_name, dtype: object)\n",
      "            \n"
     ]
    }
   ],
   "source": [
    "#non serve chiamare unescape_special_char\n",
    "column_with_special_char(fos_df,'&#x')"
   ]
  },
  {
   "cell_type": "code",
   "execution_count": 83,
   "id": "7a26a307-f765-40f3-ad9b-4edbb4ade504",
   "metadata": {},
   "outputs": [
    {
     "data": {
      "text/html": [
       "<div>\n",
       "<style scoped>\n",
       "    .dataframe tbody tr th:only-of-type {\n",
       "        vertical-align: middle;\n",
       "    }\n",
       "\n",
       "    .dataframe tbody tr th {\n",
       "        vertical-align: top;\n",
       "    }\n",
       "\n",
       "    .dataframe thead th {\n",
       "        text-align: right;\n",
       "    }\n",
       "</style>\n",
       "<table border=\"1\" class=\"dataframe\">\n",
       "  <thead>\n",
       "    <tr style=\"text-align: right;\">\n",
       "      <th></th>\n",
       "      <th>fos_name</th>\n",
       "      <th>fos_w</th>\n",
       "      <th>paper_id</th>\n",
       "    </tr>\n",
       "  </thead>\n",
       "  <tbody>\n",
       "  </tbody>\n",
       "</table>\n",
       "</div>"
      ],
      "text/plain": [
       "Empty DataFrame\n",
       "Columns: [fos_name, fos_w, paper_id]\n",
       "Index: []"
      ]
     },
     "execution_count": 83,
     "metadata": {},
     "output_type": "execute_result"
    }
   ],
   "source": [
    "check_duplicates(fos_df,['fos_name','fos_w','paper_id'])"
   ]
  },
  {
   "cell_type": "code",
   "execution_count": 84,
   "id": "a8b3e103-a208-449c-9f9d-68a365c33609",
   "metadata": {},
   "outputs": [
    {
     "name": "stdout",
     "output_type": "stream",
     "text": [
      "<class 'pandas.core.frame.DataFrame'>\n",
      "RangeIndex: 78529 entries, 0 to 78528\n",
      "Data columns (total 3 columns):\n",
      " #   Column    Non-Null Count  Dtype  \n",
      "---  ------    --------------  -----  \n",
      " 0   fos_name  78529 non-null  object \n",
      " 1   fos_w     78529 non-null  float64\n",
      " 2   paper_id  78529 non-null  int64  \n",
      "dtypes: float64(1), int64(1), object(1)\n",
      "memory usage: 1.8+ MB\n"
     ]
    }
   ],
   "source": [
    "del_null_duplicates(fos_df)"
   ]
  },
  {
   "cell_type": "code",
   "execution_count": 85,
   "id": "3bc40f36-d70d-49ad-9004-5fb3cfc68661",
   "metadata": {},
   "outputs": [
    {
     "data": {
      "text/html": [
       "<div>\n",
       "<style scoped>\n",
       "    .dataframe tbody tr th:only-of-type {\n",
       "        vertical-align: middle;\n",
       "    }\n",
       "\n",
       "    .dataframe tbody tr th {\n",
       "        vertical-align: top;\n",
       "    }\n",
       "\n",
       "    .dataframe thead th {\n",
       "        text-align: right;\n",
       "    }\n",
       "</style>\n",
       "<table border=\"1\" class=\"dataframe\">\n",
       "  <thead>\n",
       "    <tr style=\"text-align: right;\">\n",
       "      <th></th>\n",
       "      <th>fos_name</th>\n",
       "      <th>fos_w</th>\n",
       "      <th>paper_id</th>\n",
       "    </tr>\n",
       "  </thead>\n",
       "  <tbody>\n",
       "    <tr>\n",
       "      <th>34254</th>\n",
       "      <td>1-planar graph</td>\n",
       "      <td>0.59335</td>\n",
       "      <td>161278506</td>\n",
       "    </tr>\n",
       "    <tr>\n",
       "      <th>28605</th>\n",
       "      <td>1-planar graph</td>\n",
       "      <td>0.57787</td>\n",
       "      <td>157787184</td>\n",
       "    </tr>\n",
       "    <tr>\n",
       "      <th>37386</th>\n",
       "      <td>1-planar graph</td>\n",
       "      <td>0.50451</td>\n",
       "      <td>163240004</td>\n",
       "    </tr>\n",
       "    <tr>\n",
       "      <th>71159</th>\n",
       "      <td>1-planar graph</td>\n",
       "      <td>0.57172</td>\n",
       "      <td>315834793</td>\n",
       "    </tr>\n",
       "    <tr>\n",
       "      <th>50796</th>\n",
       "      <td>1-planar graph</td>\n",
       "      <td>0.55049</td>\n",
       "      <td>171577813</td>\n",
       "    </tr>\n",
       "    <tr>\n",
       "      <th>...</th>\n",
       "      <td>...</td>\n",
       "      <td>...</td>\n",
       "      <td>...</td>\n",
       "    </tr>\n",
       "    <tr>\n",
       "      <th>74113</th>\n",
       "      <td>ω-automaton</td>\n",
       "      <td>0.62212</td>\n",
       "      <td>325606627</td>\n",
       "    </tr>\n",
       "    <tr>\n",
       "      <th>35314</th>\n",
       "      <td>ω-automaton</td>\n",
       "      <td>0.53383</td>\n",
       "      <td>161943695</td>\n",
       "    </tr>\n",
       "    <tr>\n",
       "      <th>26482</th>\n",
       "      <td>ω-automaton</td>\n",
       "      <td>0.64281</td>\n",
       "      <td>156518268</td>\n",
       "    </tr>\n",
       "    <tr>\n",
       "      <th>31755</th>\n",
       "      <td>ω-automaton</td>\n",
       "      <td>0.76266</td>\n",
       "      <td>159837505</td>\n",
       "    </tr>\n",
       "    <tr>\n",
       "      <th>78519</th>\n",
       "      <td>ω-automaton</td>\n",
       "      <td>0.58161</td>\n",
       "      <td>141127911</td>\n",
       "    </tr>\n",
       "  </tbody>\n",
       "</table>\n",
       "<p>70571 rows × 3 columns</p>\n",
       "</div>"
      ],
      "text/plain": [
       "             fos_name    fos_w   paper_id\n",
       "34254  1-planar graph  0.59335  161278506\n",
       "28605  1-planar graph  0.57787  157787184\n",
       "37386  1-planar graph  0.50451  163240004\n",
       "71159  1-planar graph  0.57172  315834793\n",
       "50796  1-planar graph  0.55049  171577813\n",
       "...               ...      ...        ...\n",
       "74113     ω-automaton  0.62212  325606627\n",
       "35314     ω-automaton  0.53383  161943695\n",
       "26482     ω-automaton  0.64281  156518268\n",
       "31755     ω-automaton  0.76266  159837505\n",
       "78519     ω-automaton  0.58161  141127911\n",
       "\n",
       "[70571 rows x 3 columns]"
      ]
     },
     "execution_count": 85,
     "metadata": {},
     "output_type": "execute_result"
    }
   ],
   "source": [
    "check_duplicates(fos_df,['fos_name','paper_id']) #DA CONTROLLARE forse da togliere"
   ]
  },
  {
   "cell_type": "markdown",
   "id": "8a578922-baa3-49d5-b79f-593a5e9536ba",
   "metadata": {
    "jp-MarkdownHeadingCollapsed": true,
    "tags": []
   },
   "source": [
    "## DataFrame per fos+analisi"
   ]
  },
  {
   "cell_type": "code",
   "execution_count": 86,
   "id": "f27e54d9-d738-4e6d-93e1-61913ade3113",
   "metadata": {},
   "outputs": [],
   "source": [
    "fos=fos_df[['fos_name']] "
   ]
  },
  {
   "cell_type": "code",
   "execution_count": 87,
   "id": "83c2c805-2a23-4307-8137-b8180bbfef87",
   "metadata": {},
   "outputs": [
    {
     "name": "stdout",
     "output_type": "stream",
     "text": [
      "<class 'pandas.core.frame.DataFrame'>\n",
      "RangeIndex: 14828 entries, 0 to 14827\n",
      "Data columns (total 1 columns):\n",
      " #   Column    Non-Null Count  Dtype \n",
      "---  ------    --------------  ----- \n",
      " 0   fos_name  14828 non-null  object\n",
      "dtypes: object(1)\n",
      "memory usage: 116.0+ KB\n"
     ]
    },
    {
     "name": "stderr",
     "output_type": "stream",
     "text": [
      "/Users/autoteamchannel/Downloads/scripts/manipulate_df.py:12: SettingWithCopyWarning: \n",
      "A value is trying to be set on a copy of a slice from a DataFrame\n",
      "\n",
      "See the caveats in the documentation: https://pandas.pydata.org/pandas-docs/stable/user_guide/indexing.html#returning-a-view-versus-a-copy\n",
      "  df.dropna(axis='index', #effettua l'eliminazione lungo l'asse degli indici\n",
      "/Users/autoteamchannel/Downloads/scripts/manipulate_df.py:15: SettingWithCopyWarning: \n",
      "A value is trying to be set on a copy of a slice from a DataFrame\n",
      "\n",
      "See the caveats in the documentation: https://pandas.pydata.org/pandas-docs/stable/user_guide/indexing.html#returning-a-view-versus-a-copy\n",
      "  df.drop_duplicates(inplace=True, #effettua l'operazione sul dataframe anzichè restituire una copia\n"
     ]
    }
   ],
   "source": [
    "del_null_duplicates(fos)"
   ]
  },
  {
   "cell_type": "code",
   "execution_count": 88,
   "id": "60f066c6-662d-43d2-aab5-145a2b95b69f",
   "metadata": {},
   "outputs": [
    {
     "name": "stderr",
     "output_type": "stream",
     "text": [
      "/var/folders/br/6gdrmps94h75yv4f9c5z85cc0000gp/T/ipykernel_2653/2589909491.py:3: SettingWithCopyWarning: \n",
      "A value is trying to be set on a copy of a slice from a DataFrame.\n",
      "Try using .loc[row_indexer,col_indexer] = value instead\n",
      "\n",
      "See the caveats in the documentation: https://pandas.pydata.org/pandas-docs/stable/user_guide/indexing.html#returning-a-view-versus-a-copy\n",
      "  fos['fos_id']=hash_df(fos,'int64')\n"
     ]
    }
   ],
   "source": [
    "#crea la colonna fos_id chiamando la funzione di hash sul dataframe fos\n",
    "fos['fos_id']=hash_df(fos,'int64')"
   ]
  },
  {
   "cell_type": "markdown",
   "id": "edc5a148-926d-4045-91ba-f2a745a08a62",
   "metadata": {
    "jp-MarkdownHeadingCollapsed": true,
    "tags": []
   },
   "source": [
    "## DataFrame per what+analisi"
   ]
  },
  {
   "cell_type": "code",
   "execution_count": 89,
   "id": "70f7a6c7-777d-4921-83a9-1e9c422dd46d",
   "metadata": {},
   "outputs": [],
   "source": [
    "#Esegue un merge sinistro con il DataFrame fos_df sulla colonna fos_name,\n",
    "#il risultato lo mette in un nuovo DataFrame what_df\n",
    "what_df=pd.merge(fos_df,fos, how='left', on=['fos_name'])  "
   ]
  },
  {
   "cell_type": "code",
   "execution_count": 90,
   "id": "ad2ba9af-8512-4a5d-99af-f9745c92fab1",
   "metadata": {},
   "outputs": [],
   "source": [
    "#crea dataframe per what con solo le colonne di interesse\n",
    "what=what_df[['paper_id', 'fos_id','fos_w']] "
   ]
  },
  {
   "cell_type": "markdown",
   "id": "35d5a08d-cf97-44ab-bbd2-6ea77df2f5ff",
   "metadata": {
    "jp-MarkdownHeadingCollapsed": true,
    "tags": []
   },
   "source": [
    "## Verifica dell'inconsistenza dei dati per il DataFrame What"
   ]
  },
  {
   "cell_type": "code",
   "execution_count": 92,
   "id": "350fabee-3dee-40d9-9204-08216ce5191c",
   "metadata": {},
   "outputs": [
    {
     "data": {
      "text/html": [
       "<div>\n",
       "<style scoped>\n",
       "    .dataframe tbody tr th:only-of-type {\n",
       "        vertical-align: middle;\n",
       "    }\n",
       "\n",
       "    .dataframe tbody tr th {\n",
       "        vertical-align: top;\n",
       "    }\n",
       "\n",
       "    .dataframe thead th {\n",
       "        text-align: right;\n",
       "    }\n",
       "</style>\n",
       "<table border=\"1\" class=\"dataframe\">\n",
       "  <thead>\n",
       "    <tr style=\"text-align: right;\">\n",
       "      <th></th>\n",
       "      <th>paper_id</th>\n",
       "      <th>fos_id</th>\n",
       "      <th>fos_w</th>\n",
       "    </tr>\n",
       "  </thead>\n",
       "  <tbody>\n",
       "    <tr>\n",
       "      <th>32907</th>\n",
       "      <td>160496226</td>\n",
       "      <td>1393614756898590201</td>\n",
       "      <td>0.61141</td>\n",
       "    </tr>\n",
       "    <tr>\n",
       "      <th>32911</th>\n",
       "      <td>160496226</td>\n",
       "      <td>1393614756898590201</td>\n",
       "      <td>0.44901</td>\n",
       "    </tr>\n",
       "    <tr>\n",
       "      <th>35320</th>\n",
       "      <td>161959344</td>\n",
       "      <td>1393614756898590201</td>\n",
       "      <td>0.60809</td>\n",
       "    </tr>\n",
       "    <tr>\n",
       "      <th>35323</th>\n",
       "      <td>161959344</td>\n",
       "      <td>1393614756898590201</td>\n",
       "      <td>0.46859</td>\n",
       "    </tr>\n",
       "    <tr>\n",
       "      <th>43118</th>\n",
       "      <td>166724960</td>\n",
       "      <td>1393614756898590201</td>\n",
       "      <td>0.60175</td>\n",
       "    </tr>\n",
       "    <tr>\n",
       "      <th>43121</th>\n",
       "      <td>166724960</td>\n",
       "      <td>1393614756898590201</td>\n",
       "      <td>0.46336</td>\n",
       "    </tr>\n",
       "    <tr>\n",
       "      <th>44079</th>\n",
       "      <td>167268530</td>\n",
       "      <td>1393614756898590201</td>\n",
       "      <td>0.55885</td>\n",
       "    </tr>\n",
       "    <tr>\n",
       "      <th>44081</th>\n",
       "      <td>167268530</td>\n",
       "      <td>1393614756898590201</td>\n",
       "      <td>0.47395</td>\n",
       "    </tr>\n",
       "    <tr>\n",
       "      <th>46942</th>\n",
       "      <td>169126196</td>\n",
       "      <td>1393614756898590201</td>\n",
       "      <td>0.59999</td>\n",
       "    </tr>\n",
       "    <tr>\n",
       "      <th>46945</th>\n",
       "      <td>169126196</td>\n",
       "      <td>1393614756898590201</td>\n",
       "      <td>0.48294</td>\n",
       "    </tr>\n",
       "    <tr>\n",
       "      <th>51089</th>\n",
       "      <td>171805218</td>\n",
       "      <td>1393614756898590201</td>\n",
       "      <td>0.57581</td>\n",
       "    </tr>\n",
       "    <tr>\n",
       "      <th>51094</th>\n",
       "      <td>171805218</td>\n",
       "      <td>1393614756898590201</td>\n",
       "      <td>0.48011</td>\n",
       "    </tr>\n",
       "    <tr>\n",
       "      <th>58240</th>\n",
       "      <td>270935515</td>\n",
       "      <td>1393614756898590201</td>\n",
       "      <td>0.48792</td>\n",
       "    </tr>\n",
       "    <tr>\n",
       "      <th>58243</th>\n",
       "      <td>270935515</td>\n",
       "      <td>1393614756898590201</td>\n",
       "      <td>0.46233</td>\n",
       "    </tr>\n",
       "    <tr>\n",
       "      <th>66002</th>\n",
       "      <td>292174674</td>\n",
       "      <td>1393614756898590201</td>\n",
       "      <td>0.56660</td>\n",
       "    </tr>\n",
       "    <tr>\n",
       "      <th>66004</th>\n",
       "      <td>292174674</td>\n",
       "      <td>1393614756898590201</td>\n",
       "      <td>0.46613</td>\n",
       "    </tr>\n",
       "    <tr>\n",
       "      <th>67979</th>\n",
       "      <td>303345387</td>\n",
       "      <td>1393614756898590201</td>\n",
       "      <td>0.58369</td>\n",
       "    </tr>\n",
       "    <tr>\n",
       "      <th>67980</th>\n",
       "      <td>303345387</td>\n",
       "      <td>1393614756898590201</td>\n",
       "      <td>0.47768</td>\n",
       "    </tr>\n",
       "    <tr>\n",
       "      <th>69304</th>\n",
       "      <td>308576909</td>\n",
       "      <td>1393614756898590201</td>\n",
       "      <td>0.60239</td>\n",
       "    </tr>\n",
       "    <tr>\n",
       "      <th>69305</th>\n",
       "      <td>308576909</td>\n",
       "      <td>1393614756898590201</td>\n",
       "      <td>0.46399</td>\n",
       "    </tr>\n",
       "    <tr>\n",
       "      <th>1509</th>\n",
       "      <td>343508979</td>\n",
       "      <td>4411799802045374077</td>\n",
       "      <td>0.51139</td>\n",
       "    </tr>\n",
       "    <tr>\n",
       "      <th>1514</th>\n",
       "      <td>343508979</td>\n",
       "      <td>4411799802045374077</td>\n",
       "      <td>0.55443</td>\n",
       "    </tr>\n",
       "    <tr>\n",
       "      <th>1679</th>\n",
       "      <td>344933984</td>\n",
       "      <td>1393614756898590201</td>\n",
       "      <td>0.56024</td>\n",
       "    </tr>\n",
       "    <tr>\n",
       "      <th>1681</th>\n",
       "      <td>344933984</td>\n",
       "      <td>1393614756898590201</td>\n",
       "      <td>0.45924</td>\n",
       "    </tr>\n",
       "    <tr>\n",
       "      <th>4038</th>\n",
       "      <td>364434733</td>\n",
       "      <td>1393614756898590201</td>\n",
       "      <td>0.61969</td>\n",
       "    </tr>\n",
       "    <tr>\n",
       "      <th>4040</th>\n",
       "      <td>364434733</td>\n",
       "      <td>1393614756898590201</td>\n",
       "      <td>0.48060</td>\n",
       "    </tr>\n",
       "    <tr>\n",
       "      <th>4822</th>\n",
       "      <td>375741467</td>\n",
       "      <td>1393614756898590201</td>\n",
       "      <td>0.51564</td>\n",
       "    </tr>\n",
       "    <tr>\n",
       "      <th>4824</th>\n",
       "      <td>375741467</td>\n",
       "      <td>1393614756898590201</td>\n",
       "      <td>0.46064</td>\n",
       "    </tr>\n",
       "    <tr>\n",
       "      <th>5139</th>\n",
       "      <td>379396628</td>\n",
       "      <td>1393614756898590201</td>\n",
       "      <td>0.52259</td>\n",
       "    </tr>\n",
       "    <tr>\n",
       "      <th>5142</th>\n",
       "      <td>379396628</td>\n",
       "      <td>1393614756898590201</td>\n",
       "      <td>0.47154</td>\n",
       "    </tr>\n",
       "    <tr>\n",
       "      <th>5202</th>\n",
       "      <td>380281521</td>\n",
       "      <td>5179957869133884921</td>\n",
       "      <td>0.66448</td>\n",
       "    </tr>\n",
       "    <tr>\n",
       "      <th>5205</th>\n",
       "      <td>380281521</td>\n",
       "      <td>5179957869133884921</td>\n",
       "      <td>0.62613</td>\n",
       "    </tr>\n",
       "    <tr>\n",
       "      <th>7001</th>\n",
       "      <td>409207560</td>\n",
       "      <td>1393614756898590201</td>\n",
       "      <td>0.47340</td>\n",
       "    </tr>\n",
       "    <tr>\n",
       "      <th>7009</th>\n",
       "      <td>409207560</td>\n",
       "      <td>1393614756898590201</td>\n",
       "      <td>0.55712</td>\n",
       "    </tr>\n",
       "    <tr>\n",
       "      <th>9593</th>\n",
       "      <td>564636986</td>\n",
       "      <td>1393614756898590201</td>\n",
       "      <td>0.51983</td>\n",
       "    </tr>\n",
       "    <tr>\n",
       "      <th>9596</th>\n",
       "      <td>564636986</td>\n",
       "      <td>1393614756898590201</td>\n",
       "      <td>0.46434</td>\n",
       "    </tr>\n",
       "    <tr>\n",
       "      <th>9727</th>\n",
       "      <td>565775830</td>\n",
       "      <td>1393614756898590201</td>\n",
       "      <td>0.60856</td>\n",
       "    </tr>\n",
       "    <tr>\n",
       "      <th>9729</th>\n",
       "      <td>565775830</td>\n",
       "      <td>1393614756898590201</td>\n",
       "      <td>0.48145</td>\n",
       "    </tr>\n",
       "    <tr>\n",
       "      <th>10204</th>\n",
       "      <td>569105068</td>\n",
       "      <td>1393614756898590201</td>\n",
       "      <td>0.52907</td>\n",
       "    </tr>\n",
       "    <tr>\n",
       "      <th>10207</th>\n",
       "      <td>569105068</td>\n",
       "      <td>1393614756898590201</td>\n",
       "      <td>0.43872</td>\n",
       "    </tr>\n",
       "    <tr>\n",
       "      <th>11374</th>\n",
       "      <td>580668441</td>\n",
       "      <td>1393614756898590201</td>\n",
       "      <td>0.57842</td>\n",
       "    </tr>\n",
       "    <tr>\n",
       "      <th>11377</th>\n",
       "      <td>580668441</td>\n",
       "      <td>1393614756898590201</td>\n",
       "      <td>0.48009</td>\n",
       "    </tr>\n",
       "    <tr>\n",
       "      <th>12309</th>\n",
       "      <td>590202737</td>\n",
       "      <td>1393614756898590201</td>\n",
       "      <td>0.55585</td>\n",
       "    </tr>\n",
       "    <tr>\n",
       "      <th>12311</th>\n",
       "      <td>590202737</td>\n",
       "      <td>1393614756898590201</td>\n",
       "      <td>0.46837</td>\n",
       "    </tr>\n",
       "    <tr>\n",
       "      <th>13073</th>\n",
       "      <td>597680638</td>\n",
       "      <td>1393614756898590201</td>\n",
       "      <td>0.53367</td>\n",
       "    </tr>\n",
       "    <tr>\n",
       "      <th>13074</th>\n",
       "      <td>597680638</td>\n",
       "      <td>1393614756898590201</td>\n",
       "      <td>0.46768</td>\n",
       "    </tr>\n",
       "    <tr>\n",
       "      <th>14659</th>\n",
       "      <td>609348088</td>\n",
       "      <td>1393614756898590201</td>\n",
       "      <td>0.58072</td>\n",
       "    </tr>\n",
       "    <tr>\n",
       "      <th>14662</th>\n",
       "      <td>609348088</td>\n",
       "      <td>1393614756898590201</td>\n",
       "      <td>0.47747</td>\n",
       "    </tr>\n",
       "    <tr>\n",
       "      <th>16816</th>\n",
       "      <td>628457019</td>\n",
       "      <td>1393614756898590201</td>\n",
       "      <td>0.66125</td>\n",
       "    </tr>\n",
       "    <tr>\n",
       "      <th>16819</th>\n",
       "      <td>628457019</td>\n",
       "      <td>1393614756898590201</td>\n",
       "      <td>0.46164</td>\n",
       "    </tr>\n",
       "  </tbody>\n",
       "</table>\n",
       "</div>"
      ],
      "text/plain": [
       "        paper_id               fos_id    fos_w\n",
       "32907  160496226  1393614756898590201  0.61141\n",
       "32911  160496226  1393614756898590201  0.44901\n",
       "35320  161959344  1393614756898590201  0.60809\n",
       "35323  161959344  1393614756898590201  0.46859\n",
       "43118  166724960  1393614756898590201  0.60175\n",
       "43121  166724960  1393614756898590201  0.46336\n",
       "44079  167268530  1393614756898590201  0.55885\n",
       "44081  167268530  1393614756898590201  0.47395\n",
       "46942  169126196  1393614756898590201  0.59999\n",
       "46945  169126196  1393614756898590201  0.48294\n",
       "51089  171805218  1393614756898590201  0.57581\n",
       "51094  171805218  1393614756898590201  0.48011\n",
       "58240  270935515  1393614756898590201  0.48792\n",
       "58243  270935515  1393614756898590201  0.46233\n",
       "66002  292174674  1393614756898590201  0.56660\n",
       "66004  292174674  1393614756898590201  0.46613\n",
       "67979  303345387  1393614756898590201  0.58369\n",
       "67980  303345387  1393614756898590201  0.47768\n",
       "69304  308576909  1393614756898590201  0.60239\n",
       "69305  308576909  1393614756898590201  0.46399\n",
       "1509   343508979  4411799802045374077  0.51139\n",
       "1514   343508979  4411799802045374077  0.55443\n",
       "1679   344933984  1393614756898590201  0.56024\n",
       "1681   344933984  1393614756898590201  0.45924\n",
       "4038   364434733  1393614756898590201  0.61969\n",
       "4040   364434733  1393614756898590201  0.48060\n",
       "4822   375741467  1393614756898590201  0.51564\n",
       "4824   375741467  1393614756898590201  0.46064\n",
       "5139   379396628  1393614756898590201  0.52259\n",
       "5142   379396628  1393614756898590201  0.47154\n",
       "5202   380281521  5179957869133884921  0.66448\n",
       "5205   380281521  5179957869133884921  0.62613\n",
       "7001   409207560  1393614756898590201  0.47340\n",
       "7009   409207560  1393614756898590201  0.55712\n",
       "9593   564636986  1393614756898590201  0.51983\n",
       "9596   564636986  1393614756898590201  0.46434\n",
       "9727   565775830  1393614756898590201  0.60856\n",
       "9729   565775830  1393614756898590201  0.48145\n",
       "10204  569105068  1393614756898590201  0.52907\n",
       "10207  569105068  1393614756898590201  0.43872\n",
       "11374  580668441  1393614756898590201  0.57842\n",
       "11377  580668441  1393614756898590201  0.48009\n",
       "12309  590202737  1393614756898590201  0.55585\n",
       "12311  590202737  1393614756898590201  0.46837\n",
       "13073  597680638  1393614756898590201  0.53367\n",
       "13074  597680638  1393614756898590201  0.46768\n",
       "14659  609348088  1393614756898590201  0.58072\n",
       "14662  609348088  1393614756898590201  0.47747\n",
       "16816  628457019  1393614756898590201  0.66125\n",
       "16819  628457019  1393614756898590201  0.46164"
      ]
     },
     "execution_count": 92,
     "metadata": {},
     "output_type": "execute_result"
    }
   ],
   "source": [
    "#inconsistenza nei dati-ci sono gli stessi fos_id per lo stesso paper_id con fos_w diversi, \n",
    "#già eliminato quelli per cui fos_w=0 sopra\n",
    "check_duplicates(what,['paper_id','fos_id'])"
   ]
  },
  {
   "cell_type": "code",
   "execution_count": 93,
   "id": "46bcae75-dbd8-4911-969a-f00cd00307a6",
   "metadata": {},
   "outputs": [
    {
     "data": {
      "text/html": [
       "<div>\n",
       "<style scoped>\n",
       "    .dataframe tbody tr th:only-of-type {\n",
       "        vertical-align: middle;\n",
       "    }\n",
       "\n",
       "    .dataframe tbody tr th {\n",
       "        vertical-align: top;\n",
       "    }\n",
       "\n",
       "    .dataframe thead th {\n",
       "        text-align: right;\n",
       "    }\n",
       "</style>\n",
       "<table border=\"1\" class=\"dataframe\">\n",
       "  <thead>\n",
       "    <tr style=\"text-align: right;\">\n",
       "      <th></th>\n",
       "      <th>fos_name</th>\n",
       "      <th>fos_w</th>\n",
       "      <th>paper_id</th>\n",
       "    </tr>\n",
       "  </thead>\n",
       "  <tbody>\n",
       "    <tr>\n",
       "      <th>5202</th>\n",
       "      <td>Asymptotic analysis</td>\n",
       "      <td>0.66448</td>\n",
       "      <td>380281521</td>\n",
       "    </tr>\n",
       "    <tr>\n",
       "      <th>5205</th>\n",
       "      <td>Asymptotic analysis</td>\n",
       "      <td>0.62613</td>\n",
       "      <td>380281521</td>\n",
       "    </tr>\n",
       "    <tr>\n",
       "      <th>32907</th>\n",
       "      <td>Control theory</td>\n",
       "      <td>0.61141</td>\n",
       "      <td>160496226</td>\n",
       "    </tr>\n",
       "    <tr>\n",
       "      <th>32911</th>\n",
       "      <td>Control theory</td>\n",
       "      <td>0.44901</td>\n",
       "      <td>160496226</td>\n",
       "    </tr>\n",
       "    <tr>\n",
       "      <th>35320</th>\n",
       "      <td>Control theory</td>\n",
       "      <td>0.60809</td>\n",
       "      <td>161959344</td>\n",
       "    </tr>\n",
       "    <tr>\n",
       "      <th>35323</th>\n",
       "      <td>Control theory</td>\n",
       "      <td>0.46859</td>\n",
       "      <td>161959344</td>\n",
       "    </tr>\n",
       "    <tr>\n",
       "      <th>43118</th>\n",
       "      <td>Control theory</td>\n",
       "      <td>0.60175</td>\n",
       "      <td>166724960</td>\n",
       "    </tr>\n",
       "    <tr>\n",
       "      <th>43121</th>\n",
       "      <td>Control theory</td>\n",
       "      <td>0.46336</td>\n",
       "      <td>166724960</td>\n",
       "    </tr>\n",
       "    <tr>\n",
       "      <th>44079</th>\n",
       "      <td>Control theory</td>\n",
       "      <td>0.55885</td>\n",
       "      <td>167268530</td>\n",
       "    </tr>\n",
       "    <tr>\n",
       "      <th>44081</th>\n",
       "      <td>Control theory</td>\n",
       "      <td>0.47395</td>\n",
       "      <td>167268530</td>\n",
       "    </tr>\n",
       "    <tr>\n",
       "      <th>46942</th>\n",
       "      <td>Control theory</td>\n",
       "      <td>0.59999</td>\n",
       "      <td>169126196</td>\n",
       "    </tr>\n",
       "    <tr>\n",
       "      <th>46945</th>\n",
       "      <td>Control theory</td>\n",
       "      <td>0.48294</td>\n",
       "      <td>169126196</td>\n",
       "    </tr>\n",
       "    <tr>\n",
       "      <th>51089</th>\n",
       "      <td>Control theory</td>\n",
       "      <td>0.57581</td>\n",
       "      <td>171805218</td>\n",
       "    </tr>\n",
       "    <tr>\n",
       "      <th>51094</th>\n",
       "      <td>Control theory</td>\n",
       "      <td>0.48011</td>\n",
       "      <td>171805218</td>\n",
       "    </tr>\n",
       "    <tr>\n",
       "      <th>58240</th>\n",
       "      <td>Control theory</td>\n",
       "      <td>0.48792</td>\n",
       "      <td>270935515</td>\n",
       "    </tr>\n",
       "    <tr>\n",
       "      <th>58243</th>\n",
       "      <td>Control theory</td>\n",
       "      <td>0.46233</td>\n",
       "      <td>270935515</td>\n",
       "    </tr>\n",
       "    <tr>\n",
       "      <th>66002</th>\n",
       "      <td>Control theory</td>\n",
       "      <td>0.56660</td>\n",
       "      <td>292174674</td>\n",
       "    </tr>\n",
       "    <tr>\n",
       "      <th>66004</th>\n",
       "      <td>Control theory</td>\n",
       "      <td>0.46613</td>\n",
       "      <td>292174674</td>\n",
       "    </tr>\n",
       "    <tr>\n",
       "      <th>67979</th>\n",
       "      <td>Control theory</td>\n",
       "      <td>0.58369</td>\n",
       "      <td>303345387</td>\n",
       "    </tr>\n",
       "    <tr>\n",
       "      <th>67980</th>\n",
       "      <td>Control theory</td>\n",
       "      <td>0.47768</td>\n",
       "      <td>303345387</td>\n",
       "    </tr>\n",
       "    <tr>\n",
       "      <th>69304</th>\n",
       "      <td>Control theory</td>\n",
       "      <td>0.60239</td>\n",
       "      <td>308576909</td>\n",
       "    </tr>\n",
       "    <tr>\n",
       "      <th>69305</th>\n",
       "      <td>Control theory</td>\n",
       "      <td>0.46399</td>\n",
       "      <td>308576909</td>\n",
       "    </tr>\n",
       "    <tr>\n",
       "      <th>1679</th>\n",
       "      <td>Control theory</td>\n",
       "      <td>0.56024</td>\n",
       "      <td>344933984</td>\n",
       "    </tr>\n",
       "    <tr>\n",
       "      <th>1681</th>\n",
       "      <td>Control theory</td>\n",
       "      <td>0.45924</td>\n",
       "      <td>344933984</td>\n",
       "    </tr>\n",
       "    <tr>\n",
       "      <th>4038</th>\n",
       "      <td>Control theory</td>\n",
       "      <td>0.61969</td>\n",
       "      <td>364434733</td>\n",
       "    </tr>\n",
       "    <tr>\n",
       "      <th>4040</th>\n",
       "      <td>Control theory</td>\n",
       "      <td>0.48060</td>\n",
       "      <td>364434733</td>\n",
       "    </tr>\n",
       "    <tr>\n",
       "      <th>4822</th>\n",
       "      <td>Control theory</td>\n",
       "      <td>0.51564</td>\n",
       "      <td>375741467</td>\n",
       "    </tr>\n",
       "    <tr>\n",
       "      <th>4824</th>\n",
       "      <td>Control theory</td>\n",
       "      <td>0.46064</td>\n",
       "      <td>375741467</td>\n",
       "    </tr>\n",
       "    <tr>\n",
       "      <th>5139</th>\n",
       "      <td>Control theory</td>\n",
       "      <td>0.52259</td>\n",
       "      <td>379396628</td>\n",
       "    </tr>\n",
       "    <tr>\n",
       "      <th>5142</th>\n",
       "      <td>Control theory</td>\n",
       "      <td>0.47154</td>\n",
       "      <td>379396628</td>\n",
       "    </tr>\n",
       "    <tr>\n",
       "      <th>7001</th>\n",
       "      <td>Control theory</td>\n",
       "      <td>0.47340</td>\n",
       "      <td>409207560</td>\n",
       "    </tr>\n",
       "    <tr>\n",
       "      <th>7009</th>\n",
       "      <td>Control theory</td>\n",
       "      <td>0.55712</td>\n",
       "      <td>409207560</td>\n",
       "    </tr>\n",
       "    <tr>\n",
       "      <th>9593</th>\n",
       "      <td>Control theory</td>\n",
       "      <td>0.51983</td>\n",
       "      <td>564636986</td>\n",
       "    </tr>\n",
       "    <tr>\n",
       "      <th>9596</th>\n",
       "      <td>Control theory</td>\n",
       "      <td>0.46434</td>\n",
       "      <td>564636986</td>\n",
       "    </tr>\n",
       "    <tr>\n",
       "      <th>9727</th>\n",
       "      <td>Control theory</td>\n",
       "      <td>0.60856</td>\n",
       "      <td>565775830</td>\n",
       "    </tr>\n",
       "    <tr>\n",
       "      <th>9729</th>\n",
       "      <td>Control theory</td>\n",
       "      <td>0.48145</td>\n",
       "      <td>565775830</td>\n",
       "    </tr>\n",
       "    <tr>\n",
       "      <th>10204</th>\n",
       "      <td>Control theory</td>\n",
       "      <td>0.52907</td>\n",
       "      <td>569105068</td>\n",
       "    </tr>\n",
       "    <tr>\n",
       "      <th>10207</th>\n",
       "      <td>Control theory</td>\n",
       "      <td>0.43872</td>\n",
       "      <td>569105068</td>\n",
       "    </tr>\n",
       "    <tr>\n",
       "      <th>11374</th>\n",
       "      <td>Control theory</td>\n",
       "      <td>0.57842</td>\n",
       "      <td>580668441</td>\n",
       "    </tr>\n",
       "    <tr>\n",
       "      <th>11377</th>\n",
       "      <td>Control theory</td>\n",
       "      <td>0.48009</td>\n",
       "      <td>580668441</td>\n",
       "    </tr>\n",
       "    <tr>\n",
       "      <th>12309</th>\n",
       "      <td>Control theory</td>\n",
       "      <td>0.55585</td>\n",
       "      <td>590202737</td>\n",
       "    </tr>\n",
       "    <tr>\n",
       "      <th>12311</th>\n",
       "      <td>Control theory</td>\n",
       "      <td>0.46837</td>\n",
       "      <td>590202737</td>\n",
       "    </tr>\n",
       "    <tr>\n",
       "      <th>13073</th>\n",
       "      <td>Control theory</td>\n",
       "      <td>0.53367</td>\n",
       "      <td>597680638</td>\n",
       "    </tr>\n",
       "    <tr>\n",
       "      <th>13074</th>\n",
       "      <td>Control theory</td>\n",
       "      <td>0.46768</td>\n",
       "      <td>597680638</td>\n",
       "    </tr>\n",
       "    <tr>\n",
       "      <th>14659</th>\n",
       "      <td>Control theory</td>\n",
       "      <td>0.58072</td>\n",
       "      <td>609348088</td>\n",
       "    </tr>\n",
       "    <tr>\n",
       "      <th>14662</th>\n",
       "      <td>Control theory</td>\n",
       "      <td>0.47747</td>\n",
       "      <td>609348088</td>\n",
       "    </tr>\n",
       "    <tr>\n",
       "      <th>16816</th>\n",
       "      <td>Control theory</td>\n",
       "      <td>0.66125</td>\n",
       "      <td>628457019</td>\n",
       "    </tr>\n",
       "    <tr>\n",
       "      <th>16819</th>\n",
       "      <td>Control theory</td>\n",
       "      <td>0.46164</td>\n",
       "      <td>628457019</td>\n",
       "    </tr>\n",
       "    <tr>\n",
       "      <th>1509</th>\n",
       "      <td>Latency (engineering)</td>\n",
       "      <td>0.51139</td>\n",
       "      <td>343508979</td>\n",
       "    </tr>\n",
       "    <tr>\n",
       "      <th>1514</th>\n",
       "      <td>Latency (engineering)</td>\n",
       "      <td>0.55443</td>\n",
       "      <td>343508979</td>\n",
       "    </tr>\n",
       "  </tbody>\n",
       "</table>\n",
       "</div>"
      ],
      "text/plain": [
       "                    fos_name    fos_w   paper_id\n",
       "5202     Asymptotic analysis  0.66448  380281521\n",
       "5205     Asymptotic analysis  0.62613  380281521\n",
       "32907         Control theory  0.61141  160496226\n",
       "32911         Control theory  0.44901  160496226\n",
       "35320         Control theory  0.60809  161959344\n",
       "35323         Control theory  0.46859  161959344\n",
       "43118         Control theory  0.60175  166724960\n",
       "43121         Control theory  0.46336  166724960\n",
       "44079         Control theory  0.55885  167268530\n",
       "44081         Control theory  0.47395  167268530\n",
       "46942         Control theory  0.59999  169126196\n",
       "46945         Control theory  0.48294  169126196\n",
       "51089         Control theory  0.57581  171805218\n",
       "51094         Control theory  0.48011  171805218\n",
       "58240         Control theory  0.48792  270935515\n",
       "58243         Control theory  0.46233  270935515\n",
       "66002         Control theory  0.56660  292174674\n",
       "66004         Control theory  0.46613  292174674\n",
       "67979         Control theory  0.58369  303345387\n",
       "67980         Control theory  0.47768  303345387\n",
       "69304         Control theory  0.60239  308576909\n",
       "69305         Control theory  0.46399  308576909\n",
       "1679          Control theory  0.56024  344933984\n",
       "1681          Control theory  0.45924  344933984\n",
       "4038          Control theory  0.61969  364434733\n",
       "4040          Control theory  0.48060  364434733\n",
       "4822          Control theory  0.51564  375741467\n",
       "4824          Control theory  0.46064  375741467\n",
       "5139          Control theory  0.52259  379396628\n",
       "5142          Control theory  0.47154  379396628\n",
       "7001          Control theory  0.47340  409207560\n",
       "7009          Control theory  0.55712  409207560\n",
       "9593          Control theory  0.51983  564636986\n",
       "9596          Control theory  0.46434  564636986\n",
       "9727          Control theory  0.60856  565775830\n",
       "9729          Control theory  0.48145  565775830\n",
       "10204         Control theory  0.52907  569105068\n",
       "10207         Control theory  0.43872  569105068\n",
       "11374         Control theory  0.57842  580668441\n",
       "11377         Control theory  0.48009  580668441\n",
       "12309         Control theory  0.55585  590202737\n",
       "12311         Control theory  0.46837  590202737\n",
       "13073         Control theory  0.53367  597680638\n",
       "13074         Control theory  0.46768  597680638\n",
       "14659         Control theory  0.58072  609348088\n",
       "14662         Control theory  0.47747  609348088\n",
       "16816         Control theory  0.66125  628457019\n",
       "16819         Control theory  0.46164  628457019\n",
       "1509   Latency (engineering)  0.51139  343508979\n",
       "1514   Latency (engineering)  0.55443  343508979"
      ]
     },
     "execution_count": 93,
     "metadata": {},
     "output_type": "execute_result"
    }
   ],
   "source": [
    "#verifica quali sono i duplicati , stesso fos_name associato allo stesso paper_id con fos_w diversi\n",
    "check_duplicates(fos_df,['fos_name','paper_id'])"
   ]
  },
  {
   "cell_type": "markdown",
   "id": "0b682aaf-c8af-4015-a9a9-0f8422324980",
   "metadata": {
    "jp-MarkdownHeadingCollapsed": true,
    "tags": []
   },
   "source": [
    "## Connessione al DB"
   ]
  },
  {
   "cell_type": "code",
   "execution_count": 94,
   "id": "7baf02d3-f773-47a9-95cb-6c3ea25b360b",
   "metadata": {},
   "outputs": [
    {
     "data": {
      "text/plain": [
       "14828"
      ]
     },
     "execution_count": 94,
     "metadata": {},
     "output_type": "execute_result"
    }
   ],
   "source": [
    "#esporta i vari DataFrame nelle rispettive tabelle create in pgAdmin\n",
    "connect_db(fos,'fos')"
   ]
  },
  {
   "cell_type": "code",
   "execution_count": 95,
   "id": "a9eb8e45-a0dd-45d3-bb19-2db1d6c3ac28",
   "metadata": {},
   "outputs": [
    {
     "data": {
      "text/plain": [
       "78529"
      ]
     },
     "execution_count": 95,
     "metadata": {},
     "output_type": "execute_result"
    }
   ],
   "source": [
    "connect_db(what,'what')"
   ]
  },
  {
   "cell_type": "markdown",
   "id": "fa672547-0893-4e61-8aa9-d0f86c7566a7",
   "metadata": {
    "tags": []
   },
   "source": [
    "# Controllo che il nr. dei record corrisponda al nr. di righe per ogni DataFrame"
   ]
  },
  {
   "cell_type": "code",
   "execution_count": null,
   "id": "60a0281a-e254-452a-a446-37ae96b3bee3",
   "metadata": {},
   "outputs": [],
   "source": [
    "count_row_from_db(paper,'paper')\n",
    "count_row_from_db(venue,'venue')\n",
    "count_row_from_db(reference,'reference')\n",
    "count_row_from_db(with_alias,'with_alias')\n",
    "count_row_from_db(alias_id,'alias_id')\n",
    "count_row_from_db(author,'author')\n",
    "count_row_from_db(author_extended,'author_extended')\n",
    "count_row_from_db(who,'who')\n",
    "count_row_from_db(fos,'fos')\n",
    "count_row_from_db(what,'what')"
   ]
  },
  {
   "cell_type": "code",
   "execution_count": 52,
   "id": "1470ec25-098e-42d5-b996-f03110190142",
   "metadata": {},
   "outputs": [
    {
     "name": "stdout",
     "output_type": "stream",
     "text": [
      "Tabella venue:\n",
      "Nr righe non nulle per venue_id = (10480,)\n",
      "Nr righe non nulle per venue_raw = (49201,)\n",
      "Nr righe non nulle per venue_type = (10482,)\n",
      "Nr righe non nulle per venue_id_new = (49202,)\n",
      "Tabella venue:\n",
      "Nr righe non nulle per venue_id = 10480\n",
      "Nr righe non nulle per venue_raw = 49201\n",
      "Nr righe non nulle per venue_type = 10482\n",
      "Nr righe non nulle per venue_id_new = 49202\n",
      "Tabella venue:\n",
      "Nr righe non nulle per venue_id = 10480\n",
      "Nr righe non nulle per venue_raw = 49201\n",
      "Nr righe non nulle per venue_type = 10482\n",
      "Nr righe non nulle per venue_id_new = 49202\n"
     ]
    }
   ],
   "source": [
    "count_row_from_db2(venue,'venue')\n",
    "count_row_from_db(venue,'venue')\n",
    "count_row_from_db3(venue,'venue') #ok questo"
   ]
  },
  {
   "cell_type": "markdown",
   "id": "87faabd6-4107-4b73-9507-e4d8557aa92b",
   "metadata": {},
   "source": [
    "# FINE"
   ]
  },
  {
   "cell_type": "code",
   "execution_count": 3,
   "id": "0c163e62-1f77-4d84-b136-7d353e52bc13",
   "metadata": {},
   "outputs": [
    {
     "name": "stdout",
     "output_type": "stream",
     "text": [
      "<class 'pandas.core.frame.DataFrame'>\n",
      "RangeIndex: 4894063 entries, 0 to 4894062\n",
      "Data columns (total 14 columns):\n",
      " #   Column         Dtype  \n",
      "---  ------         -----  \n",
      " 0   paper_id       int64  \n",
      " 1   title          object \n",
      " 2   year           int64  \n",
      " 3   n_citation     int64  \n",
      " 4   page_start     object \n",
      " 5   page_end       object \n",
      " 6   doc_type       object \n",
      " 7   publisher      object \n",
      " 8   volume         float64\n",
      " 9   issue          float64\n",
      " 10  doi            object \n",
      " 11  abstract       object \n",
      " 12  nb_references  int64  \n",
      " 13  venue_id_new   float64\n",
      "dtypes: float64(3), int64(4), object(7)\n",
      "memory usage: 522.7+ MB\n",
      "<class 'pandas.core.frame.DataFrame'>\n",
      "RangeIndex: 77909 entries, 0 to 77908\n",
      "Data columns (total 1 columns):\n",
      " #   Column     Non-Null Count  Dtype\n",
      "---  ------     --------------  -----\n",
      " 0   alias_ids  77909 non-null  int64\n",
      "dtypes: int64(1)\n",
      "memory usage: 608.8 KB\n",
      "<class 'pandas.core.frame.DataFrame'>\n",
      "RangeIndex: 77909 entries, 0 to 77908\n",
      "Data columns (total 2 columns):\n",
      " #   Column     Non-Null Count  Dtype\n",
      "---  ------     --------------  -----\n",
      " 0   paper_id   77909 non-null  int64\n",
      " 1   alias_ids  77909 non-null  int64\n",
      "dtypes: int64(2)\n",
      "memory usage: 1.2 MB\n"
     ]
    },
    {
     "name": "stderr",
     "output_type": "stream",
     "text": [
      "\n",
      "KeyboardInterrupt\n",
      "\n"
     ]
    }
   ],
   "source": [
    "check_nb_records(sql_queries)"
   ]
  },
  {
   "cell_type": "code",
   "execution_count": null,
   "id": "f672bb03-a1e4-420f-9d3b-7f47a3ce83d2",
   "metadata": {},
   "outputs": [],
   "source": []
  },
  {
   "cell_type": "code",
   "execution_count": null,
   "id": "964db3d3-2bd7-45d1-b53c-c0f8d627de3c",
   "metadata": {},
   "outputs": [],
   "source": []
  },
  {
   "cell_type": "code",
   "execution_count": null,
   "id": "3b0175df-7a36-4e38-b591-7e726f7fb4d4",
   "metadata": {},
   "outputs": [],
   "source": []
  },
  {
   "cell_type": "code",
   "execution_count": 76,
   "id": "b5f5a471-fe7c-4ee1-b535-37dbbc2b1348",
   "metadata": {},
   "outputs": [],
   "source": [
    "import psycopg2\n",
    "#import psycopg2.extras as extras\n",
    "import config as cfg"
   ]
  },
  {
   "cell_type": "code",
   "execution_count": 77,
   "id": "369fe9c3-2fd9-43d5-9cf6-36bb0c754321",
   "metadata": {},
   "outputs": [],
   "source": [
    "user=cfg.postgres['user']\n",
    "password=cfg.postgres['password']\n",
    "host=cfg.postgres['host']\n",
    "port=cfg.postgres['port']\n",
    "dbname=cfg.postgres['dbname']\n",
    "\n",
    "conn_str = f\"\"\"postgresql://{user}:{password}@{host}:{port}/{dbname}\"\"\""
   ]
  },
  {
   "cell_type": "code",
   "execution_count": 78,
   "id": "9ab4d0cf-f7d5-41d6-9f88-affa10db21e1",
   "metadata": {},
   "outputs": [],
   "source": [
    "conn = psycopg2.connect(conn_str)\n",
    "conn.autocommit = True"
   ]
  },
  {
   "cell_type": "code",
   "execution_count": 79,
   "id": "46d4764a-371d-4cbe-85de-2ed2550e141d",
   "metadata": {},
   "outputs": [
    {
     "name": "stdout",
     "output_type": "stream",
     "text": [
      "49202\n"
     ]
    }
   ],
   "source": [
    "\n",
    "cursor = conn.cursor()\n",
    "cursor.execute(\"select * from venue\")\n",
    "results = cursor.rowcount\n",
    "print ((results))"
   ]
  },
  {
   "cell_type": "code",
   "execution_count": 81,
   "id": "b5760455-3bbe-461c-b5a4-e948b5244b88",
   "metadata": {},
   "outputs": [
    {
     "name": "stdout",
     "output_type": "stream",
     "text": [
      "Nr righe non nulle per paper_id = 4894063\n",
      "Nr righe non nulle per title = 4894063\n",
      "Nr righe non nulle per year = 4894063\n",
      "Nr righe non nulle per n_citation = 4894063\n",
      "Nr righe non nulle per page_start = 4356226\n",
      "Nr righe non nulle per page_end = 4112329\n",
      "Nr righe non nulle per doc_type = 4394622\n",
      "Nr righe non nulle per publisher = 4134190\n",
      "Nr righe non nulle per volume = 2183176\n",
      "Nr righe non nulle per issue = 1618242\n",
      "Nr righe non nulle per doi = 3920939\n",
      "Nr righe non nulle per abstract = 4232504\n",
      "Nr righe non nulle per nb_references = 4894063\n",
      "Nr righe non nulle per venue_id_new = 4820973\n"
     ]
    }
   ],
   "source": [
    "for column in paper.columns:\n",
    "    sql_query=f\"\"\"SELECT * FROM PAPER WHERE {column} IS NOT NULL\"\"\"\n",
    "    cursor = conn.cursor()\n",
    "    cursor.execute(sql_query)\n",
    "    results = cursor.rowcount\n",
    "    print (f\"\"\"Nr righe non nulle per {column} = {results}\"\"\")"
   ]
  },
  {
   "cell_type": "code",
   "execution_count": 98,
   "id": "9419ca6e-2799-457a-8ff5-f57457190b89",
   "metadata": {},
   "outputs": [
    {
     "name": "stdout",
     "output_type": "stream",
     "text": [
      "Tabella venue\n",
      "Nr righe non nulle per venue_id = 10480\n",
      "Nr righe non nulle per venue_raw = 49201\n",
      "Nr righe non nulle per venue_type = 10482\n",
      "Nr righe non nulle per venue_id_new = 49202\n"
     ]
    }
   ],
   "source": [
    "count_row(venue,'venue')"
   ]
  },
  {
   "cell_type": "code",
   "execution_count": 97,
   "id": "c198481e-9c56-43cb-88aa-89393b490f5a",
   "metadata": {},
   "outputs": [],
   "source": [
    "def count_row_from_db(df,table_name):\n",
    "    print (f\"\"\"Tabella {table_name}\"\"\")\n",
    "    for column in df.columns:\n",
    "        sql_query=f\"\"\"SELECT * FROM {table_name} WHERE {column} IS NOT NULL\"\"\"\n",
    "        cursor = conn.cursor()\n",
    "        cursor.execute(sql_query)\n",
    "        print (f\"\"\"Nr righe non nulle per {column} = {cursor.rowcount}\"\"\")\n",
    "    cursor.close()"
   ]
  },
  {
   "cell_type": "code",
   "execution_count": 53,
   "id": "75818384-310d-4265-9b3f-ce70f660f2c9",
   "metadata": {},
   "outputs": [
    {
     "name": "stdout",
     "output_type": "stream",
     "text": [
      "Tabella venue:\n",
      "Nr righe non nulle per venue_id = 10480\n",
      "Nr righe non nulle per venue_raw = 49201\n",
      "Nr righe non nulle per venue_type = 10482\n",
      "Nr righe non nulle per venue_id_new = 49202\n"
     ]
    }
   ],
   "source": [
    "count_row_from_db(venue,'venue')"
   ]
  },
  {
   "cell_type": "code",
   "execution_count": null,
   "id": "f232dab3-bd42-4804-9679-cef2555fa264",
   "metadata": {},
   "outputs": [],
   "source": []
  }
 ],
 "metadata": {
  "kernelspec": {
   "display_name": "Python 3 (ipykernel)",
   "language": "python",
   "name": "python3"
  },
  "language_info": {
   "codemirror_mode": {
    "name": "ipython",
    "version": 3
   },
   "file_extension": ".py",
   "mimetype": "text/x-python",
   "name": "python",
   "nbconvert_exporter": "python",
   "pygments_lexer": "ipython3",
   "version": "3.9.12"
  }
 },
 "nbformat": 4,
 "nbformat_minor": 5
}
