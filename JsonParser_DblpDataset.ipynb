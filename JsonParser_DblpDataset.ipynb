{
 "cells": [
  {
   "cell_type": "markdown",
   "id": "5b757a2a-11d9-4981-bfdd-1bf12e0d82b8",
   "metadata": {
    "tags": []
   },
   "source": [
    "# Importazione dei moduli necessari+definizione variabili"
   ]
  },
  {
   "cell_type": "code",
   "execution_count": 1,
   "id": "46f3e973-6d75-4d9d-8862-bd9f42d2875d",
   "metadata": {},
   "outputs": [],
   "source": [
    "from import_dataset import *\n",
    "from analyze_df import *\n",
    "from manipulate_df import *\n",
    "from DB_connection import *"
   ]
  },
  {
   "cell_type": "code",
   "execution_count": null,
   "id": "7f37e35a-e37b-4582-9011-45b469a814c8",
   "metadata": {},
   "outputs": [],
   "source": [
    "path='/Users/francescacipolla/Desktop/dblp1.json'\n",
    "data='_source'"
   ]
  },
  {
   "cell_type": "markdown",
   "id": "d0295500-2f25-40f0-8bce-1b9112b26ec1",
   "metadata": {
    "id": "Nl50zFbaaR0A",
    "jp-MarkdownHeadingCollapsed": true,
    "tags": []
   },
   "source": [
    "# Controllo il numero di linee del Json"
   ]
  },
  {
   "cell_type": "code",
   "execution_count": 3,
   "id": "c88a3aa9-3f52-436a-a108-fc3b802bbc95",
   "metadata": {
    "colab": {
     "base_uri": "https://localhost:8080/",
     "height": 184
    },
    "id": "kxqF1_LEaX-f",
    "outputId": "e73ab064-b101-45d2-ce03-3c9cf4b2951a"
   },
   "outputs": [
    {
     "data": {
      "text/plain": [
       "4894063"
      ]
     },
     "execution_count": 3,
     "metadata": {},
     "output_type": "execute_result"
    }
   ],
   "source": [
    "count_lines=sum(1 for line in open(path))\n",
    "count_lines"
   ]
  },
  {
   "cell_type": "markdown",
   "id": "e312b3da-bd7e-486e-be28-f18d5bf532f6",
   "metadata": {
    "jp-MarkdownHeadingCollapsed": true,
    "tags": []
   },
   "source": [
    "# paper_df"
   ]
  },
  {
   "cell_type": "markdown",
   "id": "d366fda0-80be-4a50-84f4-5d74c64e0d26",
   "metadata": {
    "tags": []
   },
   "source": [
    "## Inizializzazione del DataFrame vuoto+inserimento degli elementi del Json nel DataFrame"
   ]
  },
  {
   "cell_type": "code",
   "execution_count": 3,
   "id": "6b4e8a10-3ff8-4e1d-ba43-aa88246a7834",
   "metadata": {},
   "outputs": [],
   "source": [
    "paper_df=initialize()\n",
    "\n",
    "#legge il json ed inserisce gli elementi del json nel DataFrame, rimuove le colonne authors e fos\n",
    "paper_df=read_json(paper_df,path,data,['authors','fos'])"
   ]
  },
  {
   "cell_type": "markdown",
   "id": "de8fe306-091a-4c74-a69b-f14c6fcb4fea",
   "metadata": {
    "tags": []
   },
   "source": [
    "## Analisi di paper_df\n"
   ]
  },
  {
   "cell_type": "code",
   "execution_count": 4,
   "id": "7a8ef96b-dd60-4214-9c6d-97c8fc902ac6",
   "metadata": {},
   "outputs": [
    {
     "data": {
      "text/html": [
       "<div>\n",
       "<style scoped>\n",
       "    .dataframe tbody tr th:only-of-type {\n",
       "        vertical-align: middle;\n",
       "    }\n",
       "\n",
       "    .dataframe tbody tr th {\n",
       "        vertical-align: top;\n",
       "    }\n",
       "\n",
       "    .dataframe thead th {\n",
       "        text-align: right;\n",
       "    }\n",
       "</style>\n",
       "<table border=\"1\" class=\"dataframe\">\n",
       "  <thead>\n",
       "    <tr style=\"text-align: right;\">\n",
       "      <th></th>\n",
       "      <th>id</th>\n",
       "      <th>title</th>\n",
       "      <th>year</th>\n",
       "      <th>n_citation</th>\n",
       "      <th>page_start</th>\n",
       "      <th>page_end</th>\n",
       "      <th>doc_type</th>\n",
       "      <th>publisher</th>\n",
       "      <th>volume</th>\n",
       "      <th>issue</th>\n",
       "      <th>...</th>\n",
       "      <th>nb_references</th>\n",
       "      <th>venue.raw</th>\n",
       "      <th>venue.id</th>\n",
       "      <th>venue.type</th>\n",
       "      <th>author.name</th>\n",
       "      <th>author.id</th>\n",
       "      <th>author.org</th>\n",
       "      <th>fos.name</th>\n",
       "      <th>fos.w</th>\n",
       "      <th>alias_ids</th>\n",
       "    </tr>\n",
       "  </thead>\n",
       "  <tbody>\n",
       "    <tr>\n",
       "      <th>0</th>\n",
       "      <td>339090091</td>\n",
       "      <td>Document Classification with Recommendation Ar...</td>\n",
       "      <td>2002</td>\n",
       "      <td>0</td>\n",
       "      <td></td>\n",
       "      <td></td>\n",
       "      <td>Conference</td>\n",
       "      <td></td>\n",
       "      <td></td>\n",
       "      <td></td>\n",
       "      <td>...</td>\n",
       "      <td>0</td>\n",
       "      <td>Australasian Document Computing Symposium</td>\n",
       "      <td>1147924868.0</td>\n",
       "      <td>C</td>\n",
       "      <td></td>\n",
       "      <td></td>\n",
       "      <td></td>\n",
       "      <td>NaN</td>\n",
       "      <td>NaN</td>\n",
       "      <td>NaN</td>\n",
       "    </tr>\n",
       "    <tr>\n",
       "      <th>1</th>\n",
       "      <td>339107753</td>\n",
       "      <td>Linking Operational Semantics and Algebraic Se...</td>\n",
       "      <td>2013</td>\n",
       "      <td>0</td>\n",
       "      <td>380</td>\n",
       "      <td>396</td>\n",
       "      <td>Conference</td>\n",
       "      <td>Springer, Berlin, Heidelberg</td>\n",
       "      <td></td>\n",
       "      <td></td>\n",
       "      <td>...</td>\n",
       "      <td>10</td>\n",
       "      <td>International Conference on Formal Engineering...</td>\n",
       "      <td>1133365479.0</td>\n",
       "      <td>C</td>\n",
       "      <td></td>\n",
       "      <td></td>\n",
       "      <td></td>\n",
       "      <td>NaN</td>\n",
       "      <td>NaN</td>\n",
       "      <td>NaN</td>\n",
       "    </tr>\n",
       "    <tr>\n",
       "      <th>2</th>\n",
       "      <td>339147017</td>\n",
       "      <td>On (p, q)-analogue of Bernstein operators</td>\n",
       "      <td>2015</td>\n",
       "      <td>114</td>\n",
       "      <td>874</td>\n",
       "      <td>882</td>\n",
       "      <td>Journal</td>\n",
       "      <td>Elsevier</td>\n",
       "      <td>266</td>\n",
       "      <td></td>\n",
       "      <td>...</td>\n",
       "      <td>8</td>\n",
       "      <td>Applied Mathematics and Computation</td>\n",
       "      <td>50372074.0</td>\n",
       "      <td>J</td>\n",
       "      <td></td>\n",
       "      <td></td>\n",
       "      <td></td>\n",
       "      <td>NaN</td>\n",
       "      <td>NaN</td>\n",
       "      <td>NaN</td>\n",
       "    </tr>\n",
       "    <tr>\n",
       "      <th>3</th>\n",
       "      <td>339159418</td>\n",
       "      <td>On the Number of Permutations Performable by E...</td>\n",
       "      <td>1987</td>\n",
       "      <td>0</td>\n",
       "      <td>461</td>\n",
       "      <td>470</td>\n",
       "      <td>Conference</td>\n",
       "      <td></td>\n",
       "      <td></td>\n",
       "      <td></td>\n",
       "      <td>...</td>\n",
       "      <td>0</td>\n",
       "      <td>International Conference on Parallel Processing</td>\n",
       "      <td>1155899826.0</td>\n",
       "      <td>C</td>\n",
       "      <td></td>\n",
       "      <td></td>\n",
       "      <td></td>\n",
       "      <td>NaN</td>\n",
       "      <td>NaN</td>\n",
       "      <td>NaN</td>\n",
       "    </tr>\n",
       "    <tr>\n",
       "      <th>4</th>\n",
       "      <td>337814053</td>\n",
       "      <td>Leveraging MARF for the Simulation of Securing...</td>\n",
       "      <td>2009</td>\n",
       "      <td>0</td>\n",
       "      <td>46</td>\n",
       "      <td></td>\n",
       "      <td></td>\n",
       "      <td></td>\n",
       "      <td></td>\n",
       "      <td></td>\n",
       "      <td>...</td>\n",
       "      <td>0</td>\n",
       "      <td>HSC</td>\n",
       "      <td>NaN</td>\n",
       "      <td>NaN</td>\n",
       "      <td></td>\n",
       "      <td></td>\n",
       "      <td></td>\n",
       "      <td>NaN</td>\n",
       "      <td>NaN</td>\n",
       "      <td>NaN</td>\n",
       "    </tr>\n",
       "    <tr>\n",
       "      <th>...</th>\n",
       "      <td>...</td>\n",
       "      <td>...</td>\n",
       "      <td>...</td>\n",
       "      <td>...</td>\n",
       "      <td>...</td>\n",
       "      <td>...</td>\n",
       "      <td>...</td>\n",
       "      <td>...</td>\n",
       "      <td>...</td>\n",
       "      <td>...</td>\n",
       "      <td>...</td>\n",
       "      <td>...</td>\n",
       "      <td>...</td>\n",
       "      <td>...</td>\n",
       "      <td>...</td>\n",
       "      <td>...</td>\n",
       "      <td>...</td>\n",
       "      <td>...</td>\n",
       "      <td>...</td>\n",
       "      <td>...</td>\n",
       "      <td>...</td>\n",
       "    </tr>\n",
       "    <tr>\n",
       "      <th>4894058</th>\n",
       "      <td>998678108</td>\n",
       "      <td>IEEE Seventh International Conference on Softw...</td>\n",
       "      <td>2014</td>\n",
       "      <td>0</td>\n",
       "      <td></td>\n",
       "      <td></td>\n",
       "      <td></td>\n",
       "      <td></td>\n",
       "      <td></td>\n",
       "      <td></td>\n",
       "      <td>...</td>\n",
       "      <td>0</td>\n",
       "      <td></td>\n",
       "      <td></td>\n",
       "      <td></td>\n",
       "      <td>NaN</td>\n",
       "      <td>NaN</td>\n",
       "      <td>NaN</td>\n",
       "      <td>NaN</td>\n",
       "      <td>NaN</td>\n",
       "      <td>NaN</td>\n",
       "    </tr>\n",
       "    <tr>\n",
       "      <th>4894059</th>\n",
       "      <td>99934447</td>\n",
       "      <td>Globalization of Consumer E-Commerce</td>\n",
       "      <td>2005</td>\n",
       "      <td>0</td>\n",
       "      <td>1293</td>\n",
       "      <td>1298</td>\n",
       "      <td>Conference</td>\n",
       "      <td>IGI Global</td>\n",
       "      <td></td>\n",
       "      <td></td>\n",
       "      <td>...</td>\n",
       "      <td>0</td>\n",
       "      <td>Encyclopedia of Information Science and Techno...</td>\n",
       "      <td>2755063974</td>\n",
       "      <td>C</td>\n",
       "      <td>NaN</td>\n",
       "      <td>NaN</td>\n",
       "      <td>NaN</td>\n",
       "      <td>NaN</td>\n",
       "      <td>NaN</td>\n",
       "      <td>NaN</td>\n",
       "    </tr>\n",
       "    <tr>\n",
       "      <th>4894060</th>\n",
       "      <td>99981893</td>\n",
       "      <td>Matrix-Padé fractions</td>\n",
       "      <td>1987</td>\n",
       "      <td>0</td>\n",
       "      <td>438</td>\n",
       "      <td>449</td>\n",
       "      <td>Conference</td>\n",
       "      <td>Springer, Berlin, Heidelberg</td>\n",
       "      <td></td>\n",
       "      <td></td>\n",
       "      <td>...</td>\n",
       "      <td>2</td>\n",
       "      <td>European Conference on Computer Algebra</td>\n",
       "      <td>2756322194</td>\n",
       "      <td>C</td>\n",
       "      <td>NaN</td>\n",
       "      <td>NaN</td>\n",
       "      <td>NaN</td>\n",
       "      <td>NaN</td>\n",
       "      <td>NaN</td>\n",
       "      <td>NaN</td>\n",
       "    </tr>\n",
       "    <tr>\n",
       "      <th>4894061</th>\n",
       "      <td>998260344</td>\n",
       "      <td>Deep Learning for Single-View Instance Recogni...</td>\n",
       "      <td>2015</td>\n",
       "      <td>11</td>\n",
       "      <td></td>\n",
       "      <td></td>\n",
       "      <td>Repository</td>\n",
       "      <td></td>\n",
       "      <td></td>\n",
       "      <td></td>\n",
       "      <td>...</td>\n",
       "      <td>48</td>\n",
       "      <td>arXiv: Computer Vision and Pattern Recognition</td>\n",
       "      <td>2597175965</td>\n",
       "      <td>J</td>\n",
       "      <td>NaN</td>\n",
       "      <td>NaN</td>\n",
       "      <td>NaN</td>\n",
       "      <td>NaN</td>\n",
       "      <td>NaN</td>\n",
       "      <td>NaN</td>\n",
       "    </tr>\n",
       "    <tr>\n",
       "      <th>4894062</th>\n",
       "      <td>99956490</td>\n",
       "      <td>Bemerkung zu Gurevich's Arbeit über das Entsch...</td>\n",
       "      <td>1978</td>\n",
       "      <td>0</td>\n",
       "      <td>111</td>\n",
       "      <td>114</td>\n",
       "      <td>Journal</td>\n",
       "      <td>Springer Science and Business Media LLC</td>\n",
       "      <td>19</td>\n",
       "      <td>1</td>\n",
       "      <td>...</td>\n",
       "      <td>3</td>\n",
       "      <td>Archive for Mathematical Logic</td>\n",
       "      <td>188076996</td>\n",
       "      <td>J</td>\n",
       "      <td>NaN</td>\n",
       "      <td>NaN</td>\n",
       "      <td>NaN</td>\n",
       "      <td>NaN</td>\n",
       "      <td>NaN</td>\n",
       "      <td>NaN</td>\n",
       "    </tr>\n",
       "  </tbody>\n",
       "</table>\n",
       "<p>4894063 rows × 23 columns</p>\n",
       "</div>"
      ],
      "text/plain": [
       "                id                                              title  year  \\\n",
       "0        339090091  Document Classification with Recommendation Ar...  2002   \n",
       "1        339107753  Linking Operational Semantics and Algebraic Se...  2013   \n",
       "2        339147017          On (p, q)-analogue of Bernstein operators  2015   \n",
       "3        339159418  On the Number of Permutations Performable by E...  1987   \n",
       "4        337814053  Leveraging MARF for the Simulation of Securing...  2009   \n",
       "...            ...                                                ...   ...   \n",
       "4894058  998678108  IEEE Seventh International Conference on Softw...  2014   \n",
       "4894059   99934447               Globalization of Consumer E-Commerce  2005   \n",
       "4894060   99981893                              Matrix-Padé fractions  1987   \n",
       "4894061  998260344  Deep Learning for Single-View Instance Recogni...  2015   \n",
       "4894062   99956490  Bemerkung zu Gurevich's Arbeit über das Entsch...  1978   \n",
       "\n",
       "         n_citation page_start page_end    doc_type  \\\n",
       "0                 0                      Conference   \n",
       "1                 0        380      396  Conference   \n",
       "2               114        874      882     Journal   \n",
       "3                 0        461      470  Conference   \n",
       "4                 0         46                        \n",
       "...             ...        ...      ...         ...   \n",
       "4894058           0                                   \n",
       "4894059           0       1293     1298  Conference   \n",
       "4894060           0        438      449  Conference   \n",
       "4894061          11                      Repository   \n",
       "4894062           0        111      114     Journal   \n",
       "\n",
       "                                       publisher volume issue  ...  \\\n",
       "0                                                              ...   \n",
       "1                   Springer, Berlin, Heidelberg               ...   \n",
       "2                                       Elsevier    266        ...   \n",
       "3                                                              ...   \n",
       "4                                                              ...   \n",
       "...                                          ...    ...   ...  ...   \n",
       "4894058                                                        ...   \n",
       "4894059                               IGI Global               ...   \n",
       "4894060             Springer, Berlin, Heidelberg               ...   \n",
       "4894061                                                        ...   \n",
       "4894062  Springer Science and Business Media LLC     19     1  ...   \n",
       "\n",
       "        nb_references                                          venue.raw  \\\n",
       "0                   0          Australasian Document Computing Symposium   \n",
       "1                  10  International Conference on Formal Engineering...   \n",
       "2                   8                Applied Mathematics and Computation   \n",
       "3                   0    International Conference on Parallel Processing   \n",
       "4                   0                                                HSC   \n",
       "...               ...                                                ...   \n",
       "4894058             0                                                      \n",
       "4894059             0  Encyclopedia of Information Science and Techno...   \n",
       "4894060             2            European Conference on Computer Algebra   \n",
       "4894061            48     arXiv: Computer Vision and Pattern Recognition   \n",
       "4894062             3                     Archive for Mathematical Logic   \n",
       "\n",
       "             venue.id  venue.type author.name author.id author.org fos.name  \\\n",
       "0        1147924868.0           C                                       NaN   \n",
       "1        1133365479.0           C                                       NaN   \n",
       "2          50372074.0           J                                       NaN   \n",
       "3        1155899826.0           C                                       NaN   \n",
       "4                 NaN         NaN                                       NaN   \n",
       "...               ...         ...         ...       ...        ...      ...   \n",
       "4894058                                   NaN       NaN        NaN      NaN   \n",
       "4894059    2755063974           C         NaN       NaN        NaN      NaN   \n",
       "4894060    2756322194           C         NaN       NaN        NaN      NaN   \n",
       "4894061    2597175965           J         NaN       NaN        NaN      NaN   \n",
       "4894062     188076996           J         NaN       NaN        NaN      NaN   \n",
       "\n",
       "        fos.w alias_ids  \n",
       "0         NaN       NaN  \n",
       "1         NaN       NaN  \n",
       "2         NaN       NaN  \n",
       "3         NaN       NaN  \n",
       "4         NaN       NaN  \n",
       "...       ...       ...  \n",
       "4894058   NaN       NaN  \n",
       "4894059   NaN       NaN  \n",
       "4894060   NaN       NaN  \n",
       "4894061   NaN       NaN  \n",
       "4894062   NaN       NaN  \n",
       "\n",
       "[4894063 rows x 23 columns]"
      ]
     },
     "execution_count": 4,
     "metadata": {},
     "output_type": "execute_result"
    }
   ],
   "source": [
    "paper_df"
   ]
  },
  {
   "cell_type": "code",
   "execution_count": 5,
   "id": "3f847777-b910-4611-8a6d-435cc67b6406",
   "metadata": {},
   "outputs": [
    {
     "name": "stdout",
     "output_type": "stream",
     "text": [
      "<class 'pandas.core.frame.DataFrame'>\n",
      "RangeIndex: 4894063 entries, 0 to 4894062\n",
      "Data columns (total 23 columns):\n",
      " #   Column         Non-Null Count    Dtype \n",
      "---  ------         --------------    ----- \n",
      " 0   id             4894063 non-null  int64 \n",
      " 1   title          4894063 non-null  object\n",
      " 2   year           4894063 non-null  int64 \n",
      " 3   n_citation     4894063 non-null  int64 \n",
      " 4   page_start     4894063 non-null  object\n",
      " 5   page_end       4894063 non-null  object\n",
      " 6   doc_type       4894063 non-null  object\n",
      " 7   publisher      4894063 non-null  object\n",
      " 8   volume         4894063 non-null  object\n",
      " 9   issue          4894063 non-null  object\n",
      " 10  doi            4894063 non-null  object\n",
      " 11  abstract       4894063 non-null  object\n",
      " 12  references     4894063 non-null  object\n",
      " 13  nb_references  4894063 non-null  int64 \n",
      " 14  venue.raw      4894063 non-null  object\n",
      " 15  venue.id       4419076 non-null  object\n",
      " 16  venue.type     4419078 non-null  object\n",
      " 17  author.name    3839999 non-null  object\n",
      " 18  author.id      3839999 non-null  object\n",
      " 19  author.org     3839999 non-null  object\n",
      " 20  fos.name       16680 non-null    object\n",
      " 21  fos.w          16680 non-null    object\n",
      " 22  alias_ids      21408 non-null    object\n",
      "dtypes: int64(4), object(19)\n",
      "memory usage: 858.8+ MB\n"
     ]
    }
   ],
   "source": [
    "info(paper_df)"
   ]
  },
  {
   "cell_type": "code",
   "execution_count": 6,
   "id": "016c2899-a988-4892-81b5-db9b8b0d73ba",
   "metadata": {},
   "outputs": [],
   "source": [
    "rename_columns(paper_df, {'id':'paper_id','venue.id': 'venue_id', 'venue.raw': 'venue_raw','venue.type':'venue_type'})"
   ]
  },
  {
   "cell_type": "code",
   "execution_count": 7,
   "id": "b0d720fc-36a3-4565-99de-19b8148e59b9",
   "metadata": {},
   "outputs": [
    {
     "name": "stdout",
     "output_type": "stream",
     "text": [
      "Percentuale di valori nulli per la colonna paper_id = 0.0%\n",
      "Percentuale di valori nulli per la colonna title = 0.0%\n",
      "Percentuale di valori nulli per la colonna year = 0.0%\n",
      "Percentuale di valori nulli per la colonna n_citation = 0.0%\n",
      "Percentuale di valori nulli per la colonna page_start = 10.989580640870376%\n",
      "Percentuale di valori nulli per la colonna page_end = 15.97310864204241%\n",
      "Percentuale di valori nulli per la colonna doc_type = 10.20503822692924%\n",
      "Percentuale di valori nulli per la colonna publisher = 15.526424567889707%\n",
      "Percentuale di valori nulli per la colonna volume = 55.391338444151614%\n",
      "Percentuale di valori nulli per la colonna issue = 66.93458993069767%\n",
      "Percentuale di valori nulli per la colonna doi = 19.88376528867732%\n",
      "Percentuale di valori nulli per la colonna abstract = 13.517582425890309%\n",
      "Percentuale di valori nulli per la colonna references = 22.822673104126366%\n",
      "Percentuale di valori nulli per la colonna nb_references = 0.0%\n",
      "Percentuale di valori nulli per la colonna venue_raw = 1.4934625892637672%\n",
      "Percentuale di valori nulli per la colonna venue_id = 10.667925607005877%\n",
      "Percentuale di valori nulli per la colonna venue_type = 10.667884741164958%\n",
      "Percentuale di valori nulli per la colonna author.name = 100.0%\n",
      "Percentuale di valori nulli per la colonna author.id = 100.0%\n",
      "Percentuale di valori nulli per la colonna author.org = 100.0%\n",
      "Percentuale di valori nulli per la colonna fos.name = 100.0%\n",
      "Percentuale di valori nulli per la colonna fos.w = 100.0%\n",
      "Percentuale di valori nulli per la colonna alias_ids = 99.56257203881519%\n"
     ]
    }
   ],
   "source": [
    "#calcola la percentuale di valori mancanti nel df\n",
    "miss_percentage(paper_df)"
   ]
  },
  {
   "cell_type": "code",
   "execution_count": 8,
   "id": "6c85ea67-2016-419a-9306-182dd006e08e",
   "metadata": {},
   "outputs": [],
   "source": [
    "del_columns(paper_df,['author.name','author.id','author.org','fos.name','fos.w'])"
   ]
  },
  {
   "cell_type": "code",
   "execution_count": 9,
   "id": "8ea5d5f5-3cbc-491c-a76d-8dba501bf9a7",
   "metadata": {},
   "outputs": [
    {
     "name": "stdout",
     "output_type": "stream",
     "text": [
      "<class 'pandas.core.frame.DataFrame'>\n",
      "RangeIndex: 4894063 entries, 0 to 4894062\n",
      "Data columns (total 18 columns):\n",
      " #   Column         Non-Null Count    Dtype  \n",
      "---  ------         --------------    -----  \n",
      " 0   paper_id       4894063 non-null  int64  \n",
      " 1   title          4894063 non-null  object \n",
      " 2   year           4894063 non-null  int64  \n",
      " 3   n_citation     4894063 non-null  int64  \n",
      " 4   page_start     4356226 non-null  object \n",
      " 5   page_end       4112329 non-null  object \n",
      " 6   doc_type       4394622 non-null  object \n",
      " 7   publisher      4134190 non-null  object \n",
      " 8   volume         2183176 non-null  object \n",
      " 9   issue          1618242 non-null  object \n",
      " 10  doi            3920939 non-null  object \n",
      " 11  abstract       4232504 non-null  object \n",
      " 12  references     3777107 non-null  object \n",
      " 13  nb_references  4894063 non-null  int64  \n",
      " 14  venue_raw      4820972 non-null  object \n",
      " 15  venue_id       4371968 non-null  float64\n",
      " 16  venue_type     4371970 non-null  object \n",
      " 17  alias_ids      21408 non-null    object \n",
      "dtypes: float64(1), int64(4), object(13)\n",
      "memory usage: 672.1+ MB\n"
     ]
    }
   ],
   "source": [
    "#sostituisce le stringhe ('') vuote con np.nan\n",
    "fill_with_nan(paper_df,'')"
   ]
  },
  {
   "cell_type": "code",
   "execution_count": 10,
   "id": "17cae9cd-dedd-4d30-950c-54bd9185e1f3",
   "metadata": {},
   "outputs": [
    {
     "name": "stdout",
     "output_type": "stream",
     "text": [
      "Percentuale di valori nulli per la colonna paper_id = 0.0%\n",
      "Percentuale di valori nulli per la colonna title = 0.0%\n",
      "Percentuale di valori nulli per la colonna year = 0.0%\n",
      "Percentuale di valori nulli per la colonna n_citation = 0.0%\n",
      "Percentuale di valori nulli per la colonna page_start = 10.989580640870376%\n",
      "Percentuale di valori nulli per la colonna page_end = 15.97310864204241%\n",
      "Percentuale di valori nulli per la colonna doc_type = 10.20503822692924%\n",
      "Percentuale di valori nulli per la colonna publisher = 15.526424567889707%\n",
      "Percentuale di valori nulli per la colonna volume = 55.391338444151614%\n",
      "Percentuale di valori nulli per la colonna issue = 66.93458993069767%\n",
      "Percentuale di valori nulli per la colonna doi = 19.88376528867732%\n",
      "Percentuale di valori nulli per la colonna abstract = 13.517582425890309%\n",
      "Percentuale di valori nulli per la colonna references = 22.822673104126366%\n",
      "Percentuale di valori nulli per la colonna nb_references = 0.0%\n",
      "Percentuale di valori nulli per la colonna venue_raw = 1.4934625892637672%\n",
      "Percentuale di valori nulli per la colonna venue_id = 10.667925607005877%\n",
      "Percentuale di valori nulli per la colonna venue_type = 10.667884741164958%\n",
      "Percentuale di valori nulli per la colonna alias_ids = 99.56257203881519%\n"
     ]
    }
   ],
   "source": [
    "#controverifica: calcola la percentuale di valori nan nel DataFrame\n",
    "nan_percentage(paper_df)"
   ]
  },
  {
   "cell_type": "code",
   "execution_count": 35,
   "id": "6665b2d9-7e6b-4833-9041-d633d66a10e5",
   "metadata": {},
   "outputs": [
    {
     "data": {
      "text/html": [
       "<div>\n",
       "<style scoped>\n",
       "    .dataframe tbody tr th:only-of-type {\n",
       "        vertical-align: middle;\n",
       "    }\n",
       "\n",
       "    .dataframe tbody tr th {\n",
       "        vertical-align: top;\n",
       "    }\n",
       "\n",
       "    .dataframe thead th {\n",
       "        text-align: right;\n",
       "    }\n",
       "</style>\n",
       "<table border=\"1\" class=\"dataframe\">\n",
       "  <thead>\n",
       "    <tr style=\"text-align: right;\">\n",
       "      <th></th>\n",
       "      <th>paper_id</th>\n",
       "      <th>title</th>\n",
       "      <th>year</th>\n",
       "      <th>n_citation</th>\n",
       "      <th>page_start</th>\n",
       "      <th>page_end</th>\n",
       "      <th>doc_type</th>\n",
       "      <th>publisher</th>\n",
       "      <th>volume</th>\n",
       "      <th>issue</th>\n",
       "      <th>doi</th>\n",
       "      <th>abstract</th>\n",
       "      <th>nb_references</th>\n",
       "      <th>venue_raw</th>\n",
       "      <th>venue_id</th>\n",
       "      <th>venue_type</th>\n",
       "    </tr>\n",
       "  </thead>\n",
       "  <tbody>\n",
       "  </tbody>\n",
       "</table>\n",
       "</div>"
      ],
      "text/plain": [
       "Empty DataFrame\n",
       "Columns: [paper_id, title, year, n_citation, page_start, page_end, doc_type, publisher, volume, issue, doi, abstract, nb_references, venue_raw, venue_id, venue_type]\n",
       "Index: []"
      ]
     },
     "execution_count": 35,
     "metadata": {},
     "output_type": "execute_result"
    }
   ],
   "source": [
    "check_duplicates(paper_df,['paper_id'])"
   ]
  },
  {
   "cell_type": "markdown",
   "id": "f439d748-7936-47e5-aef8-dc78be786712",
   "metadata": {
    "tags": []
   },
   "source": [
    "## DataFrame references"
   ]
  },
  {
   "cell_type": "code",
   "execution_count": 11,
   "id": "67a8390a-f07b-4515-9709-12eb9bc2a6d4",
   "metadata": {},
   "outputs": [],
   "source": [
    "reference_df=paper_df[['paper_id','nb_references','references']]"
   ]
  },
  {
   "cell_type": "code",
   "execution_count": 12,
   "id": "0fbf5ec9-8fd3-444a-9a1f-e2ebe806ccbe",
   "metadata": {},
   "outputs": [],
   "source": [
    "#uso di una maschera booleana: seleziona solo le righe che hanno almeno una reference, ossia quelle per cui nb_reference!=0\n",
    "reference_df=reference_df[reference_df['nb_references']!=0]\n",
    "\n",
    "#crea il DataFrame per reference espandendo la colonna references di reference_df\n",
    "#per trasformare ogni elemento della lista di reference in una riga del DataFrame con il relativo id associato\n",
    "reference=expand_column(reference_df,'references')"
   ]
  },
  {
   "cell_type": "code",
   "execution_count": 13,
   "id": "cf49efa7-9321-4802-873f-945cb2457611",
   "metadata": {},
   "outputs": [
    {
     "name": "stdout",
     "output_type": "stream",
     "text": [
      "<class 'pandas.core.frame.DataFrame'>\n",
      "RangeIndex: 45564149 entries, 0 to 45564148\n",
      "Data columns (total 3 columns):\n",
      " #   Column         Non-Null Count     Dtype \n",
      "---  ------         --------------     ----- \n",
      " 0   paper_id       45564149 non-null  int64 \n",
      " 1   nb_references  45564149 non-null  int64 \n",
      " 2   references     45564149 non-null  object\n",
      "dtypes: int64(2), object(1)\n",
      "memory usage: 1.0+ GB\n"
     ]
    }
   ],
   "source": [
    "info(reference)"
   ]
  },
  {
   "cell_type": "code",
   "execution_count": 14,
   "id": "bc1e59e5-1cd2-4567-bccf-44c3d7e2d963",
   "metadata": {},
   "outputs": [
    {
     "data": {
      "text/html": [
       "<div>\n",
       "<style scoped>\n",
       "    .dataframe tbody tr th:only-of-type {\n",
       "        vertical-align: middle;\n",
       "    }\n",
       "\n",
       "    .dataframe tbody tr th {\n",
       "        vertical-align: top;\n",
       "    }\n",
       "\n",
       "    .dataframe thead th {\n",
       "        text-align: right;\n",
       "    }\n",
       "</style>\n",
       "<table border=\"1\" class=\"dataframe\">\n",
       "  <thead>\n",
       "    <tr style=\"text-align: right;\">\n",
       "      <th></th>\n",
       "      <th>paper_id</th>\n",
       "      <th>nb_references</th>\n",
       "      <th>references</th>\n",
       "    </tr>\n",
       "  </thead>\n",
       "  <tbody>\n",
       "  </tbody>\n",
       "</table>\n",
       "</div>"
      ],
      "text/plain": [
       "Empty DataFrame\n",
       "Columns: [paper_id, nb_references, references]\n",
       "Index: []"
      ]
     },
     "execution_count": 14,
     "metadata": {},
     "output_type": "execute_result"
    }
   ],
   "source": [
    "check_duplicates(reference,['paper_id','references'])"
   ]
  },
  {
   "cell_type": "code",
   "execution_count": 15,
   "id": "61e3d6be-7e7a-4df4-a359-5b6aa79eeaa0",
   "metadata": {},
   "outputs": [],
   "source": [
    "del_columns(reference,['nb_references'])"
   ]
  },
  {
   "cell_type": "code",
   "execution_count": 16,
   "id": "d2c8a51c-25de-408a-b717-9266baff594d",
   "metadata": {},
   "outputs": [],
   "source": [
    "cast_to(reference,'references','int64')"
   ]
  },
  {
   "cell_type": "code",
   "execution_count": 17,
   "id": "c194af69-a384-4df2-84bc-18eea1419f1a",
   "metadata": {},
   "outputs": [
    {
     "name": "stdout",
     "output_type": "stream",
     "text": [
      "<class 'pandas.core.frame.DataFrame'>\n",
      "RangeIndex: 45564149 entries, 0 to 45564148\n",
      "Data columns (total 2 columns):\n",
      " #   Column      Non-Null Count     Dtype\n",
      "---  ------      --------------     -----\n",
      " 0   paper_id    45564149 non-null  int64\n",
      " 1   references  45564149 non-null  int64\n",
      "dtypes: int64(2)\n",
      "memory usage: 695.3 MB\n"
     ]
    }
   ],
   "source": [
    "info(reference)"
   ]
  },
  {
   "cell_type": "code",
   "execution_count": 18,
   "id": "b6b0d1e5-2d9b-4cb5-b0a8-41e31fefdffb",
   "metadata": {},
   "outputs": [],
   "source": [
    "rename_columns(reference,{'references':'referenced'})"
   ]
  },
  {
   "cell_type": "markdown",
   "id": "22ddb6db-5806-4560-97fd-7620f117ff9b",
   "metadata": {
    "tags": []
   },
   "source": [
    "## DataFrame alias_id e with_alias"
   ]
  },
  {
   "cell_type": "code",
   "execution_count": 19,
   "id": "b9398af5-1d43-4005-a048-642bd4ac87cf",
   "metadata": {},
   "outputs": [],
   "source": [
    "alias_id_df=paper_df[['paper_id','alias_ids']]"
   ]
  },
  {
   "cell_type": "code",
   "execution_count": 20,
   "id": "ad55f876-dc3c-490a-9816-be70808bb7a0",
   "metadata": {},
   "outputs": [],
   "source": [
    "#uso di una maschera booleana: seleziona solo le righe per cui alias_ids NON è nullo\n",
    "alias_id_df=alias_id_df[alias_id_df['alias_ids'].notna()]"
   ]
  },
  {
   "cell_type": "code",
   "execution_count": 21,
   "id": "385f342d-32e6-4a7a-9292-49c313f8b2ef",
   "metadata": {},
   "outputs": [],
   "source": [
    "#crea il DataFrame with_alias espandendo la colonna alias_ids di alias_id_df\n",
    "with_alias=expand_column(alias_id_df,'alias_ids')"
   ]
  },
  {
   "cell_type": "code",
   "execution_count": 22,
   "id": "c608e1eb-5ff9-42c7-bc08-3c9fd7ed84bb",
   "metadata": {},
   "outputs": [
    {
     "data": {
      "text/html": [
       "<div>\n",
       "<style scoped>\n",
       "    .dataframe tbody tr th:only-of-type {\n",
       "        vertical-align: middle;\n",
       "    }\n",
       "\n",
       "    .dataframe tbody tr th {\n",
       "        vertical-align: top;\n",
       "    }\n",
       "\n",
       "    .dataframe thead th {\n",
       "        text-align: right;\n",
       "    }\n",
       "</style>\n",
       "<table border=\"1\" class=\"dataframe\">\n",
       "  <thead>\n",
       "    <tr style=\"text-align: right;\">\n",
       "      <th></th>\n",
       "      <th>paper_id</th>\n",
       "      <th>alias_ids</th>\n",
       "    </tr>\n",
       "  </thead>\n",
       "  <tbody>\n",
       "  </tbody>\n",
       "</table>\n",
       "</div>"
      ],
      "text/plain": [
       "Empty DataFrame\n",
       "Columns: [paper_id, alias_ids]\n",
       "Index: []"
      ]
     },
     "execution_count": 22,
     "metadata": {},
     "output_type": "execute_result"
    }
   ],
   "source": [
    "check_duplicates(with_alias,['paper_id','alias_ids'])"
   ]
  },
  {
   "cell_type": "code",
   "execution_count": 23,
   "id": "b4193c9a-ecf9-452d-8a15-2379b2fe3dd7",
   "metadata": {},
   "outputs": [
    {
     "data": {
      "text/html": [
       "<div>\n",
       "<style scoped>\n",
       "    .dataframe tbody tr th:only-of-type {\n",
       "        vertical-align: middle;\n",
       "    }\n",
       "\n",
       "    .dataframe tbody tr th {\n",
       "        vertical-align: top;\n",
       "    }\n",
       "\n",
       "    .dataframe thead th {\n",
       "        text-align: right;\n",
       "    }\n",
       "</style>\n",
       "<table border=\"1\" class=\"dataframe\">\n",
       "  <thead>\n",
       "    <tr style=\"text-align: right;\">\n",
       "      <th></th>\n",
       "      <th>paper_id</th>\n",
       "      <th>alias_ids</th>\n",
       "    </tr>\n",
       "  </thead>\n",
       "  <tbody>\n",
       "  </tbody>\n",
       "</table>\n",
       "</div>"
      ],
      "text/plain": [
       "Empty DataFrame\n",
       "Columns: [paper_id, alias_ids]\n",
       "Index: []"
      ]
     },
     "execution_count": 23,
     "metadata": {},
     "output_type": "execute_result"
    }
   ],
   "source": [
    "check_duplicates(with_alias,['alias_ids'])"
   ]
  },
  {
   "cell_type": "code",
   "execution_count": 24,
   "id": "56095657-3dee-4bbd-b6d0-dd000d2331a9",
   "metadata": {},
   "outputs": [
    {
     "data": {
      "text/plain": [
       "False"
      ]
     },
     "execution_count": 24,
     "metadata": {},
     "output_type": "execute_result"
    }
   ],
   "source": [
    "#controlla se i valori di alias_ids sono contenuti nella colonna id di paper\n",
    "(with_alias['alias_ids']).isin(paper_df['paper_id']).any()"
   ]
  },
  {
   "cell_type": "code",
   "execution_count": 25,
   "id": "8ecb6ba8-a969-412f-a52b-4318822bb47d",
   "metadata": {},
   "outputs": [
    {
     "name": "stdout",
     "output_type": "stream",
     "text": [
      "<class 'pandas.core.frame.DataFrame'>\n",
      "RangeIndex: 77909 entries, 0 to 77908\n",
      "Data columns (total 2 columns):\n",
      " #   Column     Non-Null Count  Dtype \n",
      "---  ------     --------------  ----- \n",
      " 0   paper_id   77909 non-null  int64 \n",
      " 1   alias_ids  77909 non-null  object\n",
      "dtypes: int64(1), object(1)\n",
      "memory usage: 1.2+ MB\n"
     ]
    }
   ],
   "source": [
    "info(with_alias)"
   ]
  },
  {
   "cell_type": "code",
   "execution_count": 26,
   "id": "989efa58-24f3-4ada-b068-2f34e97cd681",
   "metadata": {},
   "outputs": [],
   "source": [
    "cast_to(with_alias,'alias_ids','int64')"
   ]
  },
  {
   "cell_type": "code",
   "execution_count": 27,
   "id": "ef1ddca9-1fdf-46b3-a49f-232a7660e7c4",
   "metadata": {},
   "outputs": [],
   "source": [
    "#crea la Series per alias_id\n",
    "alias_id=with_alias['alias_ids']"
   ]
  },
  {
   "cell_type": "code",
   "execution_count": 53,
   "id": "a23a7a83-8591-47ba-ba01-50d7c9224625",
   "metadata": {},
   "outputs": [
    {
     "name": "stdout",
     "output_type": "stream",
     "text": [
      "<class 'pandas.core.series.Series'>\n",
      "RangeIndex: 77909 entries, 0 to 77908\n",
      "Series name: alias_ids\n",
      "Non-Null Count  Dtype\n",
      "--------------  -----\n",
      "77909 non-null  int64\n",
      "dtypes: int64(1)\n",
      "memory usage: 608.8 KB\n"
     ]
    }
   ],
   "source": [
    "info(alias_id)"
   ]
  },
  {
   "cell_type": "markdown",
   "id": "27bbc5a5-2263-476b-9248-7264299a82dc",
   "metadata": {
    "tags": []
   },
   "source": [
    "## Elaborazione paper_df"
   ]
  },
  {
   "cell_type": "code",
   "execution_count": 28,
   "id": "cec65646-6bdc-4b04-adab-2718c6e3c34b",
   "metadata": {},
   "outputs": [],
   "source": [
    "#elimina la colonna alias_ids e references\n",
    "del_columns(paper_df,['alias_ids','references'])"
   ]
  },
  {
   "cell_type": "code",
   "execution_count": 29,
   "id": "c4b538a1-e4c9-4800-ac31-07e291cdfc70",
   "metadata": {},
   "outputs": [
    {
     "data": {
      "text/plain": [
       "array(['Conference', 'Journal', nan, 'Book', 'Repository', 'Patent',\n",
       "       'BookChapter'], dtype=object)"
      ]
     },
     "execution_count": 29,
     "metadata": {},
     "output_type": "execute_result"
    }
   ],
   "source": [
    "#verifica che ci siano un nr. limitato di valori per doc_type per eseguire il cast a category\n",
    "paper_df['doc_type'].unique()"
   ]
  },
  {
   "cell_type": "code",
   "execution_count": 30,
   "id": "de1eb760-5f70-4314-815f-88a0d610d313",
   "metadata": {},
   "outputs": [
    {
     "data": {
      "text/plain": [
       "array(['C', 'J', nan], dtype=object)"
      ]
     },
     "execution_count": 30,
     "metadata": {},
     "output_type": "execute_result"
    }
   ],
   "source": [
    "#verifica che ci siano un nr. limitato di valori per venue_type per eseguire il cast a category\n",
    "paper_df['venue_type'].unique()"
   ]
  },
  {
   "cell_type": "code",
   "execution_count": 31,
   "id": "954f0f07-7bb9-4d98-bcb9-918f7b79ec50",
   "metadata": {},
   "outputs": [],
   "source": [
    "#tenta il cast a bigint, non è possibile usare to_numeric perchè contiene valori Nan\n",
    "cast_to(paper_df,'volume','Int64')\n",
    "cast_to(paper_df,'issue','Int64')"
   ]
  },
  {
   "cell_type": "code",
   "execution_count": 32,
   "id": "94f690c7-c569-4052-a296-5fd16b5bfaab",
   "metadata": {},
   "outputs": [
    {
     "name": "stdout",
     "output_type": "stream",
     "text": [
      "Colonna paper_id : valore massimo 3009038462, valore minimo 1091\n",
      "Colonna year : valore massimo 2020, valore minimo 1800\n",
      "Colonna n_citation : valore massimo 48327, valore minimo 0\n",
      "Colonna volume : valore massimo 9783642544323, valore minimo -11\n",
      "Colonna issue : valore massimo 9789812879356, valore minimo -77\n",
      "Colonna nb_references : valore massimo 1812, valore minimo 0\n",
      "Colonna venue_id : valore massimo 2996807011.0, valore minimo 182001.0\n"
     ]
    }
   ],
   "source": [
    "#controlla i valori massimi e minimi per capire a quale tipo di intero eseguire il cast\n",
    "check_max_min(paper_df)"
   ]
  },
  {
   "cell_type": "code",
   "execution_count": 33,
   "id": "1f63f14f-ee8f-416b-a12d-5dcf99cc2642",
   "metadata": {},
   "outputs": [
    {
     "name": "stdout",
     "output_type": "stream",
     "text": [
      "<class 'pandas.core.frame.DataFrame'>\n",
      "RangeIndex: 4894063 entries, 0 to 4894062\n",
      "Data columns (total 16 columns):\n",
      " #   Column         Non-Null Count    Dtype   \n",
      "---  ------         --------------    -----   \n",
      " 0   paper_id       4894063 non-null  int64   \n",
      " 1   title          4894063 non-null  object  \n",
      " 2   year           4894063 non-null  int16   \n",
      " 3   n_citation     4894063 non-null  int16   \n",
      " 4   page_start     4356226 non-null  object  \n",
      " 5   page_end       4112329 non-null  object  \n",
      " 6   doc_type       4394622 non-null  category\n",
      " 7   publisher      4134190 non-null  object  \n",
      " 8   volume         2183176 non-null  Int64   \n",
      " 9   issue          1618242 non-null  Int64   \n",
      " 10  doi            3920939 non-null  object  \n",
      " 11  abstract       4232504 non-null  object  \n",
      " 12  nb_references  4894063 non-null  int16   \n",
      " 13  venue_raw      4820972 non-null  object  \n",
      " 14  venue_id       4371968 non-null  Int64   \n",
      " 15  venue_type     4371970 non-null  category\n",
      "dtypes: Int64(3), category(2), int16(3), int64(1), object(7)\n",
      "memory usage: 462.1+ MB\n"
     ]
    }
   ],
   "source": [
    "cast_to(paper_df,'doc_type','category')\n",
    "cast_to(paper_df,'venue_type','category')\n",
    "\n",
    "#esegue il cast della colonna venue_id di paper_df affinchè sia di tipo Int64 (pandas ExtensionDtype, per usare il tipo int con valori mancanti)\n",
    "cast_to(paper_df,'venue_id','Int64')\n",
    "\n",
    "cast_to(paper_df,'year','int16')\n",
    "cast_to(paper_df,'n_citation','int16')\n",
    "cast_to(paper_df,'nb_references','int16')\n",
    "\n",
    "info(paper_df)"
   ]
  },
  {
   "cell_type": "code",
   "execution_count": 51,
   "id": "5cac49a2-79e7-42d1-a72c-06110d91a09b",
   "metadata": {},
   "outputs": [
    {
     "ename": "ValueError",
     "evalue": "invalid literal for int() with base 10: '139-148'",
     "output_type": "error",
     "traceback": [
      "\u001b[0;31m---------------------------------------------------------------------------\u001b[0m",
      "\u001b[0;31mValueError\u001b[0m                                Traceback (most recent call last)",
      "\u001b[0;32m/var/folders/br/6gdrmps94h75yv4f9c5z85cc0000gp/T/ipykernel_8461/875726085.py\u001b[0m in \u001b[0;36m<module>\u001b[0;34m\u001b[0m\n\u001b[1;32m      1\u001b[0m \u001b[0;31m#posso convertire solo quelle che effettivamente contengono int\u001b[0m\u001b[0;34m\u001b[0m\u001b[0;34m\u001b[0m\u001b[0m\n\u001b[0;32m----> 2\u001b[0;31m \u001b[0mcast_to\u001b[0m\u001b[0;34m(\u001b[0m\u001b[0mpaper_df\u001b[0m\u001b[0;34m,\u001b[0m\u001b[0;34m'page_start'\u001b[0m\u001b[0;34m,\u001b[0m\u001b[0;34m'Int64'\u001b[0m\u001b[0;34m)\u001b[0m\u001b[0;34m\u001b[0m\u001b[0;34m\u001b[0m\u001b[0m\n\u001b[0m\u001b[1;32m      3\u001b[0m \u001b[0mcast_to\u001b[0m\u001b[0;34m(\u001b[0m\u001b[0mpaper_df\u001b[0m\u001b[0;34m,\u001b[0m\u001b[0;34m'page_end'\u001b[0m\u001b[0;34m,\u001b[0m\u001b[0;34m'Int64'\u001b[0m\u001b[0;34m)\u001b[0m\u001b[0;34m\u001b[0m\u001b[0;34m\u001b[0m\u001b[0m\n",
      "\u001b[0;32m~/Desktop/tesi/scripts/manipulate_df.py\u001b[0m in \u001b[0;36mcast_to\u001b[0;34m(df, column, dtype)\u001b[0m\n\u001b[1;32m     45\u001b[0m \u001b[0;31m#effettua il cast di una colonna al tipo di dato passato\u001b[0m\u001b[0;34m\u001b[0m\u001b[0;34m\u001b[0m\u001b[0m\n\u001b[1;32m     46\u001b[0m \u001b[0;32mdef\u001b[0m \u001b[0mcast_to\u001b[0m\u001b[0;34m(\u001b[0m\u001b[0mdf\u001b[0m\u001b[0;34m,\u001b[0m\u001b[0mcolumn\u001b[0m\u001b[0;34m,\u001b[0m\u001b[0mdtype\u001b[0m\u001b[0;34m)\u001b[0m\u001b[0;34m:\u001b[0m\u001b[0;34m\u001b[0m\u001b[0;34m\u001b[0m\u001b[0m\n\u001b[0;32m---> 47\u001b[0;31m     \u001b[0mdf\u001b[0m\u001b[0;34m[\u001b[0m\u001b[0mcolumn\u001b[0m\u001b[0;34m]\u001b[0m\u001b[0;34m=\u001b[0m\u001b[0;34m(\u001b[0m\u001b[0mdf\u001b[0m\u001b[0;34m[\u001b[0m\u001b[0mcolumn\u001b[0m\u001b[0;34m]\u001b[0m\u001b[0;34m)\u001b[0m\u001b[0;34m.\u001b[0m\u001b[0mastype\u001b[0m\u001b[0;34m(\u001b[0m\u001b[0mdtype\u001b[0m\u001b[0;34m,\u001b[0m\u001b[0mcopy\u001b[0m\u001b[0;34m=\u001b[0m\u001b[0;32mFalse\u001b[0m\u001b[0;34m)\u001b[0m\u001b[0;34m\u001b[0m\u001b[0;34m\u001b[0m\u001b[0m\n\u001b[0m\u001b[1;32m     48\u001b[0m \u001b[0;34m\u001b[0m\u001b[0m\n\u001b[1;32m     49\u001b[0m \u001b[0;31m#esegue una funzione di hash sul DataFrame, convertendo il risultato al tipo di dato passato\u001b[0m\u001b[0;34m\u001b[0m\u001b[0;34m\u001b[0m\u001b[0m\n",
      "\u001b[0;32m~/opt/anaconda3/lib/python3.9/site-packages/pandas/core/generic.py\u001b[0m in \u001b[0;36mastype\u001b[0;34m(self, dtype, copy, errors)\u001b[0m\n\u001b[1;32m   5910\u001b[0m         \u001b[0;32melse\u001b[0m\u001b[0;34m:\u001b[0m\u001b[0;34m\u001b[0m\u001b[0;34m\u001b[0m\u001b[0m\n\u001b[1;32m   5911\u001b[0m             \u001b[0;31m# else, only a single dtype is given\u001b[0m\u001b[0;34m\u001b[0m\u001b[0;34m\u001b[0m\u001b[0m\n\u001b[0;32m-> 5912\u001b[0;31m             \u001b[0mnew_data\u001b[0m \u001b[0;34m=\u001b[0m \u001b[0mself\u001b[0m\u001b[0;34m.\u001b[0m\u001b[0m_mgr\u001b[0m\u001b[0;34m.\u001b[0m\u001b[0mastype\u001b[0m\u001b[0;34m(\u001b[0m\u001b[0mdtype\u001b[0m\u001b[0;34m=\u001b[0m\u001b[0mdtype\u001b[0m\u001b[0;34m,\u001b[0m \u001b[0mcopy\u001b[0m\u001b[0;34m=\u001b[0m\u001b[0mcopy\u001b[0m\u001b[0;34m,\u001b[0m \u001b[0merrors\u001b[0m\u001b[0;34m=\u001b[0m\u001b[0merrors\u001b[0m\u001b[0;34m)\u001b[0m\u001b[0;34m\u001b[0m\u001b[0;34m\u001b[0m\u001b[0m\n\u001b[0m\u001b[1;32m   5913\u001b[0m             \u001b[0;32mreturn\u001b[0m \u001b[0mself\u001b[0m\u001b[0;34m.\u001b[0m\u001b[0m_constructor\u001b[0m\u001b[0;34m(\u001b[0m\u001b[0mnew_data\u001b[0m\u001b[0;34m)\u001b[0m\u001b[0;34m.\u001b[0m\u001b[0m__finalize__\u001b[0m\u001b[0;34m(\u001b[0m\u001b[0mself\u001b[0m\u001b[0;34m,\u001b[0m \u001b[0mmethod\u001b[0m\u001b[0;34m=\u001b[0m\u001b[0;34m\"astype\"\u001b[0m\u001b[0;34m)\u001b[0m\u001b[0;34m\u001b[0m\u001b[0;34m\u001b[0m\u001b[0m\n\u001b[1;32m   5914\u001b[0m \u001b[0;34m\u001b[0m\u001b[0m\n",
      "\u001b[0;32m~/opt/anaconda3/lib/python3.9/site-packages/pandas/core/internals/managers.py\u001b[0m in \u001b[0;36mastype\u001b[0;34m(self, dtype, copy, errors)\u001b[0m\n\u001b[1;32m    417\u001b[0m \u001b[0;34m\u001b[0m\u001b[0m\n\u001b[1;32m    418\u001b[0m     \u001b[0;32mdef\u001b[0m \u001b[0mastype\u001b[0m\u001b[0;34m(\u001b[0m\u001b[0mself\u001b[0m\u001b[0;34m:\u001b[0m \u001b[0mT\u001b[0m\u001b[0;34m,\u001b[0m \u001b[0mdtype\u001b[0m\u001b[0;34m,\u001b[0m \u001b[0mcopy\u001b[0m\u001b[0;34m:\u001b[0m \u001b[0mbool\u001b[0m \u001b[0;34m=\u001b[0m \u001b[0;32mFalse\u001b[0m\u001b[0;34m,\u001b[0m \u001b[0merrors\u001b[0m\u001b[0;34m:\u001b[0m \u001b[0mstr\u001b[0m \u001b[0;34m=\u001b[0m \u001b[0;34m\"raise\"\u001b[0m\u001b[0;34m)\u001b[0m \u001b[0;34m->\u001b[0m \u001b[0mT\u001b[0m\u001b[0;34m:\u001b[0m\u001b[0;34m\u001b[0m\u001b[0;34m\u001b[0m\u001b[0m\n\u001b[0;32m--> 419\u001b[0;31m         \u001b[0;32mreturn\u001b[0m \u001b[0mself\u001b[0m\u001b[0;34m.\u001b[0m\u001b[0mapply\u001b[0m\u001b[0;34m(\u001b[0m\u001b[0;34m\"astype\"\u001b[0m\u001b[0;34m,\u001b[0m \u001b[0mdtype\u001b[0m\u001b[0;34m=\u001b[0m\u001b[0mdtype\u001b[0m\u001b[0;34m,\u001b[0m \u001b[0mcopy\u001b[0m\u001b[0;34m=\u001b[0m\u001b[0mcopy\u001b[0m\u001b[0;34m,\u001b[0m \u001b[0merrors\u001b[0m\u001b[0;34m=\u001b[0m\u001b[0merrors\u001b[0m\u001b[0;34m)\u001b[0m\u001b[0;34m\u001b[0m\u001b[0;34m\u001b[0m\u001b[0m\n\u001b[0m\u001b[1;32m    420\u001b[0m \u001b[0;34m\u001b[0m\u001b[0m\n\u001b[1;32m    421\u001b[0m     def convert(\n",
      "\u001b[0;32m~/opt/anaconda3/lib/python3.9/site-packages/pandas/core/internals/managers.py\u001b[0m in \u001b[0;36mapply\u001b[0;34m(self, f, align_keys, ignore_failures, **kwargs)\u001b[0m\n\u001b[1;32m    302\u001b[0m                     \u001b[0mapplied\u001b[0m \u001b[0;34m=\u001b[0m \u001b[0mb\u001b[0m\u001b[0;34m.\u001b[0m\u001b[0mapply\u001b[0m\u001b[0;34m(\u001b[0m\u001b[0mf\u001b[0m\u001b[0;34m,\u001b[0m \u001b[0;34m**\u001b[0m\u001b[0mkwargs\u001b[0m\u001b[0;34m)\u001b[0m\u001b[0;34m\u001b[0m\u001b[0;34m\u001b[0m\u001b[0m\n\u001b[1;32m    303\u001b[0m                 \u001b[0;32melse\u001b[0m\u001b[0;34m:\u001b[0m\u001b[0;34m\u001b[0m\u001b[0;34m\u001b[0m\u001b[0m\n\u001b[0;32m--> 304\u001b[0;31m                     \u001b[0mapplied\u001b[0m \u001b[0;34m=\u001b[0m \u001b[0mgetattr\u001b[0m\u001b[0;34m(\u001b[0m\u001b[0mb\u001b[0m\u001b[0;34m,\u001b[0m \u001b[0mf\u001b[0m\u001b[0;34m)\u001b[0m\u001b[0;34m(\u001b[0m\u001b[0;34m**\u001b[0m\u001b[0mkwargs\u001b[0m\u001b[0;34m)\u001b[0m\u001b[0;34m\u001b[0m\u001b[0;34m\u001b[0m\u001b[0m\n\u001b[0m\u001b[1;32m    305\u001b[0m             \u001b[0;32mexcept\u001b[0m \u001b[0;34m(\u001b[0m\u001b[0mTypeError\u001b[0m\u001b[0;34m,\u001b[0m \u001b[0mNotImplementedError\u001b[0m\u001b[0;34m)\u001b[0m\u001b[0;34m:\u001b[0m\u001b[0;34m\u001b[0m\u001b[0;34m\u001b[0m\u001b[0m\n\u001b[1;32m    306\u001b[0m                 \u001b[0;32mif\u001b[0m \u001b[0;32mnot\u001b[0m \u001b[0mignore_failures\u001b[0m\u001b[0;34m:\u001b[0m\u001b[0;34m\u001b[0m\u001b[0;34m\u001b[0m\u001b[0m\n",
      "\u001b[0;32m~/opt/anaconda3/lib/python3.9/site-packages/pandas/core/internals/blocks.py\u001b[0m in \u001b[0;36mastype\u001b[0;34m(self, dtype, copy, errors)\u001b[0m\n\u001b[1;32m    578\u001b[0m         \u001b[0mvalues\u001b[0m \u001b[0;34m=\u001b[0m \u001b[0mself\u001b[0m\u001b[0;34m.\u001b[0m\u001b[0mvalues\u001b[0m\u001b[0;34m\u001b[0m\u001b[0;34m\u001b[0m\u001b[0m\n\u001b[1;32m    579\u001b[0m \u001b[0;34m\u001b[0m\u001b[0m\n\u001b[0;32m--> 580\u001b[0;31m         \u001b[0mnew_values\u001b[0m \u001b[0;34m=\u001b[0m \u001b[0mastype_array_safe\u001b[0m\u001b[0;34m(\u001b[0m\u001b[0mvalues\u001b[0m\u001b[0;34m,\u001b[0m \u001b[0mdtype\u001b[0m\u001b[0;34m,\u001b[0m \u001b[0mcopy\u001b[0m\u001b[0;34m=\u001b[0m\u001b[0mcopy\u001b[0m\u001b[0;34m,\u001b[0m \u001b[0merrors\u001b[0m\u001b[0;34m=\u001b[0m\u001b[0merrors\u001b[0m\u001b[0;34m)\u001b[0m\u001b[0;34m\u001b[0m\u001b[0;34m\u001b[0m\u001b[0m\n\u001b[0m\u001b[1;32m    581\u001b[0m \u001b[0;34m\u001b[0m\u001b[0m\n\u001b[1;32m    582\u001b[0m         \u001b[0mnew_values\u001b[0m \u001b[0;34m=\u001b[0m \u001b[0mmaybe_coerce_values\u001b[0m\u001b[0;34m(\u001b[0m\u001b[0mnew_values\u001b[0m\u001b[0;34m)\u001b[0m\u001b[0;34m\u001b[0m\u001b[0;34m\u001b[0m\u001b[0m\n",
      "\u001b[0;32m~/opt/anaconda3/lib/python3.9/site-packages/pandas/core/dtypes/cast.py\u001b[0m in \u001b[0;36mastype_array_safe\u001b[0;34m(values, dtype, copy, errors)\u001b[0m\n\u001b[1;32m   1290\u001b[0m \u001b[0;34m\u001b[0m\u001b[0m\n\u001b[1;32m   1291\u001b[0m     \u001b[0;32mtry\u001b[0m\u001b[0;34m:\u001b[0m\u001b[0;34m\u001b[0m\u001b[0;34m\u001b[0m\u001b[0m\n\u001b[0;32m-> 1292\u001b[0;31m         \u001b[0mnew_values\u001b[0m \u001b[0;34m=\u001b[0m \u001b[0mastype_array\u001b[0m\u001b[0;34m(\u001b[0m\u001b[0mvalues\u001b[0m\u001b[0;34m,\u001b[0m \u001b[0mdtype\u001b[0m\u001b[0;34m,\u001b[0m \u001b[0mcopy\u001b[0m\u001b[0;34m=\u001b[0m\u001b[0mcopy\u001b[0m\u001b[0;34m)\u001b[0m\u001b[0;34m\u001b[0m\u001b[0;34m\u001b[0m\u001b[0m\n\u001b[0m\u001b[1;32m   1293\u001b[0m     \u001b[0;32mexcept\u001b[0m \u001b[0;34m(\u001b[0m\u001b[0mValueError\u001b[0m\u001b[0;34m,\u001b[0m \u001b[0mTypeError\u001b[0m\u001b[0;34m)\u001b[0m\u001b[0;34m:\u001b[0m\u001b[0;34m\u001b[0m\u001b[0;34m\u001b[0m\u001b[0m\n\u001b[1;32m   1294\u001b[0m         \u001b[0;31m# e.g. astype_nansafe can fail on object-dtype of strings\u001b[0m\u001b[0;34m\u001b[0m\u001b[0;34m\u001b[0m\u001b[0m\n",
      "\u001b[0;32m~/opt/anaconda3/lib/python3.9/site-packages/pandas/core/dtypes/cast.py\u001b[0m in \u001b[0;36mastype_array\u001b[0;34m(values, dtype, copy)\u001b[0m\n\u001b[1;32m   1235\u001b[0m \u001b[0;34m\u001b[0m\u001b[0m\n\u001b[1;32m   1236\u001b[0m     \u001b[0;32melse\u001b[0m\u001b[0;34m:\u001b[0m\u001b[0;34m\u001b[0m\u001b[0;34m\u001b[0m\u001b[0m\n\u001b[0;32m-> 1237\u001b[0;31m         \u001b[0mvalues\u001b[0m \u001b[0;34m=\u001b[0m \u001b[0mastype_nansafe\u001b[0m\u001b[0;34m(\u001b[0m\u001b[0mvalues\u001b[0m\u001b[0;34m,\u001b[0m \u001b[0mdtype\u001b[0m\u001b[0;34m,\u001b[0m \u001b[0mcopy\u001b[0m\u001b[0;34m=\u001b[0m\u001b[0mcopy\u001b[0m\u001b[0;34m)\u001b[0m\u001b[0;34m\u001b[0m\u001b[0;34m\u001b[0m\u001b[0m\n\u001b[0m\u001b[1;32m   1238\u001b[0m \u001b[0;34m\u001b[0m\u001b[0m\n\u001b[1;32m   1239\u001b[0m     \u001b[0;31m# in pandas we don't store numpy str dtypes, so convert to object\u001b[0m\u001b[0;34m\u001b[0m\u001b[0;34m\u001b[0m\u001b[0m\n",
      "\u001b[0;32m~/opt/anaconda3/lib/python3.9/site-packages/pandas/core/dtypes/cast.py\u001b[0m in \u001b[0;36mastype_nansafe\u001b[0;34m(arr, dtype, copy, skipna)\u001b[0m\n\u001b[1;32m   1106\u001b[0m     \u001b[0;31m# dispatch on extension dtype if needed\u001b[0m\u001b[0;34m\u001b[0m\u001b[0;34m\u001b[0m\u001b[0m\n\u001b[1;32m   1107\u001b[0m     \u001b[0;32mif\u001b[0m \u001b[0misinstance\u001b[0m\u001b[0;34m(\u001b[0m\u001b[0mdtype\u001b[0m\u001b[0;34m,\u001b[0m \u001b[0mExtensionDtype\u001b[0m\u001b[0;34m)\u001b[0m\u001b[0;34m:\u001b[0m\u001b[0;34m\u001b[0m\u001b[0;34m\u001b[0m\u001b[0m\n\u001b[0;32m-> 1108\u001b[0;31m         \u001b[0;32mreturn\u001b[0m \u001b[0mdtype\u001b[0m\u001b[0;34m.\u001b[0m\u001b[0mconstruct_array_type\u001b[0m\u001b[0;34m(\u001b[0m\u001b[0;34m)\u001b[0m\u001b[0;34m.\u001b[0m\u001b[0m_from_sequence\u001b[0m\u001b[0;34m(\u001b[0m\u001b[0marr\u001b[0m\u001b[0;34m,\u001b[0m \u001b[0mdtype\u001b[0m\u001b[0;34m=\u001b[0m\u001b[0mdtype\u001b[0m\u001b[0;34m,\u001b[0m \u001b[0mcopy\u001b[0m\u001b[0;34m=\u001b[0m\u001b[0mcopy\u001b[0m\u001b[0;34m)\u001b[0m\u001b[0;34m\u001b[0m\u001b[0;34m\u001b[0m\u001b[0m\n\u001b[0m\u001b[1;32m   1109\u001b[0m \u001b[0;34m\u001b[0m\u001b[0m\n\u001b[1;32m   1110\u001b[0m     \u001b[0;32melif\u001b[0m \u001b[0;32mnot\u001b[0m \u001b[0misinstance\u001b[0m\u001b[0;34m(\u001b[0m\u001b[0mdtype\u001b[0m\u001b[0;34m,\u001b[0m \u001b[0mnp\u001b[0m\u001b[0;34m.\u001b[0m\u001b[0mdtype\u001b[0m\u001b[0;34m)\u001b[0m\u001b[0;34m:\u001b[0m  \u001b[0;31m# pragma: no cover\u001b[0m\u001b[0;34m\u001b[0m\u001b[0;34m\u001b[0m\u001b[0m\n",
      "\u001b[0;32m~/opt/anaconda3/lib/python3.9/site-packages/pandas/core/arrays/integer.py\u001b[0m in \u001b[0;36m_from_sequence\u001b[0;34m(cls, scalars, dtype, copy)\u001b[0m\n\u001b[1;32m    323\u001b[0m         \u001b[0mcls\u001b[0m\u001b[0;34m,\u001b[0m \u001b[0mscalars\u001b[0m\u001b[0;34m,\u001b[0m \u001b[0;34m*\u001b[0m\u001b[0;34m,\u001b[0m \u001b[0mdtype\u001b[0m\u001b[0;34m:\u001b[0m \u001b[0mDtype\u001b[0m \u001b[0;34m|\u001b[0m \u001b[0;32mNone\u001b[0m \u001b[0;34m=\u001b[0m \u001b[0;32mNone\u001b[0m\u001b[0;34m,\u001b[0m \u001b[0mcopy\u001b[0m\u001b[0;34m:\u001b[0m \u001b[0mbool\u001b[0m \u001b[0;34m=\u001b[0m \u001b[0;32mFalse\u001b[0m\u001b[0;34m\u001b[0m\u001b[0;34m\u001b[0m\u001b[0m\n\u001b[1;32m    324\u001b[0m     ) -> IntegerArray:\n\u001b[0;32m--> 325\u001b[0;31m         \u001b[0mvalues\u001b[0m\u001b[0;34m,\u001b[0m \u001b[0mmask\u001b[0m \u001b[0;34m=\u001b[0m \u001b[0mcoerce_to_array\u001b[0m\u001b[0;34m(\u001b[0m\u001b[0mscalars\u001b[0m\u001b[0;34m,\u001b[0m \u001b[0mdtype\u001b[0m\u001b[0;34m=\u001b[0m\u001b[0mdtype\u001b[0m\u001b[0;34m,\u001b[0m \u001b[0mcopy\u001b[0m\u001b[0;34m=\u001b[0m\u001b[0mcopy\u001b[0m\u001b[0;34m)\u001b[0m\u001b[0;34m\u001b[0m\u001b[0;34m\u001b[0m\u001b[0m\n\u001b[0m\u001b[1;32m    326\u001b[0m         \u001b[0;32mreturn\u001b[0m \u001b[0mIntegerArray\u001b[0m\u001b[0;34m(\u001b[0m\u001b[0mvalues\u001b[0m\u001b[0;34m,\u001b[0m \u001b[0mmask\u001b[0m\u001b[0;34m)\u001b[0m\u001b[0;34m\u001b[0m\u001b[0;34m\u001b[0m\u001b[0m\n\u001b[1;32m    327\u001b[0m \u001b[0;34m\u001b[0m\u001b[0m\n",
      "\u001b[0;32m~/opt/anaconda3/lib/python3.9/site-packages/pandas/core/arrays/integer.py\u001b[0m in \u001b[0;36mcoerce_to_array\u001b[0;34m(values, dtype, mask, copy)\u001b[0m\n\u001b[1;32m    226\u001b[0m         \u001b[0;31m# casts from str are always safe since they raise\u001b[0m\u001b[0;34m\u001b[0m\u001b[0;34m\u001b[0m\u001b[0m\n\u001b[1;32m    227\u001b[0m         \u001b[0;31m# a ValueError if the str cannot be parsed into an int\u001b[0m\u001b[0;34m\u001b[0m\u001b[0;34m\u001b[0m\u001b[0m\n\u001b[0;32m--> 228\u001b[0;31m         \u001b[0mvalues\u001b[0m \u001b[0;34m=\u001b[0m \u001b[0mvalues\u001b[0m\u001b[0;34m.\u001b[0m\u001b[0mastype\u001b[0m\u001b[0;34m(\u001b[0m\u001b[0mdtype\u001b[0m\u001b[0;34m,\u001b[0m \u001b[0mcopy\u001b[0m\u001b[0;34m=\u001b[0m\u001b[0mcopy\u001b[0m\u001b[0;34m)\u001b[0m\u001b[0;34m\u001b[0m\u001b[0;34m\u001b[0m\u001b[0m\n\u001b[0m\u001b[1;32m    229\u001b[0m     \u001b[0;32melse\u001b[0m\u001b[0;34m:\u001b[0m\u001b[0;34m\u001b[0m\u001b[0;34m\u001b[0m\u001b[0m\n\u001b[1;32m    230\u001b[0m         \u001b[0mvalues\u001b[0m \u001b[0;34m=\u001b[0m \u001b[0msafe_cast\u001b[0m\u001b[0;34m(\u001b[0m\u001b[0mvalues\u001b[0m\u001b[0;34m,\u001b[0m \u001b[0mdtype\u001b[0m\u001b[0;34m,\u001b[0m \u001b[0mcopy\u001b[0m\u001b[0;34m=\u001b[0m\u001b[0;32mFalse\u001b[0m\u001b[0;34m)\u001b[0m\u001b[0;34m\u001b[0m\u001b[0;34m\u001b[0m\u001b[0m\n",
      "\u001b[0;31mValueError\u001b[0m: invalid literal for int() with base 10: '139-148'"
     ]
    }
   ],
   "source": [
    "#posso convertire solo quelle che effettivamente contengono int\n",
    "cast_to(paper_df,'page_start','Int64')\n",
    "cast_to(paper_df,'page_end','Int64')"
   ]
  },
  {
   "cell_type": "code",
   "execution_count": 50,
   "id": "47e7a5e5-e3d4-4b20-bcb9-36f04e65ad79",
   "metadata": {},
   "outputs": [
    {
     "name": "stdout",
     "output_type": "stream",
     "text": [
      "2             On (p, q)-analogue of Bernstein operators\n",
      "3     On the Number of Permutations Performable by E...\n",
      "9                            Type-2 Fuzzy Logic Systems\n",
      "10    Fredholm-Volterra integral equation with singu...\n",
      "13    How to Extend Partial Deduction to Derive the ...\n",
      "Name: title, dtype: object\n",
      "            \n",
      "15089     139-148\n",
      "18906        38-1\n",
      "20810       25-31\n",
      "85261        43-1\n",
      "148689      386-1\n",
      "Name: page_start, dtype: object\n",
      "            \n",
      "15089     139-148\n",
      "18906       38-12\n",
      "20810       25-31\n",
      "85261        43-8\n",
      "148689      386-6\n",
      "Name: page_end, dtype: object\n",
      "            \n",
      "918588     CRC Press - Taylor & Francis Group\n",
      "1090623             SPIE-Intl Soc Optical Eng\n",
      "Name: publisher, dtype: object\n",
      "            \n",
      "Series([], Name: doi, dtype: object)\n",
      "            \n",
      "Series([], Name: abstract, dtype: object)\n",
      "            \n",
      "Series([], Name: venue_raw, dtype: object)\n",
      "            \n"
     ]
    }
   ],
   "source": [
    "#controlla l'integrità di page_start e page_end, per questo si userà il formato text nella tabella del db per questi due attributi\n",
    "column_with_special_char(paper,'-')"
   ]
  },
  {
   "cell_type": "code",
   "execution_count": 34,
   "id": "dfeef82a-8506-43a7-9b44-81312ed8dd8d",
   "metadata": {},
   "outputs": [
    {
     "name": "stdout",
     "output_type": "stream",
     "text": [
      "40870     Making Micrologic: The Development of the Plan...\n",
      "76296     Enhanced CSMA&#x002F;CA Protocol Design for In...\n",
      "89913     NOMA&#x002F;OMA Mode Selection-Based Cell-Free...\n",
      "108143                                 Me &#x2014; Your ISP\n",
      "144497    Proportional Fairness in Wireless Powered CSMA...\n",
      "Name: title, dtype: object\n",
      "            \n",
      "Series([], Name: page_start, dtype: object)\n",
      "            \n",
      "Series([], Name: page_end, dtype: object)\n",
      "            \n",
      "Series([], Name: publisher, dtype: object)\n",
      "            \n",
      "Series([], Name: doi, dtype: object)\n",
      "            \n",
      "Series([], Name: abstract, dtype: object)\n",
      "            \n",
      "Series([], Name: venue_raw, dtype: object)\n",
      "            \n"
     ]
    }
   ],
   "source": [
    "#verifica quali colonne nel DataFrame contengono i caratteri speciali (riferimento a carattere numerico html), formato '&#x[HEX];'\n",
    "column_with_special_char(paper_df,'&#x')"
   ]
  },
  {
   "cell_type": "code",
   "execution_count": 35,
   "id": "b03a272f-3df0-4663-951f-9129652d8cd7",
   "metadata": {},
   "outputs": [],
   "source": [
    "#decodifica le entità carattere\n",
    "unescape_special_char(paper_df)"
   ]
  },
  {
   "cell_type": "markdown",
   "id": "590e5991-05ee-422f-9302-9467b0aa361d",
   "metadata": {
    "tags": []
   },
   "source": [
    "## DataFrame venue"
   ]
  },
  {
   "cell_type": "code",
   "execution_count": 36,
   "id": "ee4c5265-9247-4dea-91c4-0c3b4478b031",
   "metadata": {},
   "outputs": [],
   "source": [
    "venue=paper_df[['venue_id','venue_raw','venue_type']]"
   ]
  },
  {
   "cell_type": "code",
   "execution_count": 37,
   "id": "fabc65c0-479d-474a-8be7-81e3e2de76fe",
   "metadata": {},
   "outputs": [
    {
     "data": {
      "text/html": [
       "<div>\n",
       "<style scoped>\n",
       "    .dataframe tbody tr th:only-of-type {\n",
       "        vertical-align: middle;\n",
       "    }\n",
       "\n",
       "    .dataframe tbody tr th {\n",
       "        vertical-align: top;\n",
       "    }\n",
       "\n",
       "    .dataframe thead th {\n",
       "        text-align: right;\n",
       "    }\n",
       "</style>\n",
       "<table border=\"1\" class=\"dataframe\">\n",
       "  <thead>\n",
       "    <tr style=\"text-align: right;\">\n",
       "      <th></th>\n",
       "      <th>venue_id</th>\n",
       "      <th>venue_raw</th>\n",
       "      <th>venue_type</th>\n",
       "    </tr>\n",
       "  </thead>\n",
       "  <tbody>\n",
       "    <tr>\n",
       "      <th>30080</th>\n",
       "      <td>235346</td>\n",
       "      <td>Wireless Communications and Mobile Computing</td>\n",
       "      <td>J</td>\n",
       "    </tr>\n",
       "    <tr>\n",
       "      <th>34892</th>\n",
       "      <td>235346</td>\n",
       "      <td>Wireless Communications and Mobile Computing</td>\n",
       "      <td>J</td>\n",
       "    </tr>\n",
       "    <tr>\n",
       "      <th>36549</th>\n",
       "      <td>235346</td>\n",
       "      <td>Wireless Communications and Mobile Computing</td>\n",
       "      <td>J</td>\n",
       "    </tr>\n",
       "    <tr>\n",
       "      <th>44569</th>\n",
       "      <td>235346</td>\n",
       "      <td>Wireless Communications and Mobile Computing</td>\n",
       "      <td>J</td>\n",
       "    </tr>\n",
       "    <tr>\n",
       "      <th>45877</th>\n",
       "      <td>235346</td>\n",
       "      <td>Wireless Communications and Mobile Computing</td>\n",
       "      <td>J</td>\n",
       "    </tr>\n",
       "    <tr>\n",
       "      <th>...</th>\n",
       "      <td>...</td>\n",
       "      <td>...</td>\n",
       "      <td>...</td>\n",
       "    </tr>\n",
       "    <tr>\n",
       "      <th>4894048</th>\n",
       "      <td>&lt;NA&gt;</td>\n",
       "      <td>NaN</td>\n",
       "      <td>NaN</td>\n",
       "    </tr>\n",
       "    <tr>\n",
       "      <th>4894053</th>\n",
       "      <td>&lt;NA&gt;</td>\n",
       "      <td>NaN</td>\n",
       "      <td>NaN</td>\n",
       "    </tr>\n",
       "    <tr>\n",
       "      <th>4894054</th>\n",
       "      <td>&lt;NA&gt;</td>\n",
       "      <td>NaN</td>\n",
       "      <td>NaN</td>\n",
       "    </tr>\n",
       "    <tr>\n",
       "      <th>4894055</th>\n",
       "      <td>&lt;NA&gt;</td>\n",
       "      <td>NaN</td>\n",
       "      <td>NaN</td>\n",
       "    </tr>\n",
       "    <tr>\n",
       "      <th>4894058</th>\n",
       "      <td>&lt;NA&gt;</td>\n",
       "      <td>NaN</td>\n",
       "      <td>NaN</td>\n",
       "    </tr>\n",
       "  </tbody>\n",
       "</table>\n",
       "<p>4868222 rows × 3 columns</p>\n",
       "</div>"
      ],
      "text/plain": [
       "         venue_id                                     venue_raw venue_type\n",
       "30080      235346  Wireless Communications and Mobile Computing          J\n",
       "34892      235346  Wireless Communications and Mobile Computing          J\n",
       "36549      235346  Wireless Communications and Mobile Computing          J\n",
       "44569      235346  Wireless Communications and Mobile Computing          J\n",
       "45877      235346  Wireless Communications and Mobile Computing          J\n",
       "...           ...                                           ...        ...\n",
       "4894048      <NA>                                           NaN        NaN\n",
       "4894053      <NA>                                           NaN        NaN\n",
       "4894054      <NA>                                           NaN        NaN\n",
       "4894055      <NA>                                           NaN        NaN\n",
       "4894058      <NA>                                           NaN        NaN\n",
       "\n",
       "[4868222 rows x 3 columns]"
      ]
     },
     "execution_count": 37,
     "metadata": {},
     "output_type": "execute_result"
    }
   ],
   "source": [
    "check_duplicates(venue,['venue_id','venue_raw','venue_type'])"
   ]
  },
  {
   "cell_type": "code",
   "execution_count": 38,
   "id": "2652e0de-729d-4c61-b970-1d20ab32ec71",
   "metadata": {},
   "outputs": [
    {
     "name": "stderr",
     "output_type": "stream",
     "text": [
      "/Users/autoteamchannel/Desktop/tesi/scripts/manipulate_df.py:12: SettingWithCopyWarning: \n",
      "A value is trying to be set on a copy of a slice from a DataFrame\n",
      "\n",
      "See the caveats in the documentation: https://pandas.pydata.org/pandas-docs/stable/user_guide/indexing.html#returning-a-view-versus-a-copy\n",
      "  df.dropna(axis='index', #effettua l'eliminazione lungo l'asse degli indici\n"
     ]
    },
    {
     "name": "stdout",
     "output_type": "stream",
     "text": [
      "<class 'pandas.core.frame.DataFrame'>\n",
      "RangeIndex: 49202 entries, 0 to 49201\n",
      "Data columns (total 3 columns):\n",
      " #   Column      Non-Null Count  Dtype   \n",
      "---  ------      --------------  -----   \n",
      " 0   venue_id    10480 non-null  Int64   \n",
      " 1   venue_raw   49201 non-null  object  \n",
      " 2   venue_type  10482 non-null  category\n",
      "dtypes: Int64(1), category(1), object(1)\n",
      "memory usage: 865.1+ KB\n"
     ]
    },
    {
     "name": "stderr",
     "output_type": "stream",
     "text": [
      "/Users/autoteamchannel/Desktop/tesi/scripts/manipulate_df.py:15: SettingWithCopyWarning: \n",
      "A value is trying to be set on a copy of a slice from a DataFrame\n",
      "\n",
      "See the caveats in the documentation: https://pandas.pydata.org/pandas-docs/stable/user_guide/indexing.html#returning-a-view-versus-a-copy\n",
      "  df.drop_duplicates(inplace=True, #effettua l'operazione sul dataframe anzichè restituire una copia\n"
     ]
    }
   ],
   "source": [
    "#elimina valori nulli e duplicati da venue\n",
    "del_null_duplicates(venue)"
   ]
  },
  {
   "cell_type": "markdown",
   "id": "6f0c1959-743b-4e23-a905-aca603152aee",
   "metadata": {
    "tags": []
   },
   "source": [
    "### Verifica la presenza di duplicati su un sottoinsieme delle colonne di venue"
   ]
  },
  {
   "cell_type": "code",
   "execution_count": 39,
   "id": "e69eeb81-c2e8-434a-8cca-14ab2488f7ca",
   "metadata": {},
   "outputs": [
    {
     "data": {
      "text/html": [
       "<div>\n",
       "<style scoped>\n",
       "    .dataframe tbody tr th:only-of-type {\n",
       "        vertical-align: middle;\n",
       "    }\n",
       "\n",
       "    .dataframe tbody tr th {\n",
       "        vertical-align: top;\n",
       "    }\n",
       "\n",
       "    .dataframe thead th {\n",
       "        text-align: right;\n",
       "    }\n",
       "</style>\n",
       "<table border=\"1\" class=\"dataframe\">\n",
       "  <thead>\n",
       "    <tr style=\"text-align: right;\">\n",
       "      <th></th>\n",
       "      <th>venue_id</th>\n",
       "      <th>venue_raw</th>\n",
       "      <th>venue_type</th>\n",
       "    </tr>\n",
       "  </thead>\n",
       "  <tbody>\n",
       "  </tbody>\n",
       "</table>\n",
       "</div>"
      ],
      "text/plain": [
       "Empty DataFrame\n",
       "Columns: [venue_id, venue_raw, venue_type]\n",
       "Index: []"
      ]
     },
     "execution_count": 39,
     "metadata": {},
     "output_type": "execute_result"
    }
   ],
   "source": [
    "#controlla duplicati sul sottoinsieme venue_id e venue_raw\n",
    "check_duplicates(venue,['venue_id','venue_raw']) "
   ]
  },
  {
   "cell_type": "code",
   "execution_count": 40,
   "id": "9b70cebe-e36d-487e-b0f4-0bb276d87b8b",
   "metadata": {},
   "outputs": [
    {
     "data": {
      "text/html": [
       "<div>\n",
       "<style scoped>\n",
       "    .dataframe tbody tr th:only-of-type {\n",
       "        vertical-align: middle;\n",
       "    }\n",
       "\n",
       "    .dataframe tbody tr th {\n",
       "        vertical-align: top;\n",
       "    }\n",
       "\n",
       "    .dataframe thead th {\n",
       "        text-align: right;\n",
       "    }\n",
       "</style>\n",
       "<table border=\"1\" class=\"dataframe\">\n",
       "  <thead>\n",
       "    <tr style=\"text-align: right;\">\n",
       "      <th></th>\n",
       "      <th>venue_id</th>\n",
       "      <th>venue_raw</th>\n",
       "      <th>venue_type</th>\n",
       "    </tr>\n",
       "  </thead>\n",
       "  <tbody>\n",
       "    <tr>\n",
       "      <th>224</th>\n",
       "      <td>2595313807</td>\n",
       "      <td>arXiv: Numerical Analysis</td>\n",
       "      <td>J</td>\n",
       "    </tr>\n",
       "    <tr>\n",
       "      <th>8552</th>\n",
       "      <td>2595836090</td>\n",
       "      <td>arXiv: Numerical Analysis</td>\n",
       "      <td>J</td>\n",
       "    </tr>\n",
       "  </tbody>\n",
       "</table>\n",
       "</div>"
      ],
      "text/plain": [
       "        venue_id                  venue_raw venue_type\n",
       "224   2595313807  arXiv: Numerical Analysis          J\n",
       "8552  2595836090  arXiv: Numerical Analysis          J"
      ]
     },
     "execution_count": 40,
     "metadata": {},
     "output_type": "execute_result"
    }
   ],
   "source": [
    "#controlla duplicati sul sottoinsieme venue_type e venue_raw, ci sono due valori omonimi su venue_raw con id differenti, vengono considerati come due record distinti\n",
    "check_duplicates(venue,['venue_raw','venue_type'])"
   ]
  },
  {
   "cell_type": "code",
   "execution_count": 41,
   "id": "4245e7bd-08d6-45f0-9cb4-8bf2dcb502f3",
   "metadata": {},
   "outputs": [
    {
     "name": "stdout",
     "output_type": "stream",
     "text": [
      "<class 'pandas.core.frame.DataFrame'>\n",
      "Int64Index: 38722 entries, 6961 to 49201\n",
      "Data columns (total 3 columns):\n",
      " #   Column      Non-Null Count  Dtype   \n",
      "---  ------      --------------  -----   \n",
      " 0   venue_id    0 non-null      Int64   \n",
      " 1   venue_raw   38721 non-null  object  \n",
      " 2   venue_type  2 non-null      category\n",
      "dtypes: Int64(1), category(1), object(1)\n",
      "memory usage: 983.3+ KB\n"
     ]
    }
   ],
   "source": [
    "#controlla duplicati sul sottoinsieme venue_id e venue_type, li salva in un DataFrame temporaneo\n",
    "venue_null=check_duplicates(venue,['venue_id','venue_type'])\n",
    "info(venue_null)"
   ]
  },
  {
   "cell_type": "code",
   "execution_count": 42,
   "id": "88d73cf5-1d31-4ee7-9cc3-95789c8b21b7",
   "metadata": {},
   "outputs": [
    {
     "data": {
      "text/html": [
       "<div>\n",
       "<style scoped>\n",
       "    .dataframe tbody tr th:only-of-type {\n",
       "        vertical-align: middle;\n",
       "    }\n",
       "\n",
       "    .dataframe tbody tr th {\n",
       "        vertical-align: top;\n",
       "    }\n",
       "\n",
       "    .dataframe thead th {\n",
       "        text-align: right;\n",
       "    }\n",
       "</style>\n",
       "<table border=\"1\" class=\"dataframe\">\n",
       "  <thead>\n",
       "    <tr style=\"text-align: right;\">\n",
       "      <th></th>\n",
       "      <th>venue_id</th>\n",
       "      <th>venue_raw</th>\n",
       "      <th>venue_type</th>\n",
       "    </tr>\n",
       "  </thead>\n",
       "  <tbody>\n",
       "    <tr>\n",
       "      <th>6961</th>\n",
       "      <td>&lt;NA&gt;</td>\n",
       "      <td>hot topics in software upgrades</td>\n",
       "      <td>C</td>\n",
       "    </tr>\n",
       "    <tr>\n",
       "      <th>29004</th>\n",
       "      <td>&lt;NA&gt;</td>\n",
       "      <td>NaN</td>\n",
       "      <td>C</td>\n",
       "    </tr>\n",
       "  </tbody>\n",
       "</table>\n",
       "</div>"
      ],
      "text/plain": [
       "       venue_id                        venue_raw venue_type\n",
       "6961       <NA>  hot topics in software upgrades          C\n",
       "29004      <NA>                              NaN          C"
      ]
     },
     "execution_count": 42,
     "metadata": {},
     "output_type": "execute_result"
    }
   ],
   "source": [
    "#ci sono due venue_type duplicati non nulli, verifica quali sono questi valori, fanno riferimento a due record diversi\n",
    "venue_null[venue_null['venue_type'].notna()]"
   ]
  },
  {
   "cell_type": "code",
   "execution_count": 43,
   "id": "e63d77e0-0191-4fc8-bc54-84c8b315faec",
   "metadata": {},
   "outputs": [
    {
     "name": "stdout",
     "output_type": "stream",
     "text": [
      "<class 'pandas.core.frame.DataFrame'>\n",
      "Int64Index: 38722 entries, 4 to 49201\n",
      "Data columns (total 3 columns):\n",
      " #   Column      Non-Null Count  Dtype   \n",
      "---  ------      --------------  -----   \n",
      " 0   venue_id    0 non-null      Int64   \n",
      " 1   venue_raw   38721 non-null  object  \n",
      " 2   venue_type  2 non-null      category\n",
      "dtypes: Int64(1), category(1), object(1)\n",
      "memory usage: 983.3+ KB\n"
     ]
    }
   ],
   "source": [
    "#controlla duplicati sul sottoinsieme venue_id, verifica quanti sono i duplicati a causa di valori nulli, stesso numero di casi sopra\n",
    "info(check_duplicates(venue,['venue_id']))"
   ]
  },
  {
   "cell_type": "code",
   "execution_count": 44,
   "id": "7257fc12-62bb-4dae-803a-fb38ecd407a8",
   "metadata": {},
   "outputs": [
    {
     "data": {
      "text/html": [
       "<div>\n",
       "<style scoped>\n",
       "    .dataframe tbody tr th:only-of-type {\n",
       "        vertical-align: middle;\n",
       "    }\n",
       "\n",
       "    .dataframe tbody tr th {\n",
       "        vertical-align: top;\n",
       "    }\n",
       "\n",
       "    .dataframe thead th {\n",
       "        text-align: right;\n",
       "    }\n",
       "</style>\n",
       "<table border=\"1\" class=\"dataframe\">\n",
       "  <thead>\n",
       "    <tr style=\"text-align: right;\">\n",
       "      <th></th>\n",
       "      <th>venue_id</th>\n",
       "      <th>venue_raw</th>\n",
       "      <th>venue_type</th>\n",
       "    </tr>\n",
       "  </thead>\n",
       "  <tbody>\n",
       "    <tr>\n",
       "      <th>29</th>\n",
       "      <td>2757487807</td>\n",
       "      <td>American Medical Informatics Association Annua...</td>\n",
       "      <td>C</td>\n",
       "    </tr>\n",
       "    <tr>\n",
       "      <th>36428</th>\n",
       "      <td>&lt;NA&gt;</td>\n",
       "      <td>American Medical Informatics Association Annua...</td>\n",
       "      <td>NaN</td>\n",
       "    </tr>\n",
       "    <tr>\n",
       "      <th>19413</th>\n",
       "      <td>97068678</td>\n",
       "      <td>Aslib Proceedings</td>\n",
       "      <td>J</td>\n",
       "    </tr>\n",
       "    <tr>\n",
       "      <th>5526</th>\n",
       "      <td>&lt;NA&gt;</td>\n",
       "      <td>Aslib Proceedings</td>\n",
       "      <td>NaN</td>\n",
       "    </tr>\n",
       "    <tr>\n",
       "      <th>34067</th>\n",
       "      <td>49206733</td>\n",
       "      <td>BMC Proceedings</td>\n",
       "      <td>J</td>\n",
       "    </tr>\n",
       "    <tr>\n",
       "      <th>16717</th>\n",
       "      <td>&lt;NA&gt;</td>\n",
       "      <td>BMC Proceedings</td>\n",
       "      <td>NaN</td>\n",
       "    </tr>\n",
       "    <tr>\n",
       "      <th>45217</th>\n",
       "      <td>56561474</td>\n",
       "      <td>Computational Intelligence</td>\n",
       "      <td>J</td>\n",
       "    </tr>\n",
       "    <tr>\n",
       "      <th>198</th>\n",
       "      <td>1120693805</td>\n",
       "      <td>Computational Intelligence</td>\n",
       "      <td>C</td>\n",
       "    </tr>\n",
       "    <tr>\n",
       "      <th>2386</th>\n",
       "      <td>1168542559</td>\n",
       "      <td>Data and Knowledge Engineering</td>\n",
       "      <td>C</td>\n",
       "    </tr>\n",
       "    <tr>\n",
       "      <th>38136</th>\n",
       "      <td>136993123</td>\n",
       "      <td>Data and Knowledge Engineering</td>\n",
       "      <td>J</td>\n",
       "    </tr>\n",
       "    <tr>\n",
       "      <th>2398</th>\n",
       "      <td>11479521</td>\n",
       "      <td>Decision Support Systems</td>\n",
       "      <td>J</td>\n",
       "    </tr>\n",
       "    <tr>\n",
       "      <th>696</th>\n",
       "      <td>1182309694</td>\n",
       "      <td>Decision Support Systems</td>\n",
       "      <td>C</td>\n",
       "    </tr>\n",
       "    <tr>\n",
       "      <th>19570</th>\n",
       "      <td>&lt;NA&gt;</td>\n",
       "      <td>Frontiers in Robotics and AI</td>\n",
       "      <td>NaN</td>\n",
       "    </tr>\n",
       "    <tr>\n",
       "      <th>6189</th>\n",
       "      <td>2595095599</td>\n",
       "      <td>Frontiers in Robotics and AI</td>\n",
       "      <td>J</td>\n",
       "    </tr>\n",
       "    <tr>\n",
       "      <th>1133</th>\n",
       "      <td>1201250571</td>\n",
       "      <td>Intelligent Data Analysis</td>\n",
       "      <td>C</td>\n",
       "    </tr>\n",
       "    <tr>\n",
       "      <th>13365</th>\n",
       "      <td>2498839158</td>\n",
       "      <td>Intelligent Data Analysis</td>\n",
       "      <td>J</td>\n",
       "    </tr>\n",
       "    <tr>\n",
       "      <th>1631</th>\n",
       "      <td>&lt;NA&gt;</td>\n",
       "      <td>Künstliche Intelligenz</td>\n",
       "      <td>NaN</td>\n",
       "    </tr>\n",
       "    <tr>\n",
       "      <th>1109</th>\n",
       "      <td>1001063841</td>\n",
       "      <td>Künstliche Intelligenz</td>\n",
       "      <td>J</td>\n",
       "    </tr>\n",
       "    <tr>\n",
       "      <th>5878</th>\n",
       "      <td>&lt;NA&gt;</td>\n",
       "      <td>Proceedings of SPIE</td>\n",
       "      <td>NaN</td>\n",
       "    </tr>\n",
       "    <tr>\n",
       "      <th>874</th>\n",
       "      <td>183492911</td>\n",
       "      <td>Proceedings of SPIE</td>\n",
       "      <td>J</td>\n",
       "    </tr>\n",
       "    <tr>\n",
       "      <th>11470</th>\n",
       "      <td>2996807011</td>\n",
       "      <td>SIAM Journal on Applied Algebra and Geometry</td>\n",
       "      <td>J</td>\n",
       "    </tr>\n",
       "    <tr>\n",
       "      <th>7734</th>\n",
       "      <td>&lt;NA&gt;</td>\n",
       "      <td>SIAM Journal on Applied Algebra and Geometry</td>\n",
       "      <td>NaN</td>\n",
       "    </tr>\n",
       "    <tr>\n",
       "      <th>9348</th>\n",
       "      <td>&lt;NA&gt;</td>\n",
       "      <td>Social Science Research Network</td>\n",
       "      <td>NaN</td>\n",
       "    </tr>\n",
       "    <tr>\n",
       "      <th>8554</th>\n",
       "      <td>2751751161</td>\n",
       "      <td>Social Science Research Network</td>\n",
       "      <td>J</td>\n",
       "    </tr>\n",
       "    <tr>\n",
       "      <th>320</th>\n",
       "      <td>1123077274</td>\n",
       "      <td>Soft Computing</td>\n",
       "      <td>C</td>\n",
       "    </tr>\n",
       "    <tr>\n",
       "      <th>1215</th>\n",
       "      <td>65753830</td>\n",
       "      <td>Soft Computing</td>\n",
       "      <td>J</td>\n",
       "    </tr>\n",
       "    <tr>\n",
       "      <th>2637</th>\n",
       "      <td>2605467207</td>\n",
       "      <td>Workshop on Hot Topics in Operating Systems</td>\n",
       "      <td>C</td>\n",
       "    </tr>\n",
       "    <tr>\n",
       "      <th>26377</th>\n",
       "      <td>&lt;NA&gt;</td>\n",
       "      <td>Workshop on Hot Topics in Operating Systems</td>\n",
       "      <td>NaN</td>\n",
       "    </tr>\n",
       "    <tr>\n",
       "      <th>224</th>\n",
       "      <td>2595313807</td>\n",
       "      <td>arXiv: Numerical Analysis</td>\n",
       "      <td>J</td>\n",
       "    </tr>\n",
       "    <tr>\n",
       "      <th>8552</th>\n",
       "      <td>2595836090</td>\n",
       "      <td>arXiv: Numerical Analysis</td>\n",
       "      <td>J</td>\n",
       "    </tr>\n",
       "  </tbody>\n",
       "</table>\n",
       "</div>"
      ],
      "text/plain": [
       "         venue_id                                          venue_raw  \\\n",
       "29     2757487807  American Medical Informatics Association Annua...   \n",
       "36428        <NA>  American Medical Informatics Association Annua...   \n",
       "19413    97068678                                  Aslib Proceedings   \n",
       "5526         <NA>                                  Aslib Proceedings   \n",
       "34067    49206733                                    BMC Proceedings   \n",
       "16717        <NA>                                    BMC Proceedings   \n",
       "45217    56561474                         Computational Intelligence   \n",
       "198    1120693805                         Computational Intelligence   \n",
       "2386   1168542559                     Data and Knowledge Engineering   \n",
       "38136   136993123                     Data and Knowledge Engineering   \n",
       "2398     11479521                           Decision Support Systems   \n",
       "696    1182309694                           Decision Support Systems   \n",
       "19570        <NA>                       Frontiers in Robotics and AI   \n",
       "6189   2595095599                       Frontiers in Robotics and AI   \n",
       "1133   1201250571                          Intelligent Data Analysis   \n",
       "13365  2498839158                          Intelligent Data Analysis   \n",
       "1631         <NA>                             Künstliche Intelligenz   \n",
       "1109   1001063841                             Künstliche Intelligenz   \n",
       "5878         <NA>                                Proceedings of SPIE   \n",
       "874     183492911                                Proceedings of SPIE   \n",
       "11470  2996807011       SIAM Journal on Applied Algebra and Geometry   \n",
       "7734         <NA>       SIAM Journal on Applied Algebra and Geometry   \n",
       "9348         <NA>                    Social Science Research Network   \n",
       "8554   2751751161                    Social Science Research Network   \n",
       "320    1123077274                                     Soft Computing   \n",
       "1215     65753830                                     Soft Computing   \n",
       "2637   2605467207        Workshop on Hot Topics in Operating Systems   \n",
       "26377        <NA>        Workshop on Hot Topics in Operating Systems   \n",
       "224    2595313807                          arXiv: Numerical Analysis   \n",
       "8552   2595836090                          arXiv: Numerical Analysis   \n",
       "\n",
       "      venue_type  \n",
       "29             C  \n",
       "36428        NaN  \n",
       "19413          J  \n",
       "5526         NaN  \n",
       "34067          J  \n",
       "16717        NaN  \n",
       "45217          J  \n",
       "198            C  \n",
       "2386           C  \n",
       "38136          J  \n",
       "2398           J  \n",
       "696            C  \n",
       "19570        NaN  \n",
       "6189           J  \n",
       "1133           C  \n",
       "13365          J  \n",
       "1631         NaN  \n",
       "1109           J  \n",
       "5878         NaN  \n",
       "874            J  \n",
       "11470          J  \n",
       "7734         NaN  \n",
       "9348         NaN  \n",
       "8554           J  \n",
       "320            C  \n",
       "1215           J  \n",
       "2637           C  \n",
       "26377        NaN  \n",
       "224            J  \n",
       "8552           J  "
      ]
     },
     "execution_count": 44,
     "metadata": {},
     "output_type": "execute_result"
    }
   ],
   "source": [
    "#controlla duplicati sul sottoinsieme venue_raw, fanno riferimento a record diversi, quindi non ci sono duplicati\n",
    "#non ha senso fare la stessa elaborazione su venue_type\n",
    "check_duplicates(venue,['venue_raw'])"
   ]
  },
  {
   "cell_type": "markdown",
   "id": "774e7fc7-153c-4080-bcd0-f2664ba11591",
   "metadata": {
    "tags": []
   },
   "source": [
    "### Elaborazione di venue, per ottenere venue_id_new che diventerà la chiave primaria per la tabella venue"
   ]
  },
  {
   "cell_type": "code",
   "execution_count": 45,
   "id": "7ac94f32-e5a9-4379-8383-e26cc6025340",
   "metadata": {},
   "outputs": [
    {
     "name": "stderr",
     "output_type": "stream",
     "text": [
      "/var/folders/br/6gdrmps94h75yv4f9c5z85cc0000gp/T/ipykernel_8461/545191298.py:2: SettingWithCopyWarning: \n",
      "A value is trying to be set on a copy of a slice from a DataFrame.\n",
      "Try using .loc[row_indexer,col_indexer] = value instead\n",
      "\n",
      "See the caveats in the documentation: https://pandas.pydata.org/pandas-docs/stable/user_guide/indexing.html#returning-a-view-versus-a-copy\n",
      "  venue['venue_id_new']=hash_df(venue,'int64')\n"
     ]
    }
   ],
   "source": [
    "#crea la colonna venue_id_new chiamando la funzione di hash sul dataframe venue\n",
    "venue['venue_id_new']=hash_df(venue,'int64')"
   ]
  },
  {
   "cell_type": "code",
   "execution_count": 46,
   "id": "42927b66-9653-4137-9f43-a77723a2c693",
   "metadata": {},
   "outputs": [
    {
     "data": {
      "text/html": [
       "<div>\n",
       "<style scoped>\n",
       "    .dataframe tbody tr th:only-of-type {\n",
       "        vertical-align: middle;\n",
       "    }\n",
       "\n",
       "    .dataframe tbody tr th {\n",
       "        vertical-align: top;\n",
       "    }\n",
       "\n",
       "    .dataframe thead th {\n",
       "        text-align: right;\n",
       "    }\n",
       "</style>\n",
       "<table border=\"1\" class=\"dataframe\">\n",
       "  <thead>\n",
       "    <tr style=\"text-align: right;\">\n",
       "      <th></th>\n",
       "      <th>venue_id</th>\n",
       "      <th>venue_raw</th>\n",
       "      <th>venue_type</th>\n",
       "      <th>venue_id_new</th>\n",
       "    </tr>\n",
       "  </thead>\n",
       "  <tbody>\n",
       "  </tbody>\n",
       "</table>\n",
       "</div>"
      ],
      "text/plain": [
       "Empty DataFrame\n",
       "Columns: [venue_id, venue_raw, venue_type, venue_id_new]\n",
       "Index: []"
      ]
     },
     "execution_count": 46,
     "metadata": {},
     "output_type": "execute_result"
    }
   ],
   "source": [
    "#controlla che non ci siano duplicati tra gli id, non dovrebbero esserci dato che non ci sono tra i record di venue\n",
    "check_duplicates(venue,'venue_id_new')"
   ]
  },
  {
   "cell_type": "code",
   "execution_count": 47,
   "id": "2b3e260f-b300-4c27-b931-21d50e756405",
   "metadata": {},
   "outputs": [
    {
     "name": "stderr",
     "output_type": "stream",
     "text": [
      "/Users/autoteamchannel/Desktop/tesi/scripts/manipulate_df.py:47: SettingWithCopyWarning: \n",
      "A value is trying to be set on a copy of a slice from a DataFrame.\n",
      "Try using .loc[row_indexer,col_indexer] = value instead\n",
      "\n",
      "See the caveats in the documentation: https://pandas.pydata.org/pandas-docs/stable/user_guide/indexing.html#returning-a-view-versus-a-copy\n",
      "  df[column]=(df[column]).astype(dtype,copy=False)\n"
     ]
    }
   ],
   "source": [
    "#questo cast è necessario perchè quando aggiunge questa colonna in paper_df la presenza di valori Nan non permette \n",
    "#di mantenere tale colonna come Series di interi\n",
    "cast_to(venue,'venue_id_new','Int64')"
   ]
  },
  {
   "cell_type": "code",
   "execution_count": 48,
   "id": "abcb385b-5cd7-4090-b8a0-3bdec82e9b12",
   "metadata": {},
   "outputs": [
    {
     "name": "stdout",
     "output_type": "stream",
     "text": [
      "<class 'pandas.core.frame.DataFrame'>\n",
      "RangeIndex: 49202 entries, 0 to 49201\n",
      "Data columns (total 4 columns):\n",
      " #   Column        Non-Null Count  Dtype   \n",
      "---  ------        --------------  -----   \n",
      " 0   venue_id      10480 non-null  Int64   \n",
      " 1   venue_raw     49201 non-null  object  \n",
      " 2   venue_type    10482 non-null  category\n",
      " 3   venue_id_new  49202 non-null  Int64   \n",
      "dtypes: Int64(2), category(1), object(1)\n",
      "memory usage: 1.3+ MB\n"
     ]
    }
   ],
   "source": [
    "info(venue)"
   ]
  },
  {
   "cell_type": "markdown",
   "id": "6b4c097c-3b21-4046-a13c-f3b068c35ac7",
   "metadata": {
    "tags": []
   },
   "source": [
    "## DataFrame paper\n"
   ]
  },
  {
   "cell_type": "code",
   "execution_count": 49,
   "id": "7e2ae63d-f4a6-4082-826f-4ba2ada04fd7",
   "metadata": {},
   "outputs": [],
   "source": [
    "#Esegue un merge sinistro con il DataFrame paper_df sulle colonne venue_id,venue_raw, venue_type,\n",
    "#il risultato lo mette in un nuovo DataFrame paper\n",
    "paper=paper_df.merge(venue, how='left', on=['venue_id','venue_raw','venue_type'])"
   ]
  },
  {
   "cell_type": "code",
   "execution_count": null,
   "id": "cc65d721-0fd6-499d-ad1f-0820b0af9164",
   "metadata": {},
   "outputs": [],
   "source": [
    "del_columns(paper,['venue_id','venue_raw','venue_type'])"
   ]
  },
  {
   "cell_type": "code",
   "execution_count": 36,
   "id": "fc1ede66-aab3-4cc0-ac8d-9b2aefe2ccc3",
   "metadata": {},
   "outputs": [
    {
     "name": "stdout",
     "output_type": "stream",
     "text": [
      "<class 'pandas.core.frame.DataFrame'>\n",
      "Int64Index: 4894063 entries, 0 to 4894062\n",
      "Data columns (total 14 columns):\n",
      " #   Column         Non-Null Count    Dtype   \n",
      "---  ------         --------------    -----   \n",
      " 0   paper_id       4894063 non-null  int64   \n",
      " 1   title          4894063 non-null  object  \n",
      " 2   year           4894063 non-null  int16   \n",
      " 3   n_citation     4894063 non-null  int16   \n",
      " 4   page_start     4356226 non-null  object  \n",
      " 5   page_end       4112329 non-null  object  \n",
      " 6   doc_type       4394622 non-null  category\n",
      " 7   publisher      4134190 non-null  object  \n",
      " 8   volume         2183176 non-null  Int64   \n",
      " 9   issue          1618242 non-null  Int64   \n",
      " 10  doi            3920939 non-null  object  \n",
      " 11  abstract       4232504 non-null  object  \n",
      " 12  nb_references  4894063 non-null  int16   \n",
      " 13  venue_id_new   4820973 non-null  Int64   \n",
      "dtypes: Int64(3), category(1), int16(3), int64(1), object(6)\n",
      "memory usage: 457.4+ MB\n"
     ]
    }
   ],
   "source": [
    "info(paper)"
   ]
  },
  {
   "cell_type": "code",
   "execution_count": 37,
   "id": "daa12a69-30ce-4301-83d0-c50d32481ced",
   "metadata": {},
   "outputs": [
    {
     "data": {
      "text/html": [
       "<div>\n",
       "<style scoped>\n",
       "    .dataframe tbody tr th:only-of-type {\n",
       "        vertical-align: middle;\n",
       "    }\n",
       "\n",
       "    .dataframe tbody tr th {\n",
       "        vertical-align: top;\n",
       "    }\n",
       "\n",
       "    .dataframe thead th {\n",
       "        text-align: right;\n",
       "    }\n",
       "</style>\n",
       "<table border=\"1\" class=\"dataframe\">\n",
       "  <thead>\n",
       "    <tr style=\"text-align: right;\">\n",
       "      <th></th>\n",
       "      <th>paper_id</th>\n",
       "      <th>title</th>\n",
       "      <th>year</th>\n",
       "      <th>n_citation</th>\n",
       "      <th>page_start</th>\n",
       "      <th>page_end</th>\n",
       "      <th>doc_type</th>\n",
       "      <th>publisher</th>\n",
       "      <th>volume</th>\n",
       "      <th>issue</th>\n",
       "      <th>doi</th>\n",
       "      <th>abstract</th>\n",
       "      <th>nb_references</th>\n",
       "      <th>venue_id_new</th>\n",
       "    </tr>\n",
       "  </thead>\n",
       "  <tbody>\n",
       "    <tr>\n",
       "      <th>0</th>\n",
       "      <td>339090091</td>\n",
       "      <td>Document Classification with Recommendation Ar...</td>\n",
       "      <td>2002</td>\n",
       "      <td>0</td>\n",
       "      <td>NaN</td>\n",
       "      <td>NaN</td>\n",
       "      <td>Conference</td>\n",
       "      <td>NaN</td>\n",
       "      <td>&lt;NA&gt;</td>\n",
       "      <td>&lt;NA&gt;</td>\n",
       "      <td>NaN</td>\n",
       "      <td>NaN</td>\n",
       "      <td>0</td>\n",
       "      <td>4485894401032707713</td>\n",
       "    </tr>\n",
       "    <tr>\n",
       "      <th>1</th>\n",
       "      <td>339107753</td>\n",
       "      <td>Linking Operational Semantics and Algebraic Se...</td>\n",
       "      <td>2013</td>\n",
       "      <td>0</td>\n",
       "      <td>380</td>\n",
       "      <td>396</td>\n",
       "      <td>Conference</td>\n",
       "      <td>Springer, Berlin, Heidelberg</td>\n",
       "      <td>&lt;NA&gt;</td>\n",
       "      <td>&lt;NA&gt;</td>\n",
       "      <td>10.1007/978-3-642-41202-8_25</td>\n",
       "      <td>Wireless technology has achieved lots of appli...</td>\n",
       "      <td>10</td>\n",
       "      <td>8569721686983051283</td>\n",
       "    </tr>\n",
       "    <tr>\n",
       "      <th>2</th>\n",
       "      <td>339147017</td>\n",
       "      <td>On (p, q)-analogue of Bernstein operators</td>\n",
       "      <td>2015</td>\n",
       "      <td>114</td>\n",
       "      <td>874</td>\n",
       "      <td>882</td>\n",
       "      <td>Journal</td>\n",
       "      <td>Elsevier</td>\n",
       "      <td>266</td>\n",
       "      <td>&lt;NA&gt;</td>\n",
       "      <td>10.1016/j.amc.2015.04.090</td>\n",
       "      <td>In this paper, we introduce a new analogue of ...</td>\n",
       "      <td>8</td>\n",
       "      <td>3494791485537028207</td>\n",
       "    </tr>\n",
       "    <tr>\n",
       "      <th>3</th>\n",
       "      <td>339159418</td>\n",
       "      <td>On the Number of Permutations Performable by E...</td>\n",
       "      <td>1987</td>\n",
       "      <td>0</td>\n",
       "      <td>461</td>\n",
       "      <td>470</td>\n",
       "      <td>Conference</td>\n",
       "      <td>NaN</td>\n",
       "      <td>&lt;NA&gt;</td>\n",
       "      <td>&lt;NA&gt;</td>\n",
       "      <td>NaN</td>\n",
       "      <td>NaN</td>\n",
       "      <td>0</td>\n",
       "      <td>7651271195938326231</td>\n",
       "    </tr>\n",
       "    <tr>\n",
       "      <th>4</th>\n",
       "      <td>337814053</td>\n",
       "      <td>Leveraging MARF for the Simulation of Securing...</td>\n",
       "      <td>2009</td>\n",
       "      <td>0</td>\n",
       "      <td>46</td>\n",
       "      <td>NaN</td>\n",
       "      <td>NaN</td>\n",
       "      <td>NaN</td>\n",
       "      <td>&lt;NA&gt;</td>\n",
       "      <td>&lt;NA&gt;</td>\n",
       "      <td>NaN</td>\n",
       "      <td>NaN</td>\n",
       "      <td>0</td>\n",
       "      <td>6944349850374290863</td>\n",
       "    </tr>\n",
       "    <tr>\n",
       "      <th>...</th>\n",
       "      <td>...</td>\n",
       "      <td>...</td>\n",
       "      <td>...</td>\n",
       "      <td>...</td>\n",
       "      <td>...</td>\n",
       "      <td>...</td>\n",
       "      <td>...</td>\n",
       "      <td>...</td>\n",
       "      <td>...</td>\n",
       "      <td>...</td>\n",
       "      <td>...</td>\n",
       "      <td>...</td>\n",
       "      <td>...</td>\n",
       "      <td>...</td>\n",
       "    </tr>\n",
       "    <tr>\n",
       "      <th>4894058</th>\n",
       "      <td>998678108</td>\n",
       "      <td>IEEE Seventh International Conference on Softw...</td>\n",
       "      <td>2014</td>\n",
       "      <td>0</td>\n",
       "      <td>NaN</td>\n",
       "      <td>NaN</td>\n",
       "      <td>NaN</td>\n",
       "      <td>NaN</td>\n",
       "      <td>&lt;NA&gt;</td>\n",
       "      <td>&lt;NA&gt;</td>\n",
       "      <td>NaN</td>\n",
       "      <td>NaN</td>\n",
       "      <td>0</td>\n",
       "      <td>&lt;NA&gt;</td>\n",
       "    </tr>\n",
       "    <tr>\n",
       "      <th>4894059</th>\n",
       "      <td>99934447</td>\n",
       "      <td>Globalization of Consumer E-Commerce</td>\n",
       "      <td>2005</td>\n",
       "      <td>0</td>\n",
       "      <td>1293</td>\n",
       "      <td>1298</td>\n",
       "      <td>Conference</td>\n",
       "      <td>IGI Global</td>\n",
       "      <td>&lt;NA&gt;</td>\n",
       "      <td>&lt;NA&gt;</td>\n",
       "      <td>10.4018/978-1-59140-553-5.ch228</td>\n",
       "      <td>NaN</td>\n",
       "      <td>0</td>\n",
       "      <td>8098950582618867683</td>\n",
       "    </tr>\n",
       "    <tr>\n",
       "      <th>4894060</th>\n",
       "      <td>99981893</td>\n",
       "      <td>Matrix-Padé fractions</td>\n",
       "      <td>1987</td>\n",
       "      <td>0</td>\n",
       "      <td>438</td>\n",
       "      <td>449</td>\n",
       "      <td>Conference</td>\n",
       "      <td>Springer, Berlin, Heidelberg</td>\n",
       "      <td>&lt;NA&gt;</td>\n",
       "      <td>&lt;NA&gt;</td>\n",
       "      <td>10.1007/3-540-51517-8_149</td>\n",
       "      <td>For matrix power series with coefficients over...</td>\n",
       "      <td>2</td>\n",
       "      <td>6843350035554290669</td>\n",
       "    </tr>\n",
       "    <tr>\n",
       "      <th>4894061</th>\n",
       "      <td>998260344</td>\n",
       "      <td>Deep Learning for Single-View Instance Recogni...</td>\n",
       "      <td>2015</td>\n",
       "      <td>11</td>\n",
       "      <td>NaN</td>\n",
       "      <td>NaN</td>\n",
       "      <td>Repository</td>\n",
       "      <td>NaN</td>\n",
       "      <td>&lt;NA&gt;</td>\n",
       "      <td>&lt;NA&gt;</td>\n",
       "      <td>NaN</td>\n",
       "      <td>Deep learning methods have typically been trai...</td>\n",
       "      <td>48</td>\n",
       "      <td>7003290661413467402</td>\n",
       "    </tr>\n",
       "    <tr>\n",
       "      <th>4894062</th>\n",
       "      <td>99956490</td>\n",
       "      <td>Bemerkung zu Gurevich's Arbeit über das Entsch...</td>\n",
       "      <td>1978</td>\n",
       "      <td>0</td>\n",
       "      <td>111</td>\n",
       "      <td>114</td>\n",
       "      <td>Journal</td>\n",
       "      <td>Springer Science and Business Media LLC</td>\n",
       "      <td>19</td>\n",
       "      <td>1</td>\n",
       "      <td>10.1007/BF02011872</td>\n",
       "      <td>NaN</td>\n",
       "      <td>3</td>\n",
       "      <td>5847151608321678472</td>\n",
       "    </tr>\n",
       "  </tbody>\n",
       "</table>\n",
       "<p>4894063 rows × 14 columns</p>\n",
       "</div>"
      ],
      "text/plain": [
       "          paper_id                                              title  year  \\\n",
       "0        339090091  Document Classification with Recommendation Ar...  2002   \n",
       "1        339107753  Linking Operational Semantics and Algebraic Se...  2013   \n",
       "2        339147017          On (p, q)-analogue of Bernstein operators  2015   \n",
       "3        339159418  On the Number of Permutations Performable by E...  1987   \n",
       "4        337814053  Leveraging MARF for the Simulation of Securing...  2009   \n",
       "...            ...                                                ...   ...   \n",
       "4894058  998678108  IEEE Seventh International Conference on Softw...  2014   \n",
       "4894059   99934447               Globalization of Consumer E-Commerce  2005   \n",
       "4894060   99981893                              Matrix-Padé fractions  1987   \n",
       "4894061  998260344  Deep Learning for Single-View Instance Recogni...  2015   \n",
       "4894062   99956490  Bemerkung zu Gurevich's Arbeit über das Entsch...  1978   \n",
       "\n",
       "         n_citation page_start page_end    doc_type  \\\n",
       "0                 0        NaN      NaN  Conference   \n",
       "1                 0        380      396  Conference   \n",
       "2               114        874      882     Journal   \n",
       "3                 0        461      470  Conference   \n",
       "4                 0         46      NaN         NaN   \n",
       "...             ...        ...      ...         ...   \n",
       "4894058           0        NaN      NaN         NaN   \n",
       "4894059           0       1293     1298  Conference   \n",
       "4894060           0        438      449  Conference   \n",
       "4894061          11        NaN      NaN  Repository   \n",
       "4894062           0        111      114     Journal   \n",
       "\n",
       "                                       publisher  volume  issue  \\\n",
       "0                                            NaN    <NA>   <NA>   \n",
       "1                   Springer, Berlin, Heidelberg    <NA>   <NA>   \n",
       "2                                       Elsevier     266   <NA>   \n",
       "3                                            NaN    <NA>   <NA>   \n",
       "4                                            NaN    <NA>   <NA>   \n",
       "...                                          ...     ...    ...   \n",
       "4894058                                      NaN    <NA>   <NA>   \n",
       "4894059                               IGI Global    <NA>   <NA>   \n",
       "4894060             Springer, Berlin, Heidelberg    <NA>   <NA>   \n",
       "4894061                                      NaN    <NA>   <NA>   \n",
       "4894062  Springer Science and Business Media LLC      19      1   \n",
       "\n",
       "                                     doi  \\\n",
       "0                                    NaN   \n",
       "1           10.1007/978-3-642-41202-8_25   \n",
       "2              10.1016/j.amc.2015.04.090   \n",
       "3                                    NaN   \n",
       "4                                    NaN   \n",
       "...                                  ...   \n",
       "4894058                              NaN   \n",
       "4894059  10.4018/978-1-59140-553-5.ch228   \n",
       "4894060        10.1007/3-540-51517-8_149   \n",
       "4894061                              NaN   \n",
       "4894062               10.1007/BF02011872   \n",
       "\n",
       "                                                  abstract  nb_references  \\\n",
       "0                                                      NaN              0   \n",
       "1        Wireless technology has achieved lots of appli...             10   \n",
       "2        In this paper, we introduce a new analogue of ...              8   \n",
       "3                                                      NaN              0   \n",
       "4                                                      NaN              0   \n",
       "...                                                    ...            ...   \n",
       "4894058                                                NaN              0   \n",
       "4894059                                                NaN              0   \n",
       "4894060  For matrix power series with coefficients over...              2   \n",
       "4894061  Deep learning methods have typically been trai...             48   \n",
       "4894062                                                NaN              3   \n",
       "\n",
       "                venue_id_new  \n",
       "0        4485894401032707713  \n",
       "1        8569721686983051283  \n",
       "2        3494791485537028207  \n",
       "3        7651271195938326231  \n",
       "4        6944349850374290863  \n",
       "...                      ...  \n",
       "4894058                 <NA>  \n",
       "4894059  8098950582618867683  \n",
       "4894060  6843350035554290669  \n",
       "4894061  7003290661413467402  \n",
       "4894062  5847151608321678472  \n",
       "\n",
       "[4894063 rows x 14 columns]"
      ]
     },
     "execution_count": 37,
     "metadata": {},
     "output_type": "execute_result"
    }
   ],
   "source": [
    "paper"
   ]
  },
  {
   "cell_type": "markdown",
   "id": "4a25ce57-457d-49ee-a9c5-a07d3a3c1c8b",
   "metadata": {
    "tags": []
   },
   "source": [
    "## Connessione al DB"
   ]
  },
  {
   "cell_type": "code",
   "execution_count": 54,
   "id": "2af939e5-34bc-469b-bef8-c7eef2d95e06",
   "metadata": {},
   "outputs": [
    {
     "data": {
      "text/plain": [
       "49202"
      ]
     },
     "execution_count": 54,
     "metadata": {},
     "output_type": "execute_result"
    }
   ],
   "source": [
    "#esporta i DataFrame nelle rispettive tabelle create in pgAdmin\n",
    "connect_db(venue,'venue')"
   ]
  },
  {
   "cell_type": "code",
   "execution_count": 55,
   "id": "00445916-e6b0-4107-b474-4dffd4116ceb",
   "metadata": {},
   "outputs": [
    {
     "data": {
      "text/plain": [
       "4894063"
      ]
     },
     "execution_count": 55,
     "metadata": {},
     "output_type": "execute_result"
    }
   ],
   "source": [
    "connect_db(paper,'paper')"
   ]
  },
  {
   "cell_type": "code",
   "execution_count": 59,
   "id": "4b5f45f0-ca52-4f01-8910-94cc9399bc7a",
   "metadata": {},
   "outputs": [
    {
     "data": {
      "text/plain": [
       "45564149"
      ]
     },
     "execution_count": 59,
     "metadata": {},
     "output_type": "execute_result"
    }
   ],
   "source": [
    "connect_db(reference,'reference')"
   ]
  },
  {
   "cell_type": "code",
   "execution_count": 54,
   "id": "bf448a2a-1b8e-4652-8434-32d127c91687",
   "metadata": {},
   "outputs": [
    {
     "data": {
      "text/plain": [
       "77909"
      ]
     },
     "execution_count": 54,
     "metadata": {},
     "output_type": "execute_result"
    }
   ],
   "source": [
    "connect_db(alias_id,'alias_id')"
   ]
  },
  {
   "cell_type": "code",
   "execution_count": 55,
   "id": "8c8724fb-a56f-4fce-b428-7984809b8d54",
   "metadata": {},
   "outputs": [
    {
     "data": {
      "text/plain": [
       "77909"
      ]
     },
     "execution_count": 55,
     "metadata": {},
     "output_type": "execute_result"
    }
   ],
   "source": [
    "connect_db(with_alias,'with_alias')"
   ]
  },
  {
   "cell_type": "markdown",
   "id": "342a4342-8bcf-48ae-934f-a4de0309bc28",
   "metadata": {
    "jp-MarkdownHeadingCollapsed": true,
    "tags": []
   },
   "source": [
    "# author_df"
   ]
  },
  {
   "cell_type": "markdown",
   "id": "b26503a9-b45f-4c6f-9737-8947f52a64fb",
   "metadata": {
    "tags": []
   },
   "source": [
    "## Inizializzazione del DataFrame vuoto+inserimento degli elementi del Json nel DataFrame"
   ]
  },
  {
   "cell_type": "code",
   "execution_count": null,
   "id": "daeb35d1-9151-42dc-897c-a0662d7efbc5",
   "metadata": {},
   "outputs": [],
   "source": [
    "author_df=initialize()\n",
    "#legge il json ed inserisce gli elementi del json nel DataFrame, mantiene solo le colonne di interesse\n",
    "author_df=read_json_flatten(author_df,path,data,'authors','id','paper_','author_')"
   ]
  },
  {
   "cell_type": "markdown",
   "id": "c46d5eef-1886-4db7-bf4c-96aeb0e30415",
   "metadata": {
    "tags": []
   },
   "source": [
    "## Analisi+elaborazione di author_df"
   ]
  },
  {
   "cell_type": "code",
   "execution_count": 4,
   "id": "b80bfd9b-f034-4aac-922a-c972f257fe8a",
   "metadata": {},
   "outputs": [
    {
     "data": {
      "text/html": [
       "<div>\n",
       "<style scoped>\n",
       "    .dataframe tbody tr th:only-of-type {\n",
       "        vertical-align: middle;\n",
       "    }\n",
       "\n",
       "    .dataframe tbody tr th {\n",
       "        vertical-align: top;\n",
       "    }\n",
       "\n",
       "    .dataframe thead th {\n",
       "        text-align: right;\n",
       "    }\n",
       "</style>\n",
       "<table border=\"1\" class=\"dataframe\">\n",
       "  <thead>\n",
       "    <tr style=\"text-align: right;\">\n",
       "      <th></th>\n",
       "      <th>author_name</th>\n",
       "      <th>author_id</th>\n",
       "      <th>author_org</th>\n",
       "      <th>paper_id</th>\n",
       "    </tr>\n",
       "  </thead>\n",
       "  <tbody>\n",
       "    <tr>\n",
       "      <th>0</th>\n",
       "      <td>Uditha Ratnayake</td>\n",
       "      <td>2439017310</td>\n",
       "      <td>NaN</td>\n",
       "      <td>339090091</td>\n",
       "    </tr>\n",
       "    <tr>\n",
       "      <th>1</th>\n",
       "      <td>Tamás D. Gedeon</td>\n",
       "      <td>2052936527</td>\n",
       "      <td>NaN</td>\n",
       "      <td>339090091</td>\n",
       "    </tr>\n",
       "    <tr>\n",
       "      <th>2</th>\n",
       "      <td>Nalin Wickramarachchi</td>\n",
       "      <td>2693152212</td>\n",
       "      <td>NaN</td>\n",
       "      <td>339090091</td>\n",
       "    </tr>\n",
       "    <tr>\n",
       "      <th>3</th>\n",
       "      <td>Xiaofeng Wu</td>\n",
       "      <td>2644192757</td>\n",
       "      <td>East China Normal University</td>\n",
       "      <td>339107753</td>\n",
       "    </tr>\n",
       "    <tr>\n",
       "      <th>4</th>\n",
       "      <td>Huibiao Zhu</td>\n",
       "      <td>2147595872</td>\n",
       "      <td>East China Normal University</td>\n",
       "      <td>339107753</td>\n",
       "    </tr>\n",
       "    <tr>\n",
       "      <th>...</th>\n",
       "      <td>...</td>\n",
       "      <td>...</td>\n",
       "      <td>...</td>\n",
       "      <td>...</td>\n",
       "    </tr>\n",
       "    <tr>\n",
       "      <th>14934845</th>\n",
       "      <td>Stanley Cabay</td>\n",
       "      <td>2973361986</td>\n",
       "      <td>Department of Computing Science; University of...</td>\n",
       "      <td>99981893</td>\n",
       "    </tr>\n",
       "    <tr>\n",
       "      <th>14934846</th>\n",
       "      <td>David Held</td>\n",
       "      <td>2164233265</td>\n",
       "      <td>NaN</td>\n",
       "      <td>998260344</td>\n",
       "    </tr>\n",
       "    <tr>\n",
       "      <th>14934847</th>\n",
       "      <td>Sebastian Thrun</td>\n",
       "      <td>2075956027</td>\n",
       "      <td>NaN</td>\n",
       "      <td>998260344</td>\n",
       "    </tr>\n",
       "    <tr>\n",
       "      <th>14934848</th>\n",
       "      <td>Silvio Savarese</td>\n",
       "      <td>2968407423</td>\n",
       "      <td>NaN</td>\n",
       "      <td>998260344</td>\n",
       "    </tr>\n",
       "    <tr>\n",
       "      <th>14934849</th>\n",
       "      <td>Egon Börger</td>\n",
       "      <td>2026252948</td>\n",
       "      <td>Institut für math. Logik und Grundlagenforschu...</td>\n",
       "      <td>99956490</td>\n",
       "    </tr>\n",
       "  </tbody>\n",
       "</table>\n",
       "<p>14934850 rows × 4 columns</p>\n",
       "</div>"
      ],
      "text/plain": [
       "                    author_name   author_id  \\\n",
       "0              Uditha Ratnayake  2439017310   \n",
       "1               Tamás D. Gedeon  2052936527   \n",
       "2         Nalin Wickramarachchi  2693152212   \n",
       "3                   Xiaofeng Wu  2644192757   \n",
       "4                   Huibiao Zhu  2147595872   \n",
       "...                         ...         ...   \n",
       "14934845          Stanley Cabay  2973361986   \n",
       "14934846             David Held  2164233265   \n",
       "14934847        Sebastian Thrun  2075956027   \n",
       "14934848        Silvio Savarese  2968407423   \n",
       "14934849            Egon Börger  2026252948   \n",
       "\n",
       "                                                 author_org   paper_id  \n",
       "0                                                       NaN  339090091  \n",
       "1                                                       NaN  339090091  \n",
       "2                                                       NaN  339090091  \n",
       "3                              East China Normal University  339107753  \n",
       "4                              East China Normal University  339107753  \n",
       "...                                                     ...        ...  \n",
       "14934845  Department of Computing Science; University of...   99981893  \n",
       "14934846                                                NaN  998260344  \n",
       "14934847                                                NaN  998260344  \n",
       "14934848                                                NaN  998260344  \n",
       "14934849  Institut für math. Logik und Grundlagenforschu...   99956490  \n",
       "\n",
       "[14934850 rows x 4 columns]"
      ]
     },
     "execution_count": 4,
     "metadata": {},
     "output_type": "execute_result"
    }
   ],
   "source": [
    "author_df"
   ]
  },
  {
   "cell_type": "code",
   "execution_count": 5,
   "id": "855f9996-c67e-4211-b8df-b6b729978202",
   "metadata": {},
   "outputs": [
    {
     "name": "stdout",
     "output_type": "stream",
     "text": [
      "<class 'pandas.core.frame.DataFrame'>\n",
      "RangeIndex: 14934850 entries, 0 to 14934849\n",
      "Data columns (total 4 columns):\n",
      " #   Column       Non-Null Count     Dtype \n",
      "---  ------       --------------     ----- \n",
      " 0   author_name  14934850 non-null  object\n",
      " 1   author_id    14934850 non-null  int64 \n",
      " 2   author_org   11361508 non-null  object\n",
      " 3   paper_id     14934850 non-null  object\n",
      "dtypes: int64(1), object(3)\n",
      "memory usage: 455.8+ MB\n"
     ]
    }
   ],
   "source": [
    "info(author_df)"
   ]
  },
  {
   "cell_type": "code",
   "execution_count": 6,
   "id": "71716ea0-e84d-4dae-bcb4-c4243492c844",
   "metadata": {},
   "outputs": [
    {
     "name": "stdout",
     "output_type": "stream",
     "text": [
      "<class 'pandas.core.frame.DataFrame'>\n",
      "RangeIndex: 14934850 entries, 0 to 14934849\n",
      "Data columns (total 4 columns):\n",
      " #   Column       Non-Null Count     Dtype \n",
      "---  ------       --------------     ----- \n",
      " 0   author_name  14934850 non-null  object\n",
      " 1   author_id    14934850 non-null  int64 \n",
      " 2   author_org   11361508 non-null  object\n",
      " 3   paper_id     14934850 non-null  int64 \n",
      "dtypes: int64(2), object(2)\n",
      "memory usage: 455.8+ MB\n"
     ]
    }
   ],
   "source": [
    "cast_to(author_df,'paper_id','int64')\n",
    "#sostituisce le stringhe ('') vuote con np.nan, se ce ne sono\n",
    "fill_with_nan(author_df,'')"
   ]
  },
  {
   "cell_type": "code",
   "execution_count": 7,
   "id": "47254413-99f4-4237-802d-2dd68ece1abb",
   "metadata": {},
   "outputs": [
    {
     "name": "stdout",
     "output_type": "stream",
     "text": [
      "Series([], Name: author_name, dtype: object)\n",
      "            \n",
      "Series([], Name: author_org, dtype: object)\n",
      "            \n"
     ]
    }
   ],
   "source": [
    "#controlla se ci sono colonne nel DataFrame che contengono i caratteri speciali (riferimento a carattere numerico html), formato '&#x[HEX];'\n",
    "column_with_special_char(author_df,'&#x')"
   ]
  },
  {
   "cell_type": "code",
   "execution_count": 88,
   "id": "56e1af8d-a180-4455-aba3-2aca38561ec9",
   "metadata": {},
   "outputs": [
    {
     "data": {
      "text/html": [
       "<div>\n",
       "<style scoped>\n",
       "    .dataframe tbody tr th:only-of-type {\n",
       "        vertical-align: middle;\n",
       "    }\n",
       "\n",
       "    .dataframe tbody tr th {\n",
       "        vertical-align: top;\n",
       "    }\n",
       "\n",
       "    .dataframe thead th {\n",
       "        text-align: right;\n",
       "    }\n",
       "</style>\n",
       "<table border=\"1\" class=\"dataframe\">\n",
       "  <thead>\n",
       "    <tr style=\"text-align: right;\">\n",
       "      <th></th>\n",
       "      <th>author_name</th>\n",
       "      <th>author_id</th>\n",
       "      <th>author_org</th>\n",
       "      <th>paper_id</th>\n",
       "    </tr>\n",
       "  </thead>\n",
       "  <tbody>\n",
       "  </tbody>\n",
       "</table>\n",
       "</div>"
      ],
      "text/plain": [
       "Empty DataFrame\n",
       "Columns: [author_name, author_id, author_org, paper_id]\n",
       "Index: []"
      ]
     },
     "execution_count": 88,
     "metadata": {},
     "output_type": "execute_result"
    }
   ],
   "source": [
    "check_duplicates(author_df,['paper_id','author_id','author_name','author_org'])"
   ]
  },
  {
   "cell_type": "markdown",
   "id": "739b194e-f563-4a47-844b-c999f225f912",
   "metadata": {
    "tags": []
   },
   "source": [
    "## DataFrame per who+analisi"
   ]
  },
  {
   "cell_type": "code",
   "execution_count": 11,
   "id": "9bf219ce-2da1-4703-9b6f-0f67ba8b8235",
   "metadata": {},
   "outputs": [],
   "source": [
    "who=author_df[['paper_id','author_id','author_org']]"
   ]
  },
  {
   "cell_type": "code",
   "execution_count": 12,
   "id": "a1a2fe67-eccb-4a38-be85-3522f51c5936",
   "metadata": {},
   "outputs": [
    {
     "data": {
      "text/html": [
       "<div>\n",
       "<style scoped>\n",
       "    .dataframe tbody tr th:only-of-type {\n",
       "        vertical-align: middle;\n",
       "    }\n",
       "\n",
       "    .dataframe tbody tr th {\n",
       "        vertical-align: top;\n",
       "    }\n",
       "\n",
       "    .dataframe thead th {\n",
       "        text-align: right;\n",
       "    }\n",
       "</style>\n",
       "<table border=\"1\" class=\"dataframe\">\n",
       "  <thead>\n",
       "    <tr style=\"text-align: right;\">\n",
       "      <th></th>\n",
       "      <th>paper_id</th>\n",
       "      <th>author_id</th>\n",
       "      <th>author_org</th>\n",
       "    </tr>\n",
       "  </thead>\n",
       "  <tbody>\n",
       "  </tbody>\n",
       "</table>\n",
       "</div>"
      ],
      "text/plain": [
       "Empty DataFrame\n",
       "Columns: [paper_id, author_id, author_org]\n",
       "Index: []"
      ]
     },
     "execution_count": 12,
     "metadata": {},
     "output_type": "execute_result"
    }
   ],
   "source": [
    "check_duplicates(who,['paper_id','author_id','author_org'])"
   ]
  },
  {
   "cell_type": "code",
   "execution_count": 94,
   "id": "50010520-35ae-4fd7-a4ab-dc245157977e",
   "metadata": {},
   "outputs": [
    {
     "name": "stdout",
     "output_type": "stream",
     "text": [
      "<class 'pandas.core.frame.DataFrame'>\n",
      "RangeIndex: 14934850 entries, 0 to 14934849\n",
      "Data columns (total 3 columns):\n",
      " #   Column      Non-Null Count     Dtype \n",
      "---  ------      --------------     ----- \n",
      " 0   paper_id    14934850 non-null  int64 \n",
      " 1   author_id   14934850 non-null  int64 \n",
      " 2   author_org  11361508 non-null  object\n",
      "dtypes: int64(2), object(1)\n",
      "memory usage: 341.8+ MB\n"
     ]
    }
   ],
   "source": [
    "info(who)"
   ]
  },
  {
   "cell_type": "markdown",
   "id": "501a662c-5637-4457-9171-6b49ea88ac96",
   "metadata": {
    "tags": []
   },
   "source": [
    "## DataFrame per author+analisi"
   ]
  },
  {
   "cell_type": "code",
   "execution_count": 14,
   "id": "00daffee-54e0-497e-ac14-69f978b3b466",
   "metadata": {},
   "outputs": [],
   "source": [
    "author= author_df[['author_id', 'author_name']]"
   ]
  },
  {
   "cell_type": "code",
   "execution_count": 15,
   "id": "d1604abe-a1b0-4d0b-8daa-5e6bc42098e7",
   "metadata": {},
   "outputs": [
    {
     "data": {
      "text/html": [
       "<div>\n",
       "<style scoped>\n",
       "    .dataframe tbody tr th:only-of-type {\n",
       "        vertical-align: middle;\n",
       "    }\n",
       "\n",
       "    .dataframe tbody tr th {\n",
       "        vertical-align: top;\n",
       "    }\n",
       "\n",
       "    .dataframe thead th {\n",
       "        text-align: right;\n",
       "    }\n",
       "</style>\n",
       "<table border=\"1\" class=\"dataframe\">\n",
       "  <thead>\n",
       "    <tr style=\"text-align: right;\">\n",
       "      <th></th>\n",
       "      <th>author_id</th>\n",
       "      <th>author_name</th>\n",
       "    </tr>\n",
       "  </thead>\n",
       "  <tbody>\n",
       "    <tr>\n",
       "      <th>6809052</th>\n",
       "      <td>2255</td>\n",
       "      <td>Bin Liuy</td>\n",
       "    </tr>\n",
       "    <tr>\n",
       "      <th>7593495</th>\n",
       "      <td>2255</td>\n",
       "      <td>Bin Liuy</td>\n",
       "    </tr>\n",
       "    <tr>\n",
       "      <th>13303415</th>\n",
       "      <td>2255</td>\n",
       "      <td>Bin Liuy</td>\n",
       "    </tr>\n",
       "    <tr>\n",
       "      <th>2513646</th>\n",
       "      <td>2797</td>\n",
       "      <td>Elena Frantova</td>\n",
       "    </tr>\n",
       "    <tr>\n",
       "      <th>7118825</th>\n",
       "      <td>2797</td>\n",
       "      <td>Elena Frantova</td>\n",
       "    </tr>\n",
       "    <tr>\n",
       "      <th>...</th>\n",
       "      <td>...</td>\n",
       "      <td>...</td>\n",
       "    </tr>\n",
       "    <tr>\n",
       "      <th>11780470</th>\n",
       "      <td>3009028789</td>\n",
       "      <td>Pascal Paschos</td>\n",
       "    </tr>\n",
       "    <tr>\n",
       "      <th>5812695</th>\n",
       "      <td>3009032348</td>\n",
       "      <td>Chengzhe Shi</td>\n",
       "    </tr>\n",
       "    <tr>\n",
       "      <th>8794975</th>\n",
       "      <td>3009032348</td>\n",
       "      <td>Chengzhe Shi</td>\n",
       "    </tr>\n",
       "    <tr>\n",
       "      <th>2824354</th>\n",
       "      <td>3009037162</td>\n",
       "      <td>Claremont</td>\n",
       "    </tr>\n",
       "    <tr>\n",
       "      <th>8791209</th>\n",
       "      <td>3009037162</td>\n",
       "      <td>Claremont</td>\n",
       "    </tr>\n",
       "  </tbody>\n",
       "</table>\n",
       "<p>11464884 rows × 2 columns</p>\n",
       "</div>"
      ],
      "text/plain": [
       "           author_id     author_name\n",
       "6809052         2255        Bin Liuy\n",
       "7593495         2255        Bin Liuy\n",
       "13303415        2255        Bin Liuy\n",
       "2513646         2797  Elena Frantova\n",
       "7118825         2797  Elena Frantova\n",
       "...              ...             ...\n",
       "11780470  3009028789  Pascal Paschos\n",
       "5812695   3009032348    Chengzhe Shi\n",
       "8794975   3009032348    Chengzhe Shi\n",
       "2824354   3009037162       Claremont\n",
       "8791209   3009037162       Claremont\n",
       "\n",
       "[11464884 rows x 2 columns]"
      ]
     },
     "execution_count": 15,
     "metadata": {},
     "output_type": "execute_result"
    }
   ],
   "source": [
    "check_duplicates(author,['author_id', 'author_name'])"
   ]
  },
  {
   "cell_type": "code",
   "execution_count": 16,
   "id": "306011be-407e-42b7-bd62-b6d083ad7171",
   "metadata": {},
   "outputs": [
    {
     "name": "stderr",
     "output_type": "stream",
     "text": [
      "/Users/autoteamchannel/Desktop/tesi/scripts/manipulate_df.py:12: SettingWithCopyWarning: \n",
      "A value is trying to be set on a copy of a slice from a DataFrame\n",
      "\n",
      "See the caveats in the documentation: https://pandas.pydata.org/pandas-docs/stable/user_guide/indexing.html#returning-a-view-versus-a-copy\n",
      "  df.dropna(axis='index', #effettua l'eliminazione lungo l'asse degli indici\n",
      "/Users/autoteamchannel/Desktop/tesi/scripts/manipulate_df.py:15: SettingWithCopyWarning: \n",
      "A value is trying to be set on a copy of a slice from a DataFrame\n",
      "\n",
      "See the caveats in the documentation: https://pandas.pydata.org/pandas-docs/stable/user_guide/indexing.html#returning-a-view-versus-a-copy\n",
      "  df.drop_duplicates(inplace=True, #effettua l'operazione sul dataframe anzichè restituire una copia\n"
     ]
    },
    {
     "name": "stdout",
     "output_type": "stream",
     "text": [
      "<class 'pandas.core.frame.DataFrame'>\n",
      "RangeIndex: 5070852 entries, 0 to 5070851\n",
      "Data columns (total 2 columns):\n",
      " #   Column       Non-Null Count    Dtype \n",
      "---  ------       --------------    ----- \n",
      " 0   author_id    5070852 non-null  int64 \n",
      " 1   author_name  5070852 non-null  object\n",
      "dtypes: int64(1), object(1)\n",
      "memory usage: 77.4+ MB\n"
     ]
    }
   ],
   "source": [
    "#elimina righe completamente nulle e i duplicati\n",
    "del_null_duplicates(author)"
   ]
  },
  {
   "cell_type": "code",
   "execution_count": 17,
   "id": "e02951b7-6822-4579-a8fc-480169a4ceb7",
   "metadata": {},
   "outputs": [
    {
     "data": {
      "text/html": [
       "<div>\n",
       "<style scoped>\n",
       "    .dataframe tbody tr th:only-of-type {\n",
       "        vertical-align: middle;\n",
       "    }\n",
       "\n",
       "    .dataframe tbody tr th {\n",
       "        vertical-align: top;\n",
       "    }\n",
       "\n",
       "    .dataframe thead th {\n",
       "        text-align: right;\n",
       "    }\n",
       "</style>\n",
       "<table border=\"1\" class=\"dataframe\">\n",
       "  <thead>\n",
       "    <tr style=\"text-align: right;\">\n",
       "      <th></th>\n",
       "      <th>author_id</th>\n",
       "      <th>author_name</th>\n",
       "    </tr>\n",
       "  </thead>\n",
       "  <tbody>\n",
       "    <tr>\n",
       "      <th>4136798</th>\n",
       "      <td>32606</td>\n",
       "      <td>Stéphane Debricon</td>\n",
       "    </tr>\n",
       "    <tr>\n",
       "      <th>582289</th>\n",
       "      <td>32606</td>\n",
       "      <td>Stephane Debricon</td>\n",
       "    </tr>\n",
       "    <tr>\n",
       "      <th>420417</th>\n",
       "      <td>44880</td>\n",
       "      <td>Dario Garcia-Gasulla</td>\n",
       "    </tr>\n",
       "    <tr>\n",
       "      <th>1057216</th>\n",
       "      <td>44880</td>\n",
       "      <td>D. Garcia-Gasulla</td>\n",
       "    </tr>\n",
       "    <tr>\n",
       "      <th>288324</th>\n",
       "      <td>92734</td>\n",
       "      <td>Brian E. Whitacre</td>\n",
       "    </tr>\n",
       "    <tr>\n",
       "      <th>...</th>\n",
       "      <td>...</td>\n",
       "      <td>...</td>\n",
       "    </tr>\n",
       "    <tr>\n",
       "      <th>2601655</th>\n",
       "      <td>3008444288</td>\n",
       "      <td>WangTiejian</td>\n",
       "    </tr>\n",
       "    <tr>\n",
       "      <th>1523396</th>\n",
       "      <td>3009024956</td>\n",
       "      <td>Alper Ozbilen</td>\n",
       "    </tr>\n",
       "    <tr>\n",
       "      <th>4299955</th>\n",
       "      <td>3009024956</td>\n",
       "      <td>Alper OzbIlen</td>\n",
       "    </tr>\n",
       "    <tr>\n",
       "      <th>4300751</th>\n",
       "      <td>3009035817</td>\n",
       "      <td>Van der HoevenJoris</td>\n",
       "    </tr>\n",
       "    <tr>\n",
       "      <th>1522529</th>\n",
       "      <td>3009035817</td>\n",
       "      <td>Van Der HoevenJoris</td>\n",
       "    </tr>\n",
       "  </tbody>\n",
       "</table>\n",
       "<p>1129902 rows × 2 columns</p>\n",
       "</div>"
      ],
      "text/plain": [
       "          author_id           author_name\n",
       "4136798       32606     Stéphane Debricon\n",
       "582289        32606     Stephane Debricon\n",
       "420417        44880  Dario Garcia-Gasulla\n",
       "1057216       44880     D. Garcia-Gasulla\n",
       "288324        92734     Brian E. Whitacre\n",
       "...             ...                   ...\n",
       "2601655  3008444288           WangTiejian\n",
       "1523396  3009024956         Alper Ozbilen\n",
       "4299955  3009024956         Alper OzbIlen\n",
       "4300751  3009035817   Van der HoevenJoris\n",
       "1522529  3009035817   Van Der HoevenJoris\n",
       "\n",
       "[1129902 rows x 2 columns]"
      ]
     },
     "execution_count": 17,
     "metadata": {},
     "output_type": "execute_result"
    }
   ],
   "source": [
    "#controlla i duplicati sul sottoinsieme author_id: sono gli stessi author_name scritti in modi differenti (aliases)\n",
    "check_duplicates(author,['author_id'])"
   ]
  },
  {
   "cell_type": "markdown",
   "id": "54225b17-52d8-4824-bd5c-36aa79af6768",
   "metadata": {
    "tags": []
   },
   "source": [
    "## DataFrame author_extended "
   ]
  },
  {
   "cell_type": "code",
   "execution_count": 18,
   "id": "16ce70aa-bc2e-47f6-9afa-9b24b36b9783",
   "metadata": {},
   "outputs": [],
   "source": [
    "#crea il dataframe con gli aliases dei nomi degli autori\n",
    "author_extended=author[['author_id','author_name']]"
   ]
  },
  {
   "cell_type": "markdown",
   "id": "5e97ba6f-c312-4dd4-a724-7f879c3e8566",
   "metadata": {
    "tags": []
   },
   "source": [
    "## Elaborazione di author"
   ]
  },
  {
   "cell_type": "code",
   "execution_count": 19,
   "id": "92d4a7ce-1cad-48f2-b683-142bce871b42",
   "metadata": {},
   "outputs": [
    {
     "name": "stderr",
     "output_type": "stream",
     "text": [
      "/var/folders/br/6gdrmps94h75yv4f9c5z85cc0000gp/T/ipykernel_17499/3122417007.py:2: SettingWithCopyWarning: \n",
      "A value is trying to be set on a copy of a slice from a DataFrame\n",
      "\n",
      "See the caveats in the documentation: https://pandas.pydata.org/pandas-docs/stable/user_guide/indexing.html#returning-a-view-versus-a-copy\n",
      "  author.drop_duplicates(subset=['author_id'],inplace=True, ignore_index=True)\n"
     ]
    }
   ],
   "source": [
    "#elimina i duplicati sul sottoinsieme author_id\n",
    "author.drop_duplicates(subset=['author_id'],inplace=True, ignore_index=True)"
   ]
  },
  {
   "cell_type": "code",
   "execution_count": 20,
   "id": "2726b966-65e7-4a4c-8000-a6ed7c5ee471",
   "metadata": {},
   "outputs": [
    {
     "name": "stdout",
     "output_type": "stream",
     "text": [
      "<class 'pandas.core.frame.DataFrame'>\n",
      "RangeIndex: 4398138 entries, 0 to 4398137\n",
      "Data columns (total 2 columns):\n",
      " #   Column       Non-Null Count    Dtype \n",
      "---  ------       --------------    ----- \n",
      " 0   author_id    4398138 non-null  int64 \n",
      " 1   author_name  4398138 non-null  object\n",
      "dtypes: int64(1), object(1)\n",
      "memory usage: 67.1+ MB\n"
     ]
    }
   ],
   "source": [
    "info(author)"
   ]
  },
  {
   "cell_type": "markdown",
   "id": "9f4035ad-d166-4336-87ca-b93548215877",
   "metadata": {
    "tags": []
   },
   "source": [
    "## Connessione al DB"
   ]
  },
  {
   "cell_type": "code",
   "execution_count": 82,
   "id": "ced0fcb3-dbf6-4a3b-b58b-79f709a24f32",
   "metadata": {},
   "outputs": [
    {
     "data": {
      "text/plain": [
       "4398138"
      ]
     },
     "execution_count": 82,
     "metadata": {},
     "output_type": "execute_result"
    }
   ],
   "source": [
    "#esporta i DataFrame nelle rispettive tabelle create in pgAdmin\n",
    "connect_db(author,'author')"
   ]
  },
  {
   "cell_type": "code",
   "execution_count": 83,
   "id": "21a92745-ec2b-4a9b-b2e5-2471bf049ad5",
   "metadata": {},
   "outputs": [
    {
     "data": {
      "text/plain": [
       "5070852"
      ]
     },
     "execution_count": 83,
     "metadata": {},
     "output_type": "execute_result"
    }
   ],
   "source": [
    "connect_db(author_extended,'author_extended')"
   ]
  },
  {
   "cell_type": "code",
   "execution_count": 84,
   "id": "e7071e51-fa88-48ec-920c-148134f98bc0",
   "metadata": {},
   "outputs": [
    {
     "data": {
      "text/plain": [
       "14934850"
      ]
     },
     "execution_count": 84,
     "metadata": {},
     "output_type": "execute_result"
    }
   ],
   "source": [
    "connect_db(who,'who')"
   ]
  },
  {
   "cell_type": "markdown",
   "id": "e5e3ad8b-b2c8-4234-8b31-41908f82d187",
   "metadata": {
    "tags": []
   },
   "source": [
    "# fos_df"
   ]
  },
  {
   "cell_type": "markdown",
   "id": "8b76ff18-c938-49a2-8beb-cb8b622467ea",
   "metadata": {
    "tags": []
   },
   "source": [
    "## Inizializzazione del DataFrame vuoto+inserimento degli elementi del Json nel DataFrame"
   ]
  },
  {
   "cell_type": "code",
   "execution_count": 4,
   "id": "03c29942-c209-4db1-956a-52b6c25bde1f",
   "metadata": {
    "colab": {
     "base_uri": "https://localhost:8080/",
     "height": 461
    },
    "id": "BVEMTQF6HYFf",
    "outputId": "8aaacc24-840d-4bb3-a6c5-dfff8dc47322"
   },
   "outputs": [
    {
     "ename": "TypeError",
     "evalue": "{'id': 343712712, 'authors': [{'name': 'Nadia Mesli', 'id': 2395865256}], 'title': \"Bases de donnees et lexiques-grammaires: un exemple d'exploitation linguistique de l'outil informatique.\", 'year': 2002, 'n_citation': 0, 'page_start': '5', 'page_end': '22', 'doc_type': '', 'publisher': '', 'volume': '61', 'issue': '', 'doi': '', 'venue': {'raw': 'BIAA'}, 'abstract': '', 'references': '', 'nb_references': 0, 'fos': {'name': '', 'w': ''}, 'author': {'name': '', 'id': '', 'org': ''}} has non list value {'name': '', 'w': ''} for path fos. Must be list or null.",
     "output_type": "error",
     "traceback": [
      "\u001b[0;31m---------------------------------------------------------------------------\u001b[0m",
      "\u001b[0;31mTypeError\u001b[0m                                 Traceback (most recent call last)",
      "Input \u001b[0;32mIn [4]\u001b[0m, in \u001b[0;36m<cell line: 3>\u001b[0;34m()\u001b[0m\n\u001b[1;32m      1\u001b[0m \u001b[38;5;66;03m#senza l'elaborazione precedente mi restituisce un errore relativo alla chiave fos, \u001b[39;00m\n\u001b[1;32m      2\u001b[0m \u001b[38;5;66;03m#in quanto json_normalize funziona sulle liste di oggetti\u001b[39;00m\n\u001b[0;32m----> 3\u001b[0m fos_df\u001b[38;5;241m=\u001b[39m\u001b[43mread_json_flatten\u001b[49m\u001b[43m(\u001b[49m\u001b[43mfos_df\u001b[49m\u001b[43m,\u001b[49m\u001b[43mpath\u001b[49m\u001b[43m,\u001b[49m\u001b[43mdata\u001b[49m\u001b[43m,\u001b[49m\u001b[38;5;124;43m'\u001b[39;49m\u001b[38;5;124;43mfos\u001b[39;49m\u001b[38;5;124;43m'\u001b[39;49m\u001b[43m,\u001b[49m\u001b[38;5;124;43m'\u001b[39;49m\u001b[38;5;124;43mid\u001b[39;49m\u001b[38;5;124;43m'\u001b[39;49m\u001b[43m,\u001b[49m\u001b[38;5;124;43m'\u001b[39;49m\u001b[38;5;124;43mpaper_\u001b[39;49m\u001b[38;5;124;43m'\u001b[39;49m\u001b[43m,\u001b[49m\u001b[38;5;124;43m'\u001b[39;49m\u001b[38;5;124;43mfos_\u001b[39;49m\u001b[38;5;124;43m'\u001b[39;49m\u001b[43m)\u001b[49m\n",
      "File \u001b[0;32m~/Desktop/tesi/scripts/import_dataset.py:49\u001b[0m, in \u001b[0;36mread_json_flatten\u001b[0;34m(df, path, data, recordpath, meta, metaprefix, recordprefix)\u001b[0m\n\u001b[1;32m     47\u001b[0m chunks\u001b[38;5;241m=\u001b[39mpd\u001b[38;5;241m.\u001b[39mread_json(path_or_buf\u001b[38;5;241m=\u001b[39mf,lines\u001b[38;5;241m=\u001b[39m\u001b[38;5;28;01mTrue\u001b[39;00m,chunksize\u001b[38;5;241m=\u001b[39m\u001b[38;5;241m10000\u001b[39m) \n\u001b[1;32m     48\u001b[0m \u001b[38;5;28;01mfor\u001b[39;00m chunk \u001b[38;5;129;01min\u001b[39;00m chunks:\n\u001b[0;32m---> 49\u001b[0m     source_df\u001b[38;5;241m=\u001b[39m\u001b[43mread_json_chunk\u001b[49m\u001b[43m(\u001b[49m\u001b[43mchunk\u001b[49m\u001b[43m,\u001b[49m\u001b[43mdata\u001b[49m\u001b[43m,\u001b[49m\u001b[43mrecordpath\u001b[49m\u001b[43m,\u001b[49m\u001b[43m \u001b[49m\u001b[43mmeta\u001b[49m\u001b[43m,\u001b[49m\u001b[43mmetaprefix\u001b[49m\u001b[43m,\u001b[49m\u001b[43mrecordprefix\u001b[49m\u001b[43m)\u001b[49m\n\u001b[1;32m     50\u001b[0m     df\u001b[38;5;241m=\u001b[39mpd\u001b[38;5;241m.\u001b[39mconcat([df,source_df], ignore_index\u001b[38;5;241m=\u001b[39m\u001b[38;5;28;01mTrue\u001b[39;00m)\n\u001b[1;32m     51\u001b[0m \u001b[38;5;28;01mreturn\u001b[39;00m df\n",
      "File \u001b[0;32m~/Desktop/tesi/scripts/import_dataset.py:24\u001b[0m, in \u001b[0;36mread_json_chunk\u001b[0;34m(chunk, data, recordpath, meta, metaprefix, recordprefix)\u001b[0m\n\u001b[1;32m     22\u001b[0m     df\u001b[38;5;241m=\u001b[39m(pd\u001b[38;5;241m.\u001b[39mjson_normalize(data\u001b[38;5;241m=\u001b[39mchunk[data])) \u001b[38;5;66;03m#oggetti Json da serializzare\u001b[39;00m\n\u001b[1;32m     23\u001b[0m \u001b[38;5;28;01melse\u001b[39;00m:\n\u001b[0;32m---> 24\u001b[0m     df\u001b[38;5;241m=\u001b[39m (\u001b[43mpd\u001b[49m\u001b[38;5;241;43m.\u001b[39;49m\u001b[43mjson_normalize\u001b[49m\u001b[43m(\u001b[49m\u001b[43mdata\u001b[49m\u001b[38;5;241;43m=\u001b[39;49m\u001b[43mchunk\u001b[49m\u001b[43m[\u001b[49m\u001b[43mdata\u001b[49m\u001b[43m]\u001b[49m\u001b[43m,\u001b[49m\u001b[43m \u001b[49m\u001b[43mrecord_path\u001b[49m\u001b[38;5;241;43m=\u001b[39;49m\u001b[43m[\u001b[49m\u001b[43mrecordpath\u001b[49m\u001b[43m]\u001b[49m\u001b[43m,\u001b[49m\u001b[43m \u001b[49m\u001b[43mmeta\u001b[49m\u001b[38;5;241;43m=\u001b[39;49m\u001b[43m[\u001b[49m\u001b[43mmeta\u001b[49m\u001b[43m]\u001b[49m\u001b[43m,\u001b[49m\u001b[43m \u001b[49m\u001b[43mmeta_prefix\u001b[49m\u001b[38;5;241;43m=\u001b[39;49m\u001b[43mmetaprefix\u001b[49m\u001b[43m,\u001b[49m\u001b[43m \u001b[49m\u001b[43mrecord_prefix\u001b[49m\u001b[38;5;241;43m=\u001b[39;49m\u001b[43mrecordprefix\u001b[49m\u001b[43m)\u001b[49m) \n\u001b[1;32m     25\u001b[0m \u001b[38;5;28;01mreturn\u001b[39;00m df\n",
      "File \u001b[0;32m~/opt/anaconda3/lib/python3.9/site-packages/pandas/io/json/_normalize.py:515\u001b[0m, in \u001b[0;36m_json_normalize\u001b[0;34m(data, record_path, meta, meta_prefix, record_prefix, errors, sep, max_level)\u001b[0m\n\u001b[1;32m    512\u001b[0m                 meta_vals[key]\u001b[38;5;241m.\u001b[39mappend(meta_val)\n\u001b[1;32m    513\u001b[0m             records\u001b[38;5;241m.\u001b[39mextend(recs)\n\u001b[0;32m--> 515\u001b[0m \u001b[43m_recursive_extract\u001b[49m\u001b[43m(\u001b[49m\u001b[43mdata\u001b[49m\u001b[43m,\u001b[49m\u001b[43m \u001b[49m\u001b[43mrecord_path\u001b[49m\u001b[43m,\u001b[49m\u001b[43m \u001b[49m\u001b[43m{\u001b[49m\u001b[43m}\u001b[49m\u001b[43m,\u001b[49m\u001b[43m \u001b[49m\u001b[43mlevel\u001b[49m\u001b[38;5;241;43m=\u001b[39;49m\u001b[38;5;241;43m0\u001b[39;49m\u001b[43m)\u001b[49m\n\u001b[1;32m    517\u001b[0m result \u001b[38;5;241m=\u001b[39m DataFrame(records)\n\u001b[1;32m    519\u001b[0m \u001b[38;5;28;01mif\u001b[39;00m record_prefix \u001b[38;5;129;01mis\u001b[39;00m \u001b[38;5;129;01mnot\u001b[39;00m \u001b[38;5;28;01mNone\u001b[39;00m:\n\u001b[1;32m    520\u001b[0m     \u001b[38;5;66;03m# Incompatible types in assignment (expression has type \"Optional[DataFrame]\",\u001b[39;00m\n\u001b[1;32m    521\u001b[0m     \u001b[38;5;66;03m# variable has type \"DataFrame\")\u001b[39;00m\n",
      "File \u001b[0;32m~/opt/anaconda3/lib/python3.9/site-packages/pandas/io/json/_normalize.py:497\u001b[0m, in \u001b[0;36m_json_normalize.<locals>._recursive_extract\u001b[0;34m(data, path, seen_meta, level)\u001b[0m\n\u001b[1;32m    495\u001b[0m \u001b[38;5;28;01melse\u001b[39;00m:\n\u001b[1;32m    496\u001b[0m     \u001b[38;5;28;01mfor\u001b[39;00m obj \u001b[38;5;129;01min\u001b[39;00m data:\n\u001b[0;32m--> 497\u001b[0m         recs \u001b[38;5;241m=\u001b[39m \u001b[43m_pull_records\u001b[49m\u001b[43m(\u001b[49m\u001b[43mobj\u001b[49m\u001b[43m,\u001b[49m\u001b[43m \u001b[49m\u001b[43mpath\u001b[49m\u001b[43m[\u001b[49m\u001b[38;5;241;43m0\u001b[39;49m\u001b[43m]\u001b[49m\u001b[43m)\u001b[49m\n\u001b[1;32m    498\u001b[0m         recs \u001b[38;5;241m=\u001b[39m [\n\u001b[1;32m    499\u001b[0m             nested_to_record(r, sep\u001b[38;5;241m=\u001b[39msep, max_level\u001b[38;5;241m=\u001b[39mmax_level)\n\u001b[1;32m    500\u001b[0m             \u001b[38;5;28;01mif\u001b[39;00m \u001b[38;5;28misinstance\u001b[39m(r, \u001b[38;5;28mdict\u001b[39m)\n\u001b[1;32m    501\u001b[0m             \u001b[38;5;28;01melse\u001b[39;00m r\n\u001b[1;32m    502\u001b[0m             \u001b[38;5;28;01mfor\u001b[39;00m r \u001b[38;5;129;01min\u001b[39;00m recs\n\u001b[1;32m    503\u001b[0m         ]\n\u001b[1;32m    505\u001b[0m         \u001b[38;5;66;03m# For repeating the metadata later\u001b[39;00m\n",
      "File \u001b[0;32m~/opt/anaconda3/lib/python3.9/site-packages/pandas/io/json/_normalize.py:427\u001b[0m, in \u001b[0;36m_json_normalize.<locals>._pull_records\u001b[0;34m(js, spec)\u001b[0m\n\u001b[1;32m    425\u001b[0m         result \u001b[38;5;241m=\u001b[39m []\n\u001b[1;32m    426\u001b[0m     \u001b[38;5;28;01melse\u001b[39;00m:\n\u001b[0;32m--> 427\u001b[0m         \u001b[38;5;28;01mraise\u001b[39;00m \u001b[38;5;167;01mTypeError\u001b[39;00m(\n\u001b[1;32m    428\u001b[0m             \u001b[38;5;124mf\u001b[39m\u001b[38;5;124m\"\u001b[39m\u001b[38;5;132;01m{\u001b[39;00mjs\u001b[38;5;132;01m}\u001b[39;00m\u001b[38;5;124m has non list value \u001b[39m\u001b[38;5;132;01m{\u001b[39;00mresult\u001b[38;5;132;01m}\u001b[39;00m\u001b[38;5;124m for path \u001b[39m\u001b[38;5;132;01m{\u001b[39;00mspec\u001b[38;5;132;01m}\u001b[39;00m\u001b[38;5;124m. \u001b[39m\u001b[38;5;124m\"\u001b[39m\n\u001b[1;32m    429\u001b[0m             \u001b[38;5;124m\"\u001b[39m\u001b[38;5;124mMust be list or null.\u001b[39m\u001b[38;5;124m\"\u001b[39m\n\u001b[1;32m    430\u001b[0m         )\n\u001b[1;32m    431\u001b[0m \u001b[38;5;28;01mreturn\u001b[39;00m result\n",
      "\u001b[0;31mTypeError\u001b[0m: {'id': 343712712, 'authors': [{'name': 'Nadia Mesli', 'id': 2395865256}], 'title': \"Bases de donnees et lexiques-grammaires: un exemple d'exploitation linguistique de l'outil informatique.\", 'year': 2002, 'n_citation': 0, 'page_start': '5', 'page_end': '22', 'doc_type': '', 'publisher': '', 'volume': '61', 'issue': '', 'doi': '', 'venue': {'raw': 'BIAA'}, 'abstract': '', 'references': '', 'nb_references': 0, 'fos': {'name': '', 'w': ''}, 'author': {'name': '', 'id': '', 'org': ''}} has non list value {'name': '', 'w': ''} for path fos. Must be list or null."
     ]
    }
   ],
   "source": [
    "#chiamare sulla chiave fos lo stesso metodo utilizzato per authors mi restituisce un errore relativo alla chiave fos, \n",
    "#in quanto json_normalize funziona sulle liste di oggetti\n",
    "fos_df=initialize()\n",
    "fos_df=read_json_flatten(fos_df,path,data,'fos','id','paper_','fos_')"
   ]
  },
  {
   "cell_type": "code",
   "execution_count": 4,
   "id": "e063d72f-28e0-4769-87ff-da45adccdd54",
   "metadata": {},
   "outputs": [],
   "source": [
    "fos_df=initialize()\n",
    "\n",
    "#legge il json ed inserisce gli elementi del json nel DataFrame, mantiene solo le colonne di interesse\n",
    "fos_df=read_json_flatten_from_dict(fos_df,path,data,'fos','id','paper_','fos_')"
   ]
  },
  {
   "cell_type": "markdown",
   "id": "0124e3e7-1966-4c0a-80f1-c9ae50cacbe6",
   "metadata": {
    "tags": []
   },
   "source": [
    "## Analisi+elaborazione di fos_df"
   ]
  },
  {
   "cell_type": "code",
   "execution_count": 5,
   "id": "6abf59e8-02b1-431d-869d-9c3a048e773d",
   "metadata": {},
   "outputs": [
    {
     "data": {
      "text/html": [
       "<div>\n",
       "<style scoped>\n",
       "    .dataframe tbody tr th:only-of-type {\n",
       "        vertical-align: middle;\n",
       "    }\n",
       "\n",
       "    .dataframe tbody tr th {\n",
       "        vertical-align: top;\n",
       "    }\n",
       "\n",
       "    .dataframe thead th {\n",
       "        text-align: right;\n",
       "    }\n",
       "</style>\n",
       "<table border=\"1\" class=\"dataframe\">\n",
       "  <thead>\n",
       "    <tr style=\"text-align: right;\">\n",
       "      <th></th>\n",
       "      <th>fos_name</th>\n",
       "      <th>fos_w</th>\n",
       "      <th>paper_id</th>\n",
       "    </tr>\n",
       "  </thead>\n",
       "  <tbody>\n",
       "    <tr>\n",
       "      <th>0</th>\n",
       "      <td>Document classification</td>\n",
       "      <td>0.69468</td>\n",
       "      <td>339090091</td>\n",
       "    </tr>\n",
       "    <tr>\n",
       "      <th>1</th>\n",
       "      <td>Data mining</td>\n",
       "      <td>0.45555</td>\n",
       "      <td>339090091</td>\n",
       "    </tr>\n",
       "    <tr>\n",
       "      <th>2</th>\n",
       "      <td>Architecture</td>\n",
       "      <td>0.44832</td>\n",
       "      <td>339090091</td>\n",
       "    </tr>\n",
       "    <tr>\n",
       "      <th>3</th>\n",
       "      <td>Information retrieval</td>\n",
       "      <td>0.46439</td>\n",
       "      <td>339090091</td>\n",
       "    </tr>\n",
       "    <tr>\n",
       "      <th>4</th>\n",
       "      <td>Computer science</td>\n",
       "      <td>0.43309</td>\n",
       "      <td>339090091</td>\n",
       "    </tr>\n",
       "    <tr>\n",
       "      <th>...</th>\n",
       "      <td>...</td>\n",
       "      <td>...</td>\n",
       "      <td>...</td>\n",
       "    </tr>\n",
       "    <tr>\n",
       "      <th>26605</th>\n",
       "      <td>Machine learning</td>\n",
       "      <td>0.48268</td>\n",
       "      <td>998260344</td>\n",
       "    </tr>\n",
       "    <tr>\n",
       "      <th>26606</th>\n",
       "      <td>Discrete mathematics</td>\n",
       "      <td>0.38435</td>\n",
       "      <td>99956490</td>\n",
       "    </tr>\n",
       "    <tr>\n",
       "      <th>26607</th>\n",
       "      <td>Combinatorics</td>\n",
       "      <td>0.38139</td>\n",
       "      <td>99956490</td>\n",
       "    </tr>\n",
       "    <tr>\n",
       "      <th>26608</th>\n",
       "      <td>Entscheidungsproblem</td>\n",
       "      <td>0.62878</td>\n",
       "      <td>99956490</td>\n",
       "    </tr>\n",
       "    <tr>\n",
       "      <th>26609</th>\n",
       "      <td>Mathematics</td>\n",
       "      <td>0.40204</td>\n",
       "      <td>99956490</td>\n",
       "    </tr>\n",
       "  </tbody>\n",
       "</table>\n",
       "<p>45029752 rows × 3 columns</p>\n",
       "</div>"
      ],
      "text/plain": [
       "                      fos_name    fos_w   paper_id\n",
       "0      Document classification  0.69468  339090091\n",
       "1                  Data mining  0.45555  339090091\n",
       "2                 Architecture  0.44832  339090091\n",
       "3        Information retrieval  0.46439  339090091\n",
       "4             Computer science  0.43309  339090091\n",
       "...                        ...      ...        ...\n",
       "26605         Machine learning  0.48268  998260344\n",
       "26606     Discrete mathematics  0.38435   99956490\n",
       "26607            Combinatorics  0.38139   99956490\n",
       "26608     Entscheidungsproblem  0.62878   99956490\n",
       "26609              Mathematics  0.40204   99956490\n",
       "\n",
       "[45029752 rows x 3 columns]"
      ]
     },
     "execution_count": 5,
     "metadata": {},
     "output_type": "execute_result"
    }
   ],
   "source": [
    "fos_df"
   ]
  },
  {
   "cell_type": "code",
   "execution_count": 6,
   "id": "880a00ca-c129-4964-92fb-bb66ba53e23c",
   "metadata": {},
   "outputs": [
    {
     "name": "stdout",
     "output_type": "stream",
     "text": [
      "<class 'pandas.core.frame.DataFrame'>\n",
      "Int64Index: 45029752 entries, 0 to 26609\n",
      "Data columns (total 3 columns):\n",
      " #   Column    Non-Null Count     Dtype  \n",
      "---  ------    --------------     -----  \n",
      " 0   fos_name  45029752 non-null  object \n",
      " 1   fos_w     45029752 non-null  float64\n",
      " 2   paper_id  45029752 non-null  object \n",
      "dtypes: float64(1), object(2)\n",
      "memory usage: 1.3+ GB\n"
     ]
    }
   ],
   "source": [
    "info(fos_df)"
   ]
  },
  {
   "cell_type": "code",
   "execution_count": 7,
   "id": "e88759da-e994-4bb3-b9e1-3f554dbf4db4",
   "metadata": {},
   "outputs": [
    {
     "name": "stdout",
     "output_type": "stream",
     "text": [
      "<class 'pandas.core.frame.DataFrame'>\n",
      "Int64Index: 45029752 entries, 0 to 26609\n",
      "Data columns (total 3 columns):\n",
      " #   Column    Non-Null Count     Dtype  \n",
      "---  ------    --------------     -----  \n",
      " 0   fos_name  45029752 non-null  object \n",
      " 1   fos_w     45029752 non-null  float64\n",
      " 2   paper_id  45029752 non-null  int64  \n",
      "dtypes: float64(1), int64(1), object(1)\n",
      "memory usage: 1.3+ GB\n"
     ]
    }
   ],
   "source": [
    "cast_to(fos_df,'paper_id','int64')\n",
    "\n",
    "#sostituisce le stringhe ('') vuote con np.nan, se ce ne sono\n",
    "fill_with_nan(fos_df,'')"
   ]
  },
  {
   "cell_type": "code",
   "execution_count": 8,
   "id": "243af8d3-4953-4d14-a374-35c00b820837",
   "metadata": {},
   "outputs": [
    {
     "name": "stdout",
     "output_type": "stream",
     "text": [
      "Series([], Name: fos_name, dtype: object)\n",
      "            \n"
     ]
    }
   ],
   "source": [
    "#non serve chiamare unescape_special_char\n",
    "column_with_special_char(fos_df,'&#x')"
   ]
  },
  {
   "cell_type": "code",
   "execution_count": 9,
   "id": "7a26a307-f765-40f3-ad9b-4edbb4ade504",
   "metadata": {},
   "outputs": [
    {
     "data": {
      "text/html": [
       "<div>\n",
       "<style scoped>\n",
       "    .dataframe tbody tr th:only-of-type {\n",
       "        vertical-align: middle;\n",
       "    }\n",
       "\n",
       "    .dataframe tbody tr th {\n",
       "        vertical-align: top;\n",
       "    }\n",
       "\n",
       "    .dataframe thead th {\n",
       "        text-align: right;\n",
       "    }\n",
       "</style>\n",
       "<table border=\"1\" class=\"dataframe\">\n",
       "  <thead>\n",
       "    <tr style=\"text-align: right;\">\n",
       "      <th></th>\n",
       "      <th>fos_name</th>\n",
       "      <th>fos_w</th>\n",
       "      <th>paper_id</th>\n",
       "    </tr>\n",
       "  </thead>\n",
       "  <tbody>\n",
       "    <tr>\n",
       "      <th>36206</th>\n",
       "      <td>Radius of curvature</td>\n",
       "      <td>0.0</td>\n",
       "      <td>162420740</td>\n",
       "    </tr>\n",
       "    <tr>\n",
       "      <th>36207</th>\n",
       "      <td>Radius of curvature</td>\n",
       "      <td>0.0</td>\n",
       "      <td>162420740</td>\n",
       "    </tr>\n",
       "    <tr>\n",
       "      <th>87997</th>\n",
       "      <td>Radius of curvature</td>\n",
       "      <td>0.0</td>\n",
       "      <td>1998680315</td>\n",
       "    </tr>\n",
       "    <tr>\n",
       "      <th>87998</th>\n",
       "      <td>Radius of curvature</td>\n",
       "      <td>0.0</td>\n",
       "      <td>1998680315</td>\n",
       "    </tr>\n",
       "    <tr>\n",
       "      <th>10042</th>\n",
       "      <td>Radius of curvature</td>\n",
       "      <td>0.0</td>\n",
       "      <td>2121529848</td>\n",
       "    </tr>\n",
       "    <tr>\n",
       "      <th>10045</th>\n",
       "      <td>Radius of curvature</td>\n",
       "      <td>0.0</td>\n",
       "      <td>2121529848</td>\n",
       "    </tr>\n",
       "    <tr>\n",
       "      <th>21819</th>\n",
       "      <td>Radius of curvature</td>\n",
       "      <td>0.0</td>\n",
       "      <td>2131733916</td>\n",
       "    </tr>\n",
       "    <tr>\n",
       "      <th>21821</th>\n",
       "      <td>Radius of curvature</td>\n",
       "      <td>0.0</td>\n",
       "      <td>2131733916</td>\n",
       "    </tr>\n",
       "  </tbody>\n",
       "</table>\n",
       "</div>"
      ],
      "text/plain": [
       "                  fos_name  fos_w    paper_id\n",
       "36206  Radius of curvature    0.0   162420740\n",
       "36207  Radius of curvature    0.0   162420740\n",
       "87997  Radius of curvature    0.0  1998680315\n",
       "87998  Radius of curvature    0.0  1998680315\n",
       "10042  Radius of curvature    0.0  2121529848\n",
       "10045  Radius of curvature    0.0  2121529848\n",
       "21819  Radius of curvature    0.0  2131733916\n",
       "21821  Radius of curvature    0.0  2131733916"
      ]
     },
     "execution_count": 9,
     "metadata": {},
     "output_type": "execute_result"
    }
   ],
   "source": [
    "check_duplicates(fos_df,['fos_name','fos_w','paper_id'])"
   ]
  },
  {
   "cell_type": "code",
   "execution_count": 10,
   "id": "a8b3e103-a208-449c-9f9d-68a365c33609",
   "metadata": {},
   "outputs": [
    {
     "name": "stdout",
     "output_type": "stream",
     "text": [
      "<class 'pandas.core.frame.DataFrame'>\n",
      "RangeIndex: 45029748 entries, 0 to 45029747\n",
      "Data columns (total 3 columns):\n",
      " #   Column    Non-Null Count     Dtype  \n",
      "---  ------    --------------     -----  \n",
      " 0   fos_name  45029748 non-null  object \n",
      " 1   fos_w     45029748 non-null  float64\n",
      " 2   paper_id  45029748 non-null  int64  \n",
      "dtypes: float64(1), int64(1), object(1)\n",
      "memory usage: 1.0+ GB\n"
     ]
    }
   ],
   "source": [
    "del_null_duplicates(fos_df)"
   ]
  },
  {
   "cell_type": "markdown",
   "id": "8a578922-baa3-49d5-b79f-593a5e9536ba",
   "metadata": {
    "tags": []
   },
   "source": [
    "## DataFrame per fos+analisi"
   ]
  },
  {
   "cell_type": "code",
   "execution_count": 12,
   "id": "f27e54d9-d738-4e6d-93e1-61913ade3113",
   "metadata": {},
   "outputs": [],
   "source": [
    "fos=fos_df[['fos_name']] "
   ]
  },
  {
   "cell_type": "code",
   "execution_count": 13,
   "id": "83c2c805-2a23-4307-8137-b8180bbfef87",
   "metadata": {},
   "outputs": [
    {
     "name": "stderr",
     "output_type": "stream",
     "text": [
      "/Users/autoteamchannel/Desktop/tesi/scripts/manipulate_df.py:12: SettingWithCopyWarning: \n",
      "A value is trying to be set on a copy of a slice from a DataFrame\n",
      "\n",
      "See the caveats in the documentation: https://pandas.pydata.org/pandas-docs/stable/user_guide/indexing.html#returning-a-view-versus-a-copy\n",
      "  df.dropna(axis='index', #effettua l'eliminazione lungo l'asse degli indici\n",
      "/Users/autoteamchannel/Desktop/tesi/scripts/manipulate_df.py:15: SettingWithCopyWarning: \n",
      "A value is trying to be set on a copy of a slice from a DataFrame\n",
      "\n",
      "See the caveats in the documentation: https://pandas.pydata.org/pandas-docs/stable/user_guide/indexing.html#returning-a-view-versus-a-copy\n",
      "  df.drop_duplicates(inplace=True, #effettua l'operazione sul dataframe anzichè restituire una copia\n"
     ]
    },
    {
     "name": "stdout",
     "output_type": "stream",
     "text": [
      "<class 'pandas.core.frame.DataFrame'>\n",
      "RangeIndex: 132337 entries, 0 to 132336\n",
      "Data columns (total 1 columns):\n",
      " #   Column    Non-Null Count   Dtype \n",
      "---  ------    --------------   ----- \n",
      " 0   fos_name  132337 non-null  object\n",
      "dtypes: object(1)\n",
      "memory usage: 1.0+ MB\n"
     ]
    }
   ],
   "source": [
    "del_null_duplicates(fos)"
   ]
  },
  {
   "cell_type": "code",
   "execution_count": 14,
   "id": "60f066c6-662d-43d2-aab5-145a2b95b69f",
   "metadata": {},
   "outputs": [
    {
     "name": "stderr",
     "output_type": "stream",
     "text": [
      "/var/folders/br/6gdrmps94h75yv4f9c5z85cc0000gp/T/ipykernel_1282/3145810717.py:2: SettingWithCopyWarning: \n",
      "A value is trying to be set on a copy of a slice from a DataFrame.\n",
      "Try using .loc[row_indexer,col_indexer] = value instead\n",
      "\n",
      "See the caveats in the documentation: https://pandas.pydata.org/pandas-docs/stable/user_guide/indexing.html#returning-a-view-versus-a-copy\n",
      "  fos['fos_id']=hash_df(fos,'int64')\n"
     ]
    }
   ],
   "source": [
    "#crea la colonna fos_id chiamando la funzione di hash sul dataframe fos\n",
    "fos['fos_id']=hash_df(fos,'int64')"
   ]
  },
  {
   "cell_type": "code",
   "execution_count": 113,
   "id": "27d31361-c37e-4ce2-aa68-ccc50fd93ebe",
   "metadata": {},
   "outputs": [
    {
     "name": "stdout",
     "output_type": "stream",
     "text": [
      "<class 'pandas.core.frame.DataFrame'>\n",
      "RangeIndex: 132337 entries, 0 to 132336\n",
      "Data columns (total 2 columns):\n",
      " #   Column    Non-Null Count   Dtype \n",
      "---  ------    --------------   ----- \n",
      " 0   fos_name  132337 non-null  object\n",
      " 1   fos_id    132337 non-null  int64 \n",
      "dtypes: int64(1), object(1)\n",
      "memory usage: 2.0+ MB\n"
     ]
    }
   ],
   "source": [
    "info(fos)"
   ]
  },
  {
   "cell_type": "markdown",
   "id": "edc5a148-926d-4045-91ba-f2a745a08a62",
   "metadata": {
    "tags": []
   },
   "source": [
    "## DataFrame per what+analisi"
   ]
  },
  {
   "cell_type": "code",
   "execution_count": 15,
   "id": "70f7a6c7-777d-4921-83a9-1e9c422dd46d",
   "metadata": {},
   "outputs": [],
   "source": [
    "#Esegue un merge sinistro con il DataFrame fos_df sulla colonna fos_name,\n",
    "#il risultato lo mette in un nuovo DataFrame what_df\n",
    "what_df=fos_df.merge(fos, how='left', on=['fos_name'])  "
   ]
  },
  {
   "cell_type": "code",
   "execution_count": 16,
   "id": "ad2ba9af-8512-4a5d-99af-f9745c92fab1",
   "metadata": {},
   "outputs": [],
   "source": [
    "#crea dataframe per what con solo le colonne di interesse\n",
    "what=what_df[['paper_id', 'fos_id','fos_w']] "
   ]
  },
  {
   "cell_type": "markdown",
   "id": "35d5a08d-cf97-44ab-bbd2-6ea77df2f5ff",
   "metadata": {
    "tags": []
   },
   "source": [
    "## Verifica dell'inconsistenza dei dati per il DataFrame What"
   ]
  },
  {
   "cell_type": "code",
   "execution_count": 17,
   "id": "350fabee-3dee-40d9-9204-08216ce5191c",
   "metadata": {},
   "outputs": [
    {
     "data": {
      "text/html": [
       "<div>\n",
       "<style scoped>\n",
       "    .dataframe tbody tr th:only-of-type {\n",
       "        vertical-align: middle;\n",
       "    }\n",
       "\n",
       "    .dataframe tbody tr th {\n",
       "        vertical-align: top;\n",
       "    }\n",
       "\n",
       "    .dataframe thead th {\n",
       "        text-align: right;\n",
       "    }\n",
       "</style>\n",
       "<table border=\"1\" class=\"dataframe\">\n",
       "  <thead>\n",
       "    <tr style=\"text-align: right;\">\n",
       "      <th></th>\n",
       "      <th>paper_id</th>\n",
       "      <th>fos_id</th>\n",
       "      <th>fos_w</th>\n",
       "    </tr>\n",
       "  </thead>\n",
       "  <tbody>\n",
       "    <tr>\n",
       "      <th>19217017</th>\n",
       "      <td>430170</td>\n",
       "      <td>1393614756898590201</td>\n",
       "      <td>0.59070</td>\n",
       "    </tr>\n",
       "    <tr>\n",
       "      <th>19217022</th>\n",
       "      <td>430170</td>\n",
       "      <td>1393614756898590201</td>\n",
       "      <td>0.47448</td>\n",
       "    </tr>\n",
       "    <tr>\n",
       "      <th>1202366</th>\n",
       "      <td>614894</td>\n",
       "      <td>1393614756898590201</td>\n",
       "      <td>0.53807</td>\n",
       "    </tr>\n",
       "    <tr>\n",
       "      <th>1202370</th>\n",
       "      <td>614894</td>\n",
       "      <td>1393614756898590201</td>\n",
       "      <td>0.44501</td>\n",
       "    </tr>\n",
       "    <tr>\n",
       "      <th>28281860</th>\n",
       "      <td>1766746</td>\n",
       "      <td>1393614756898590201</td>\n",
       "      <td>0.55512</td>\n",
       "    </tr>\n",
       "    <tr>\n",
       "      <th>...</th>\n",
       "      <td>...</td>\n",
       "      <td>...</td>\n",
       "      <td>...</td>\n",
       "    </tr>\n",
       "    <tr>\n",
       "      <th>26500491</th>\n",
       "      <td>3008751255</td>\n",
       "      <td>1393614756898590201</td>\n",
       "      <td>0.46877</td>\n",
       "    </tr>\n",
       "    <tr>\n",
       "      <th>26500594</th>\n",
       "      <td>3008753423</td>\n",
       "      <td>1393614756898590201</td>\n",
       "      <td>0.55394</td>\n",
       "    </tr>\n",
       "    <tr>\n",
       "      <th>26500596</th>\n",
       "      <td>3008753423</td>\n",
       "      <td>1393614756898590201</td>\n",
       "      <td>0.45041</td>\n",
       "    </tr>\n",
       "    <tr>\n",
       "      <th>26502687</th>\n",
       "      <td>3009022442</td>\n",
       "      <td>1393614756898590201</td>\n",
       "      <td>0.54205</td>\n",
       "    </tr>\n",
       "    <tr>\n",
       "      <th>26502689</th>\n",
       "      <td>3009022442</td>\n",
       "      <td>1393614756898590201</td>\n",
       "      <td>0.46790</td>\n",
       "    </tr>\n",
       "  </tbody>\n",
       "</table>\n",
       "<p>84922 rows × 3 columns</p>\n",
       "</div>"
      ],
      "text/plain": [
       "            paper_id               fos_id    fos_w\n",
       "19217017      430170  1393614756898590201  0.59070\n",
       "19217022      430170  1393614756898590201  0.47448\n",
       "1202366       614894  1393614756898590201  0.53807\n",
       "1202370       614894  1393614756898590201  0.44501\n",
       "28281860     1766746  1393614756898590201  0.55512\n",
       "...              ...                  ...      ...\n",
       "26500491  3008751255  1393614756898590201  0.46877\n",
       "26500594  3008753423  1393614756898590201  0.55394\n",
       "26500596  3008753423  1393614756898590201  0.45041\n",
       "26502687  3009022442  1393614756898590201  0.54205\n",
       "26502689  3009022442  1393614756898590201  0.46790\n",
       "\n",
       "[84922 rows x 3 columns]"
      ]
     },
     "execution_count": 17,
     "metadata": {},
     "output_type": "execute_result"
    }
   ],
   "source": [
    "#inconsistenza nei dati-ci sono gli stessi fos_id per lo stesso paper_id con fos_w diversi, \n",
    "#già eliminato quelli per cui fos_w=0 sopra\n",
    "check_duplicates(what,['paper_id','fos_id'])"
   ]
  },
  {
   "cell_type": "code",
   "execution_count": 18,
   "id": "46bcae75-dbd8-4911-969a-f00cd00307a6",
   "metadata": {},
   "outputs": [
    {
     "data": {
      "text/html": [
       "<div>\n",
       "<style scoped>\n",
       "    .dataframe tbody tr th:only-of-type {\n",
       "        vertical-align: middle;\n",
       "    }\n",
       "\n",
       "    .dataframe tbody tr th {\n",
       "        vertical-align: top;\n",
       "    }\n",
       "\n",
       "    .dataframe thead th {\n",
       "        text-align: right;\n",
       "    }\n",
       "</style>\n",
       "<table border=\"1\" class=\"dataframe\">\n",
       "  <thead>\n",
       "    <tr style=\"text-align: right;\">\n",
       "      <th></th>\n",
       "      <th>fos_name</th>\n",
       "      <th>fos_w</th>\n",
       "      <th>paper_id</th>\n",
       "    </tr>\n",
       "  </thead>\n",
       "  <tbody>\n",
       "    <tr>\n",
       "      <th>18135081</th>\n",
       "      <td>Astigmatism</td>\n",
       "      <td>0.66538</td>\n",
       "      <td>204997851</td>\n",
       "    </tr>\n",
       "    <tr>\n",
       "      <th>18135082</th>\n",
       "      <td>Astigmatism</td>\n",
       "      <td>0.72689</td>\n",
       "      <td>204997851</td>\n",
       "    </tr>\n",
       "    <tr>\n",
       "      <th>11410030</th>\n",
       "      <td>Asymptotic analysis</td>\n",
       "      <td>0.80121</td>\n",
       "      <td>27097632</td>\n",
       "    </tr>\n",
       "    <tr>\n",
       "      <th>11410031</th>\n",
       "      <td>Asymptotic analysis</td>\n",
       "      <td>0.76464</td>\n",
       "      <td>27097632</td>\n",
       "    </tr>\n",
       "    <tr>\n",
       "      <th>38603528</th>\n",
       "      <td>Asymptotic analysis</td>\n",
       "      <td>0.58493</td>\n",
       "      <td>47018828</td>\n",
       "    </tr>\n",
       "    <tr>\n",
       "      <th>...</th>\n",
       "      <td>...</td>\n",
       "      <td>...</td>\n",
       "      <td>...</td>\n",
       "    </tr>\n",
       "    <tr>\n",
       "      <th>40650141</th>\n",
       "      <td>UML state machine</td>\n",
       "      <td>0.70119</td>\n",
       "      <td>2401885247</td>\n",
       "    </tr>\n",
       "    <tr>\n",
       "      <th>12305969</th>\n",
       "      <td>Ultrafiltration</td>\n",
       "      <td>0.46539</td>\n",
       "      <td>1973855211</td>\n",
       "    </tr>\n",
       "    <tr>\n",
       "      <th>12305970</th>\n",
       "      <td>Ultrafiltration</td>\n",
       "      <td>0.46091</td>\n",
       "      <td>1973855211</td>\n",
       "    </tr>\n",
       "    <tr>\n",
       "      <th>3408043</th>\n",
       "      <td>Ultrafiltration</td>\n",
       "      <td>0.48233</td>\n",
       "      <td>2065517646</td>\n",
       "    </tr>\n",
       "    <tr>\n",
       "      <th>3408044</th>\n",
       "      <td>Ultrafiltration</td>\n",
       "      <td>0.46963</td>\n",
       "      <td>2065517646</td>\n",
       "    </tr>\n",
       "  </tbody>\n",
       "</table>\n",
       "<p>84922 rows × 3 columns</p>\n",
       "</div>"
      ],
      "text/plain": [
       "                     fos_name    fos_w    paper_id\n",
       "18135081          Astigmatism  0.66538   204997851\n",
       "18135082          Astigmatism  0.72689   204997851\n",
       "11410030  Asymptotic analysis  0.80121    27097632\n",
       "11410031  Asymptotic analysis  0.76464    27097632\n",
       "38603528  Asymptotic analysis  0.58493    47018828\n",
       "...                       ...      ...         ...\n",
       "40650141    UML state machine  0.70119  2401885247\n",
       "12305969      Ultrafiltration  0.46539  1973855211\n",
       "12305970      Ultrafiltration  0.46091  1973855211\n",
       "3408043       Ultrafiltration  0.48233  2065517646\n",
       "3408044       Ultrafiltration  0.46963  2065517646\n",
       "\n",
       "[84922 rows x 3 columns]"
      ]
     },
     "execution_count": 18,
     "metadata": {},
     "output_type": "execute_result"
    }
   ],
   "source": [
    "#verifica quali sono i duplicati , stesso fos_name associato allo stesso paper_id con fos_w diversi\n",
    "fos_duplicated=check_duplicates(fos_df,['fos_name','paper_id'])\n",
    "fos_duplicated"
   ]
  },
  {
   "cell_type": "code",
   "execution_count": 69,
   "id": "1bff0a11-17dd-40b8-8908-0e261302deb9",
   "metadata": {},
   "outputs": [
    {
     "data": {
      "text/plain": [
       "array(['Astigmatism', 'Asymptotic analysis', 'Breathing',\n",
       "       'Comprehensive income', 'Conjoint analysis', 'Control theory',\n",
       "       'Convex cone', 'Dynamic braking', 'Latency (engineering)',\n",
       "       'Lexical analysis', 'Noise', 'Reliability (statistics)',\n",
       "       'Social exclusion', 'UML state machine', 'Ultrafiltration'],\n",
       "      dtype=object)"
      ]
     },
     "execution_count": 69,
     "metadata": {},
     "output_type": "execute_result"
    }
   ],
   "source": [
    "#verifica quali sono i fos_name duplicati\n",
    "fos_duplicated['fos_name'].unique()"
   ]
  },
  {
   "cell_type": "code",
   "execution_count": 19,
   "id": "b5ddd786-1aba-4288-8c9d-d62c87d54950",
   "metadata": {},
   "outputs": [
    {
     "name": "stdout",
     "output_type": "stream",
     "text": [
      "<class 'pandas.core.frame.DataFrame'>\n",
      "Int64Index: 45029748 entries, 0 to 45029747\n",
      "Data columns (total 3 columns):\n",
      " #   Column    Non-Null Count     Dtype  \n",
      "---  ------    --------------     -----  \n",
      " 0   paper_id  45029748 non-null  int64  \n",
      " 1   fos_id    45029748 non-null  int64  \n",
      " 2   fos_w     45029748 non-null  float64\n",
      "dtypes: float64(1), int64(2)\n",
      "memory usage: 1.3 GB\n"
     ]
    }
   ],
   "source": [
    "info(what)"
   ]
  },
  {
   "cell_type": "markdown",
   "id": "0b682aaf-c8af-4015-a9a9-0f8422324980",
   "metadata": {
    "tags": []
   },
   "source": [
    "## Connessione al DB"
   ]
  },
  {
   "cell_type": "code",
   "execution_count": 100,
   "id": "7baf02d3-f773-47a9-95cb-6c3ea25b360b",
   "metadata": {},
   "outputs": [
    {
     "data": {
      "text/plain": [
       "132337"
      ]
     },
     "execution_count": 100,
     "metadata": {},
     "output_type": "execute_result"
    }
   ],
   "source": [
    "#esporta i DataFrame nelle rispettive tabelle create in pgAdmin\n",
    "connect_db(fos,'fos')"
   ]
  },
  {
   "cell_type": "code",
   "execution_count": 20,
   "id": "a9eb8e45-a0dd-45d3-bb19-2db1d6c3ac28",
   "metadata": {},
   "outputs": [
    {
     "data": {
      "text/plain": [
       "45029748"
      ]
     },
     "execution_count": 20,
     "metadata": {},
     "output_type": "execute_result"
    }
   ],
   "source": [
    "connect_db(what,'what')"
   ]
  },
  {
   "cell_type": "markdown",
   "id": "a212690b-f9af-4a5a-8d9a-b155a62c51a2",
   "metadata": {
    "tags": []
   },
   "source": [
    "# Controllo che il nr. dei record corrisponda al nr. di righe per ogni DataFrame"
   ]
  },
  {
   "cell_type": "code",
   "execution_count": 84,
   "id": "041484be-cf88-4f84-b632-1a0aa8f59dc8",
   "metadata": {
    "tags": []
   },
   "outputs": [
    {
     "name": "stdout",
     "output_type": "stream",
     "text": [
      "Tabella paper:\n",
      "\n",
      "Nr righe non nulle per paper_id = 4894063\n",
      "                    \n",
      "Nr righe non nulle per title = 4894063\n",
      "                    \n",
      "Nr righe non nulle per year = 4894063\n",
      "                    \n",
      "Nr righe non nulle per n_citation = 4894063\n",
      "                    \n",
      "Nr righe non nulle per page_start = 4356226\n",
      "                    \n",
      "Nr righe non nulle per page_end = 4112329\n",
      "                    \n",
      "Nr righe non nulle per doc_type = 4394622\n",
      "                    \n",
      "Nr righe non nulle per publisher = 4134190\n",
      "                    \n",
      "Nr righe non nulle per volume = 2183176\n",
      "                    \n",
      "Nr righe non nulle per issue = 1618242\n",
      "                    \n",
      "Nr righe non nulle per doi = 3920939\n",
      "                    \n",
      "Nr righe non nulle per abstract = 4232504\n",
      "                    \n",
      "Nr righe non nulle per nb_references = 4894063\n",
      "                    \n",
      "Nr righe non nulle per venue_id_new = 4820973\n",
      "                    \n",
      "\n",
      "Tabella venue:\n",
      "\n",
      "Nr righe non nulle per venue_id = 10480\n",
      "                    \n",
      "Nr righe non nulle per venue_raw = 49201\n",
      "                    \n",
      "Nr righe non nulle per venue_type = 10482\n",
      "                    \n",
      "Nr righe non nulle per venue_id_new = 49202\n",
      "                    \n",
      "\n",
      "Tabella reference:\n",
      "\n",
      "Nr righe non nulle per paper_id = 45564149\n",
      "                    \n",
      "Nr righe non nulle per referenced = 45564149\n",
      "                    \n",
      "\n",
      "Tabella with_alias:\n",
      "\n",
      "Nr righe non nulle per paper_id = 77909\n",
      "                    \n",
      "Nr righe non nulle per alias_ids = 77909\n",
      "                    \n",
      "\n",
      "Tabella alias_id:\n",
      "\n",
      "Nr righe non nulle = 77909\n",
      "\n"
     ]
    }
   ],
   "source": [
    "count_row_from_db(paper,'paper')\n",
    "count_row_from_db(venue,'venue')\n",
    "count_row_from_db(reference,'reference')\n",
    "count_row_from_db(with_alias,'with_alias')\n",
    "count_row_from_db(alias_id,'alias_id')"
   ]
  },
  {
   "cell_type": "code",
   "execution_count": null,
   "id": "ad8108ba-9b0f-4e59-a09e-9711c091bede",
   "metadata": {},
   "outputs": [
    {
     "name": "stdout",
     "output_type": "stream",
     "text": [
      "Tabella author:\n",
      "\n",
      "Nr righe non nulle per author_id = 4398138\n",
      "                    \n",
      "Nr righe non nulle per author_name = 4398138\n",
      "                    \n",
      "\n",
      "Tabella author_extended:\n",
      "\n",
      "Nr righe non nulle per author_id = 5070852\n",
      "                    \n",
      "Nr righe non nulle per author_name = 5070852\n",
      "                    \n",
      "\n",
      "Tabella who:\n",
      "\n",
      "Nr righe non nulle per paper_id = 14934850\n",
      "                    \n",
      "Nr righe non nulle per author_id = 14934850\n",
      "                    \n",
      "Nr righe non nulle per author_org = 11361508\n",
      "                    \n",
      "\n"
     ]
    }
   ],
   "source": [
    "count_row_from_db(author,'author')\n",
    "count_row_from_db(author_extended,'author_extended')\n",
    "count_row_from_db(who,'who')"
   ]
  },
  {
   "cell_type": "code",
   "execution_count": 86,
   "id": "a447ad47-a4cb-49c0-aec6-deb7fff897e4",
   "metadata": {},
   "outputs": [
    {
     "name": "stdout",
     "output_type": "stream",
     "text": [
      "Tabella fos:\n",
      "\n",
      "Nr righe non nulle per fos_name = 132337\n",
      "                    \n",
      "Nr righe non nulle per fos_id = 132337\n",
      "                    \n",
      "\n",
      "Tabella what:\n",
      "\n",
      "Nr righe non nulle per paper_id = 45029748\n",
      "                    \n",
      "Nr righe non nulle per fos_id = 45029748\n",
      "                    \n",
      "Nr righe non nulle per fos_w = 45029748\n",
      "                    \n",
      "\n"
     ]
    }
   ],
   "source": [
    "count_row_from_db(fos,'fos')\n",
    "count_row_from_db(what,'what')"
   ]
  }
 ],
 "metadata": {
  "kernelspec": {
   "display_name": "Python 3 (ipykernel)",
   "language": "python",
   "name": "python3"
  },
  "language_info": {
   "codemirror_mode": {
    "name": "ipython",
    "version": 3
   },
   "file_extension": ".py",
   "mimetype": "text/x-python",
   "name": "python",
   "nbconvert_exporter": "python",
   "pygments_lexer": "ipython3",
   "version": "3.9.12"
  }
 },
 "nbformat": 4,
 "nbformat_minor": 5
}
